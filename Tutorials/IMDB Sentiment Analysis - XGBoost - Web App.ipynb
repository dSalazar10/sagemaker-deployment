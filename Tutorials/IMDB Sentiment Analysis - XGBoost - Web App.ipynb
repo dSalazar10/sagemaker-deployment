{
 "cells": [
  {
   "cell_type": "markdown",
   "metadata": {},
   "source": [
    "# Sentiment Analysis Web App\n",
    "\n",
    "_Deep Learning Nanodegree Program | Deployment_\n",
    "\n",
    "---\n",
    "\n",
    "In this notebook we will use Amazon's SageMaker service to construct a random tree model to predict the sentiment of a movie review. In addition, we will deploy this model to an endpoint and construct a very simple web app which will interact with our model's deployed endpoint.\n",
    "\n",
    "## General Outline\n",
    "\n",
    "Typically, when using a notebook instance with SageMaker, you will proceed through the following steps. Of course, not every step will need to be done with each project. Also, there is quite a lot of room for variation in many of the steps, as you will see throughout these lessons.\n",
    "\n",
    "1. Download or otherwise retrieve the data.\n",
    "2. Process / Prepare the data.\n",
    "3. Upload the processed data to S3.\n",
    "4. Train a chosen model.\n",
    "5. Test the trained model (typically using a batch transform job).\n",
    "6. Deploy the trained model.\n",
    "7. Use the deployed model.\n",
    "\n",
    "In this notebook we will progress through each of the steps above. We will also see that the final step, using the deployed model, can be quite challenging."
   ]
  },
  {
   "cell_type": "markdown",
   "metadata": {},
   "source": [
    "## Step 1: Downloading the data\n",
    "\n",
    "The dataset we are going to use is very popular among researchers in Natural Language Processing, usually referred to as the [IMDb dataset](http://ai.stanford.edu/~amaas/data/sentiment/). It consists of movie reviews from the website [imdb.com](http://www.imdb.com/), each labeled as either '**pos**itive', if the reviewer enjoyed the film, or '**neg**ative' otherwise.\n",
    "\n",
    "> Maas, Andrew L., et al. [Learning Word Vectors for Sentiment Analysis](http://ai.stanford.edu/~amaas/data/sentiment/). In _Proceedings of the 49th Annual Meeting of the Association for Computational Linguistics: Human Language Technologies_. Association for Computational Linguistics, 2011.\n",
    "\n",
    "We begin by using some Jupyter Notebook magic to download and extract the dataset."
   ]
  },
  {
   "cell_type": "code",
   "execution_count": 1,
   "metadata": {},
   "outputs": [
    {
     "name": "stdout",
     "output_type": "stream",
     "text": [
      "--2020-07-08 01:50:28--  http://ai.stanford.edu/~amaas/data/sentiment/aclImdb_v1.tar.gz\n",
      "Resolving ai.stanford.edu (ai.stanford.edu)... 171.64.68.10\n",
      "Connecting to ai.stanford.edu (ai.stanford.edu)|171.64.68.10|:80... connected.\n",
      "HTTP request sent, awaiting response... 200 OK\n",
      "Length: 84125825 (80M) [application/x-gzip]\n",
      "Saving to: ‘../data/aclImdb_v1.tar.gz’\n",
      "\n",
      "../data/aclImdb_v1. 100%[===================>]  80.23M  41.7MB/s    in 1.9s    \n",
      "\n",
      "2020-07-08 01:50:30 (41.7 MB/s) - ‘../data/aclImdb_v1.tar.gz’ saved [84125825/84125825]\n",
      "\n"
     ]
    }
   ],
   "source": [
    "%mkdir ../data\n",
    "!wget -O ../data/aclImdb_v1.tar.gz http://ai.stanford.edu/~amaas/data/sentiment/aclImdb_v1.tar.gz\n",
    "!tar -zxf ../data/aclImdb_v1.tar.gz -C ../data"
   ]
  },
  {
   "cell_type": "markdown",
   "metadata": {},
   "source": [
    "## Step 2: Preparing and Processing the data\n",
    "\n",
    "The data we have downloaded is split into various files, each of which contains a single review. It will be much easier going forward if we combine these individual files into two large files, one for training and one for testing."
   ]
  },
  {
   "cell_type": "code",
   "execution_count": 2,
   "metadata": {},
   "outputs": [],
   "source": [
    "import os\n",
    "import glob\n",
    "\n",
    "def read_imdb_data(data_dir='../data/aclImdb'):\n",
    "    data = {}\n",
    "    labels = {}\n",
    "    \n",
    "    for data_type in ['train', 'test']:\n",
    "        data[data_type] = {}\n",
    "        labels[data_type] = {}\n",
    "        \n",
    "        for sentiment in ['pos', 'neg']:\n",
    "            data[data_type][sentiment] = []\n",
    "            labels[data_type][sentiment] = []\n",
    "            \n",
    "            path = os.path.join(data_dir, data_type, sentiment, '*.txt')\n",
    "            files = glob.glob(path)\n",
    "            \n",
    "            for f in files:\n",
    "                with open(f) as review:\n",
    "                    data[data_type][sentiment].append(review.read())\n",
    "                    # Here we represent a positive review by '1' and a negative review by '0'\n",
    "                    labels[data_type][sentiment].append(1 if sentiment == 'pos' else 0)\n",
    "                    \n",
    "            assert len(data[data_type][sentiment]) == len(labels[data_type][sentiment]), \\\n",
    "                    \"{}/{} data size does not match labels size\".format(data_type, sentiment)\n",
    "                \n",
    "    return data, labels"
   ]
  },
  {
   "cell_type": "code",
   "execution_count": 3,
   "metadata": {},
   "outputs": [
    {
     "name": "stdout",
     "output_type": "stream",
     "text": [
      "IMDB reviews: train = 12500 pos / 12500 neg, test = 12500 pos / 12500 neg\n"
     ]
    }
   ],
   "source": [
    "data, labels = read_imdb_data()\n",
    "print(\"IMDB reviews: train = {} pos / {} neg, test = {} pos / {} neg\".format(\n",
    "            len(data['train']['pos']), len(data['train']['neg']),\n",
    "            len(data['test']['pos']), len(data['test']['neg'])))"
   ]
  },
  {
   "cell_type": "code",
   "execution_count": 4,
   "metadata": {},
   "outputs": [],
   "source": [
    "from sklearn.utils import shuffle\n",
    "\n",
    "def prepare_imdb_data(data, labels):\n",
    "    \"\"\"Prepare training and test sets from IMDb movie reviews.\"\"\"\n",
    "    \n",
    "    #Combine positive and negative reviews and labels\n",
    "    data_train = data['train']['pos'] + data['train']['neg']\n",
    "    data_test = data['test']['pos'] + data['test']['neg']\n",
    "    labels_train = labels['train']['pos'] + labels['train']['neg']\n",
    "    labels_test = labels['test']['pos'] + labels['test']['neg']\n",
    "    \n",
    "    #Shuffle reviews and corresponding labels within training and test sets\n",
    "    data_train, labels_train = shuffle(data_train, labels_train)\n",
    "    data_test, labels_test = shuffle(data_test, labels_test)\n",
    "    \n",
    "    # Return a unified training data, test data, training labels, test labets\n",
    "    return data_train, data_test, labels_train, labels_test"
   ]
  },
  {
   "cell_type": "code",
   "execution_count": 5,
   "metadata": {},
   "outputs": [
    {
     "name": "stdout",
     "output_type": "stream",
     "text": [
      "IMDb reviews (combined): train = 25000, test = 25000\n"
     ]
    }
   ],
   "source": [
    "train_X, test_X, train_y, test_y = prepare_imdb_data(data, labels)\n",
    "print(\"IMDb reviews (combined): train = {}, test = {}\".format(len(train_X), len(test_X)))"
   ]
  },
  {
   "cell_type": "code",
   "execution_count": 6,
   "metadata": {},
   "outputs": [
    {
     "data": {
      "text/plain": [
       "'Cracking good yarn with all the actors giving great value. Michael Curtiz at his best. Lots of nice twists and turns and probably the best of the Philo Vance series. William Powell looks wonderfully relaxed and at his debonair best. A forerunner to the Thin Man series. Recommend to everyone. Did you figure it all out?'"
      ]
     },
     "execution_count": 6,
     "metadata": {},
     "output_type": "execute_result"
    }
   ],
   "source": [
    "train_X[100]"
   ]
  },
  {
   "cell_type": "markdown",
   "metadata": {},
   "source": [
    "## Processing the data\n",
    "\n",
    "Now that we have our training and testing datasets merged and ready to use, we need to start processing the raw data into something that will be useable by our machine learning algorithm. To begin with, we remove any html formatting and any non-alpha numeric characters that may appear in the reviews. We will do this in a very simplistic way using Python's regular expression module. We will discuss the reason for this rather simplistic pre-processing later on."
   ]
  },
  {
   "cell_type": "code",
   "execution_count": 7,
   "metadata": {},
   "outputs": [],
   "source": [
    "import re\n",
    "\n",
    "REPLACE_NO_SPACE = re.compile(\"(\\.)|(\\;)|(\\:)|(\\!)|(\\')|(\\?)|(\\,)|(\\\")|(\\()|(\\))|(\\[)|(\\])\")\n",
    "REPLACE_WITH_SPACE = re.compile(\"(<br\\s*/><br\\s*/>)|(\\-)|(\\/)\")\n",
    "\n",
    "def review_to_words(review):\n",
    "    words = REPLACE_NO_SPACE.sub(\"\", review.lower())\n",
    "    words = REPLACE_WITH_SPACE.sub(\" \", words)\n",
    "    return words"
   ]
  },
  {
   "cell_type": "code",
   "execution_count": 8,
   "metadata": {},
   "outputs": [
    {
     "data": {
      "text/plain": [
       "'cracking good yarn with all the actors giving great value michael curtiz at his best lots of nice twists and turns and probably the best of the philo vance series william powell looks wonderfully relaxed and at his debonair best a forerunner to the thin man series recommend to everyone did you figure it all out'"
      ]
     },
     "execution_count": 8,
     "metadata": {},
     "output_type": "execute_result"
    }
   ],
   "source": [
    "review_to_words(train_X[100])"
   ]
  },
  {
   "cell_type": "code",
   "execution_count": 9,
   "metadata": {},
   "outputs": [],
   "source": [
    "import pickle\n",
    "\n",
    "cache_dir = os.path.join(\"../cache\", \"sentiment_web_app\")  # where to store cache files\n",
    "os.makedirs(cache_dir, exist_ok=True)  # ensure cache directory exists\n",
    "\n",
    "def preprocess_data(data_train, data_test, labels_train, labels_test,\n",
    "                    cache_dir=cache_dir, cache_file=\"preprocessed_data.pkl\"):\n",
    "    \"\"\"Convert each review to words; read from cache if available.\"\"\"\n",
    "\n",
    "    # If cache_file is not None, try to read from it first\n",
    "    cache_data = None\n",
    "    if cache_file is not None:\n",
    "        try:\n",
    "            with open(os.path.join(cache_dir, cache_file), \"rb\") as f:\n",
    "                cache_data = pickle.load(f)\n",
    "            print(\"Read preprocessed data from cache file:\", cache_file)\n",
    "        except:\n",
    "            pass  # unable to read from cache, but that's okay\n",
    "    \n",
    "    # If cache is missing, then do the heavy lifting\n",
    "    if cache_data is None:\n",
    "        # Preprocess training and test data to obtain words for each review\n",
    "        #words_train = list(map(review_to_words, data_train))\n",
    "        #words_test = list(map(review_to_words, data_test))\n",
    "        words_train = [review_to_words(review) for review in data_train]\n",
    "        words_test = [review_to_words(review) for review in data_test]\n",
    "        \n",
    "        # Write to cache file for future runs\n",
    "        if cache_file is not None:\n",
    "            cache_data = dict(words_train=words_train, words_test=words_test,\n",
    "                              labels_train=labels_train, labels_test=labels_test)\n",
    "            with open(os.path.join(cache_dir, cache_file), \"wb\") as f:\n",
    "                pickle.dump(cache_data, f)\n",
    "            print(\"Wrote preprocessed data to cache file:\", cache_file)\n",
    "    else:\n",
    "        # Unpack data loaded from cache file\n",
    "        words_train, words_test, labels_train, labels_test = (cache_data['words_train'],\n",
    "                cache_data['words_test'], cache_data['labels_train'], cache_data['labels_test'])\n",
    "    \n",
    "    return words_train, words_test, labels_train, labels_test"
   ]
  },
  {
   "cell_type": "code",
   "execution_count": 10,
   "metadata": {},
   "outputs": [
    {
     "name": "stdout",
     "output_type": "stream",
     "text": [
      "Wrote preprocessed data to cache file: preprocessed_data.pkl\n"
     ]
    }
   ],
   "source": [
    "# Preprocess data\n",
    "train_X, test_X, train_y, test_y = preprocess_data(train_X, test_X, train_y, test_y)"
   ]
  },
  {
   "cell_type": "markdown",
   "metadata": {},
   "source": [
    "### Extract Bag-of-Words features\n",
    "\n",
    "For the model we will be implementing, rather than using the reviews directly, we are going to transform each review into a Bag-of-Words feature representation. Keep in mind that 'in the wild' we will only have access to the training set so our transformer can only use the training set to construct a representation."
   ]
  },
  {
   "cell_type": "code",
   "execution_count": 11,
   "metadata": {},
   "outputs": [],
   "source": [
    "import numpy as np\n",
    "from sklearn.feature_extraction.text import CountVectorizer\n",
    "from sklearn.externals import joblib\n",
    "# joblib is an enhanced version of pickle that is more efficient for storing NumPy arrays\n",
    "\n",
    "def extract_BoW_features(words_train, words_test, vocabulary_size=5000,\n",
    "                         cache_dir=cache_dir, cache_file=\"bow_features.pkl\"):\n",
    "    \"\"\"Extract Bag-of-Words for a given set of documents, already preprocessed into words.\"\"\"\n",
    "    \n",
    "    # If cache_file is not None, try to read from it first\n",
    "    cache_data = None\n",
    "    if cache_file is not None:\n",
    "        try:\n",
    "            with open(os.path.join(cache_dir, cache_file), \"rb\") as f:\n",
    "                cache_data = joblib.load(f)\n",
    "            print(\"Read features from cache file:\", cache_file)\n",
    "        except:\n",
    "            pass  # unable to read from cache, but that's okay\n",
    "    \n",
    "    # If cache is missing, then do the heavy lifting\n",
    "    if cache_data is None:\n",
    "        # Fit a vectorizer to training documents and use it to transform them\n",
    "        # NOTE: Training documents have already been preprocessed and tokenized into words;\n",
    "        #       pass in dummy functions to skip those steps, e.g. preprocessor=lambda x: x\n",
    "        vectorizer = CountVectorizer(max_features=vocabulary_size)\n",
    "        features_train = vectorizer.fit_transform(words_train).toarray()\n",
    "\n",
    "        # Apply the same vectorizer to transform the test documents (ignore unknown words)\n",
    "        features_test = vectorizer.transform(words_test).toarray()\n",
    "        \n",
    "        # NOTE: Remember to convert the features using .toarray() for a compact representation\n",
    "        \n",
    "        # Write to cache file for future runs (store vocabulary as well)\n",
    "        if cache_file is not None:\n",
    "            vocabulary = vectorizer.vocabulary_\n",
    "            cache_data = dict(features_train=features_train, features_test=features_test,\n",
    "                             vocabulary=vocabulary)\n",
    "            with open(os.path.join(cache_dir, cache_file), \"wb\") as f:\n",
    "                joblib.dump(cache_data, f)\n",
    "            print(\"Wrote features to cache file:\", cache_file)\n",
    "    else:\n",
    "        # Unpack data loaded from cache file\n",
    "        features_train, features_test, vocabulary = (cache_data['features_train'],\n",
    "                cache_data['features_test'], cache_data['vocabulary'])\n",
    "    \n",
    "    # Return both the extracted features as well as the vocabulary\n",
    "    return features_train, features_test, vocabulary"
   ]
  },
  {
   "cell_type": "code",
   "execution_count": 12,
   "metadata": {},
   "outputs": [
    {
     "name": "stdout",
     "output_type": "stream",
     "text": [
      "Wrote features to cache file: bow_features.pkl\n"
     ]
    }
   ],
   "source": [
    "# Extract Bag of Words features for both training and test datasets\n",
    "train_X, test_X, vocabulary = extract_BoW_features(train_X, test_X)"
   ]
  },
  {
   "cell_type": "code",
   "execution_count": 13,
   "metadata": {},
   "outputs": [
    {
     "data": {
      "text/plain": [
       "5000"
      ]
     },
     "execution_count": 13,
     "metadata": {},
     "output_type": "execute_result"
    }
   ],
   "source": [
    "len(train_X[100])"
   ]
  },
  {
   "cell_type": "markdown",
   "metadata": {},
   "source": [
    "## Step 3: Upload data to S3\n",
    "\n",
    "Now that we have created the feature representation of our training (and testing) data, it is time to start setting up and using the XGBoost classifier provided by SageMaker.\n",
    "\n",
    "### Writing the datasets\n",
    "\n",
    "The XGBoost classifier that we will be using requires the dataset to be written to a file and stored using Amazon S3. To do this, we will start by splitting the training dataset into two parts, the data we will train the model with and a validation set. Then, we will write those datasets to a file locally and then upload the files to S3. In addition, we will write the test set to a file and upload that file to S3. This is so that we can use SageMakers Batch Transform functionality to test our model once we've fit it."
   ]
  },
  {
   "cell_type": "code",
   "execution_count": 14,
   "metadata": {},
   "outputs": [],
   "source": [
    "import pandas as pd\n",
    "\n",
    "# Earlier we shuffled the training dataset so to make things simple we can just assign\n",
    "# the first 10 000 reviews to the validation set and use the remaining reviews for training.\n",
    "val_X = pd.DataFrame(train_X[:10000])\n",
    "train_X = pd.DataFrame(train_X[10000:])\n",
    "\n",
    "val_y = pd.DataFrame(train_y[:10000])\n",
    "train_y = pd.DataFrame(train_y[10000:])"
   ]
  },
  {
   "cell_type": "markdown",
   "metadata": {},
   "source": [
    "The documentation for the XGBoost algorithm in SageMaker requires that the training and validation datasets should contain no headers or index and that the label should occur first for each sample.\n",
    "\n",
    "For more information about this and other algorithms, the SageMaker developer documentation can be found on __[Amazon's website.](https://docs.aws.amazon.com/sagemaker/latest/dg/)__"
   ]
  },
  {
   "cell_type": "code",
   "execution_count": 15,
   "metadata": {},
   "outputs": [],
   "source": [
    "# First we make sure that the local directory in which we'd like to store the training and validation csv files exists.\n",
    "data_dir = '../data/sentiment_web_app'\n",
    "if not os.path.exists(data_dir):\n",
    "    os.makedirs(data_dir)"
   ]
  },
  {
   "cell_type": "code",
   "execution_count": 16,
   "metadata": {},
   "outputs": [],
   "source": [
    "pd.DataFrame(test_X).to_csv(os.path.join(data_dir, 'test.csv'), header=False, index=False)\n",
    "\n",
    "pd.concat([val_y, val_X], axis=1).to_csv(os.path.join(data_dir, 'validation.csv'), header=False, index=False)\n",
    "pd.concat([train_y, train_X], axis=1).to_csv(os.path.join(data_dir, 'train.csv'), header=False, index=False)"
   ]
  },
  {
   "cell_type": "code",
   "execution_count": 17,
   "metadata": {},
   "outputs": [],
   "source": [
    "# To save a bit of memory we can set text_X, train_X, val_X, train_y and val_y to None.\n",
    "\n",
    "test_X = train_X = val_X = train_y = val_y = None"
   ]
  },
  {
   "cell_type": "markdown",
   "metadata": {},
   "source": [
    "### Uploading Training / Validation files to S3\n",
    "\n",
    "Amazon's S3 service allows us to store files that can be accessed by both the built-in training models such as the XGBoost model we will be using as well as custom models such as the one we will see a little later.\n",
    "\n",
    "For this and most other tasks we will be doing using SageMaker, there are two methods we could use. The first is to use the low level functionality of SageMaker which requires knowing each of the objects involved in the SageMaker environment. The second is to use the high level functionality in which certain choices have been made on the user's behalf. The low level approach benefits from allowing the user a great deal of flexibility while the high level approach makes development much quicker. For our purposes we will opt to use the high level approach although using the low-level approach is certainly an option.\n",
    "\n",
    "Recall the method `upload_data()` which is a member of the object representing our current SageMaker session. What this method does is upload the data to the default bucket (which is created if it does not exist) into the path described by the key_prefix variable. To see this for yourself, once you have uploaded the data files, go to the S3 console and look to see where the files have been uploaded.\n",
    "\n",
    "For additional resources, see the __[SageMaker API documentation](http://sagemaker.readthedocs.io/en/latest/)__ and in addition the __[SageMaker Developer Guide.](https://docs.aws.amazon.com/sagemaker/latest/dg/)__"
   ]
  },
  {
   "cell_type": "code",
   "execution_count": 18,
   "metadata": {},
   "outputs": [],
   "source": [
    "import sagemaker\n",
    "\n",
    "session = sagemaker.Session() # Store the current SageMaker session\n",
    "\n",
    "# S3 prefix (which folder will we use)\n",
    "prefix = 'sentiment-web-app'\n",
    "\n",
    "test_location = session.upload_data(os.path.join(data_dir, 'test.csv'), key_prefix=prefix)\n",
    "val_location = session.upload_data(os.path.join(data_dir, 'validation.csv'), key_prefix=prefix)\n",
    "train_location = session.upload_data(os.path.join(data_dir, 'train.csv'), key_prefix=prefix)"
   ]
  },
  {
   "cell_type": "markdown",
   "metadata": {},
   "source": [
    "## Step 4: Creating the XGBoost model\n",
    "\n",
    "Now that the data has been uploaded it is time to create the XGBoost model. To begin with, we need to do some setup. At this point it is worth discussing what a model is in SageMaker. It is easiest to think of a model of comprising three different objects in the SageMaker ecosystem, which interact with one another.\n",
    "\n",
    "- Model Artifacts\n",
    "- Training Code (Container)\n",
    "- Inference Code (Container)\n",
    "\n",
    "The Model Artifacts are what you might think of as the actual model itself. For example, if you were building a neural network, the model artifacts would be the weights of the various layers. In our case, for an XGBoost model, the artifacts are the actual trees that are created during training.\n",
    "\n",
    "The other two objects, the training code and the inference code are then used to manipulate the training artifacts. More precisely, the training code uses the training data that is provided and creates the model artifacts, while the inference code uses the model artifacts to make predictions on new data.\n",
    "\n",
    "The way that SageMaker runs the training and inference code is by making use of Docker containers. For now, think of a container as being a way of packaging code up so that dependencies aren't an issue."
   ]
  },
  {
   "cell_type": "code",
   "execution_count": 19,
   "metadata": {},
   "outputs": [],
   "source": [
    "from sagemaker import get_execution_role\n",
    "\n",
    "# Our current execution role is required when creating the model as the training\n",
    "# and inference code will need to access the model artifacts.\n",
    "role = get_execution_role()"
   ]
  },
  {
   "cell_type": "code",
   "execution_count": 20,
   "metadata": {},
   "outputs": [
    {
     "name": "stderr",
     "output_type": "stream",
     "text": [
      "WARNING:root:There is a more up to date SageMaker XGBoost image. To use the newer image, please set 'repo_version'='0.90-1'. For example:\n",
      "\tget_image_uri(region, 'xgboost', '0.90-1').\n"
     ]
    }
   ],
   "source": [
    "# We need to retrieve the location of the container which is provided by Amazon for using XGBoost.\n",
    "# As a matter of convenience, the training and inference code both use the same container.\n",
    "from sagemaker.amazon.amazon_estimator import get_image_uri\n",
    "\n",
    "container = get_image_uri(session.boto_region_name, 'xgboost')"
   ]
  },
  {
   "cell_type": "code",
   "execution_count": 21,
   "metadata": {},
   "outputs": [],
   "source": [
    "# First we create a SageMaker estimator object for our model.\n",
    "xgb = sagemaker.estimator.Estimator(container, # The location of the container we wish to use\n",
    "                                    role,                                    # What is our current IAM Role\n",
    "                                    train_instance_count=1,                  # How many compute instances\n",
    "                                    train_instance_type='ml.m4.xlarge',      # What kind of compute instances\n",
    "                                    output_path='s3://{}/{}/output'.format(session.default_bucket(), prefix),\n",
    "                                    sagemaker_session=session)\n",
    "\n",
    "# And then set the algorithm specific parameters.\n",
    "xgb.set_hyperparameters(max_depth=5,\n",
    "                        eta=0.2,\n",
    "                        gamma=4,\n",
    "                        min_child_weight=6,\n",
    "                        subsample=0.8,\n",
    "                        silent=0,\n",
    "                        objective='binary:logistic',\n",
    "                        early_stopping_rounds=10,\n",
    "                        num_round=500)"
   ]
  },
  {
   "cell_type": "markdown",
   "metadata": {},
   "source": [
    "### Fit the XGBoost model\n",
    "\n",
    "Now that our model has been set up we simply need to attach the training and validation datasets and then ask SageMaker to set up the computation."
   ]
  },
  {
   "cell_type": "code",
   "execution_count": 22,
   "metadata": {},
   "outputs": [],
   "source": [
    "s3_input_train = sagemaker.s3_input(s3_data=train_location, content_type='csv')\n",
    "s3_input_validation = sagemaker.s3_input(s3_data=val_location, content_type='csv')"
   ]
  },
  {
   "cell_type": "code",
   "execution_count": 23,
   "metadata": {},
   "outputs": [
    {
     "name": "stdout",
     "output_type": "stream",
     "text": [
      "2020-07-08 01:56:42 Starting - Starting the training job...\n",
      "2020-07-08 01:56:43 Starting - Launching requested ML instances......\n",
      "2020-07-08 01:57:51 Starting - Preparing the instances for training......\n",
      "2020-07-08 01:59:11 Downloading - Downloading input data\n",
      "2020-07-08 01:59:11 Training - Downloading the training image...\n",
      "2020-07-08 01:59:30 Training - Training image download completed. Training in progress.\u001b[34mArguments: train\u001b[0m\n",
      "\u001b[34m[2020-07-08:01:59:30:INFO] Running standalone xgboost training.\u001b[0m\n",
      "\u001b[34m[2020-07-08:01:59:30:INFO] File size need to be processed in the node: 238.5mb. Available memory size in the node: 8477.25mb\u001b[0m\n",
      "\u001b[34m[2020-07-08:01:59:30:INFO] Determined delimiter of CSV input is ','\u001b[0m\n",
      "\u001b[34m[01:59:30] S3DistributionType set as FullyReplicated\u001b[0m\n",
      "\u001b[34m[01:59:32] 15000x5000 matrix with 75000000 entries loaded from /opt/ml/input/data/train?format=csv&label_column=0&delimiter=,\u001b[0m\n",
      "\u001b[34m[2020-07-08:01:59:32:INFO] Determined delimiter of CSV input is ','\u001b[0m\n",
      "\u001b[34m[01:59:32] S3DistributionType set as FullyReplicated\u001b[0m\n",
      "\u001b[34m[01:59:33] 10000x5000 matrix with 50000000 entries loaded from /opt/ml/input/data/validation?format=csv&label_column=0&delimiter=,\u001b[0m\n",
      "\u001b[34m[01:59:37] src/tree/updater_prune.cc:74: tree pruning end, 1 roots, 42 extra nodes, 10 pruned nodes, max_depth=5\u001b[0m\n",
      "\u001b[34m[0]#011train-error:0.310267#011validation-error:0.3043\u001b[0m\n",
      "\u001b[34mMultiple eval metrics have been passed: 'validation-error' will be used for early stopping.\n",
      "\u001b[0m\n",
      "\u001b[34mWill train until validation-error hasn't improved in 10 rounds.\u001b[0m\n",
      "\u001b[34m[01:59:38] src/tree/updater_prune.cc:74: tree pruning end, 1 roots, 40 extra nodes, 8 pruned nodes, max_depth=5\u001b[0m\n",
      "\u001b[34m[1]#011train-error:0.308#011validation-error:0.3027\u001b[0m\n",
      "\u001b[34m[01:59:39] src/tree/updater_prune.cc:74: tree pruning end, 1 roots, 38 extra nodes, 8 pruned nodes, max_depth=5\u001b[0m\n",
      "\u001b[34m[2]#011train-error:0.295467#011validation-error:0.2915\u001b[0m\n",
      "\u001b[34m[01:59:41] src/tree/updater_prune.cc:74: tree pruning end, 1 roots, 46 extra nodes, 4 pruned nodes, max_depth=5\u001b[0m\n",
      "\u001b[34m[3]#011train-error:0.269733#011validation-error:0.2742\u001b[0m\n",
      "\u001b[34m[01:59:42] src/tree/updater_prune.cc:74: tree pruning end, 1 roots, 30 extra nodes, 8 pruned nodes, max_depth=5\u001b[0m\n",
      "\u001b[34m[4]#011train-error:0.2726#011validation-error:0.2714\u001b[0m\n",
      "\u001b[34m[01:59:44] src/tree/updater_prune.cc:74: tree pruning end, 1 roots, 34 extra nodes, 6 pruned nodes, max_depth=5\u001b[0m\n",
      "\u001b[34m[5]#011train-error:0.262467#011validation-error:0.2661\u001b[0m\n",
      "\u001b[34m[01:59:45] src/tree/updater_prune.cc:74: tree pruning end, 1 roots, 36 extra nodes, 2 pruned nodes, max_depth=5\u001b[0m\n",
      "\u001b[34m[6]#011train-error:0.257867#011validation-error:0.2606\u001b[0m\n",
      "\u001b[34m[01:59:46] src/tree/updater_prune.cc:74: tree pruning end, 1 roots, 38 extra nodes, 8 pruned nodes, max_depth=5\u001b[0m\n",
      "\u001b[34m[7]#011train-error:0.2458#011validation-error:0.2491\u001b[0m\n",
      "\u001b[34m[01:59:47] src/tree/updater_prune.cc:74: tree pruning end, 1 roots, 30 extra nodes, 10 pruned nodes, max_depth=5\u001b[0m\n",
      "\u001b[34m[8]#011train-error:0.239933#011validation-error:0.2463\u001b[0m\n",
      "\u001b[34m[01:59:49] src/tree/updater_prune.cc:74: tree pruning end, 1 roots, 48 extra nodes, 8 pruned nodes, max_depth=5\u001b[0m\n",
      "\u001b[34m[9]#011train-error:0.226267#011validation-error:0.2382\u001b[0m\n",
      "\u001b[34m[01:59:50] src/tree/updater_prune.cc:74: tree pruning end, 1 roots, 40 extra nodes, 6 pruned nodes, max_depth=5\u001b[0m\n",
      "\u001b[34m[10]#011train-error:0.218733#011validation-error:0.233\u001b[0m\n",
      "\u001b[34m[01:59:51] src/tree/updater_prune.cc:74: tree pruning end, 1 roots, 28 extra nodes, 6 pruned nodes, max_depth=5\u001b[0m\n",
      "\u001b[34m[11]#011train-error:0.212#011validation-error:0.2276\u001b[0m\n",
      "\u001b[34m[01:59:52] src/tree/updater_prune.cc:74: tree pruning end, 1 roots, 24 extra nodes, 6 pruned nodes, max_depth=5\u001b[0m\n",
      "\u001b[34m[12]#011train-error:0.2098#011validation-error:0.225\u001b[0m\n",
      "\u001b[34m[01:59:54] src/tree/updater_prune.cc:74: tree pruning end, 1 roots, 40 extra nodes, 4 pruned nodes, max_depth=5\u001b[0m\n",
      "\u001b[34m[13]#011train-error:0.205333#011validation-error:0.2218\u001b[0m\n",
      "\u001b[34m[01:59:55] src/tree/updater_prune.cc:74: tree pruning end, 1 roots, 36 extra nodes, 6 pruned nodes, max_depth=5\u001b[0m\n",
      "\u001b[34m[14]#011train-error:0.2008#011validation-error:0.2209\u001b[0m\n",
      "\u001b[34m[01:59:56] src/tree/updater_prune.cc:74: tree pruning end, 1 roots, 26 extra nodes, 4 pruned nodes, max_depth=5\u001b[0m\n",
      "\u001b[34m[15]#011train-error:0.199533#011validation-error:0.2202\u001b[0m\n",
      "\u001b[34m[01:59:58] src/tree/updater_prune.cc:74: tree pruning end, 1 roots, 24 extra nodes, 8 pruned nodes, max_depth=5\u001b[0m\n",
      "\u001b[34m[16]#011train-error:0.195933#011validation-error:0.216\u001b[0m\n",
      "\u001b[34m[01:59:59] src/tree/updater_prune.cc:74: tree pruning end, 1 roots, 32 extra nodes, 6 pruned nodes, max_depth=5\u001b[0m\n",
      "\u001b[34m[17]#011train-error:0.192267#011validation-error:0.2154\u001b[0m\n",
      "\u001b[34m[02:00:00] src/tree/updater_prune.cc:74: tree pruning end, 1 roots, 20 extra nodes, 8 pruned nodes, max_depth=5\u001b[0m\n",
      "\u001b[34m[18]#011train-error:0.1902#011validation-error:0.2133\u001b[0m\n",
      "\u001b[34m[02:00:01] src/tree/updater_prune.cc:74: tree pruning end, 1 roots, 22 extra nodes, 6 pruned nodes, max_depth=5\u001b[0m\n",
      "\u001b[34m[19]#011train-error:0.188#011validation-error:0.2098\u001b[0m\n",
      "\u001b[34m[02:00:03] src/tree/updater_prune.cc:74: tree pruning end, 1 roots, 36 extra nodes, 2 pruned nodes, max_depth=5\u001b[0m\n",
      "\u001b[34m[20]#011train-error:0.185533#011validation-error:0.2087\u001b[0m\n",
      "\u001b[34m[02:00:04] src/tree/updater_prune.cc:74: tree pruning end, 1 roots, 30 extra nodes, 8 pruned nodes, max_depth=5\u001b[0m\n",
      "\u001b[34m[21]#011train-error:0.183133#011validation-error:0.2077\u001b[0m\n",
      "\u001b[34m[02:00:05] src/tree/updater_prune.cc:74: tree pruning end, 1 roots, 38 extra nodes, 6 pruned nodes, max_depth=5\u001b[0m\n",
      "\u001b[34m[22]#011train-error:0.1806#011validation-error:0.2058\u001b[0m\n",
      "\u001b[34m[02:00:06] src/tree/updater_prune.cc:74: tree pruning end, 1 roots, 36 extra nodes, 10 pruned nodes, max_depth=5\u001b[0m\n",
      "\u001b[34m[23]#011train-error:0.177933#011validation-error:0.2033\u001b[0m\n",
      "\u001b[34m[02:00:08] src/tree/updater_prune.cc:74: tree pruning end, 1 roots, 30 extra nodes, 8 pruned nodes, max_depth=5\u001b[0m\n",
      "\u001b[34m[24]#011train-error:0.1752#011validation-error:0.2016\u001b[0m\n",
      "\u001b[34m[02:00:09] src/tree/updater_prune.cc:74: tree pruning end, 1 roots, 28 extra nodes, 4 pruned nodes, max_depth=5\u001b[0m\n",
      "\u001b[34m[25]#011train-error:0.173933#011validation-error:0.1996\u001b[0m\n",
      "\u001b[34m[02:00:10] src/tree/updater_prune.cc:74: tree pruning end, 1 roots, 26 extra nodes, 6 pruned nodes, max_depth=5\u001b[0m\n",
      "\u001b[34m[26]#011train-error:0.172#011validation-error:0.1972\u001b[0m\n",
      "\u001b[34m[02:00:12] src/tree/updater_prune.cc:74: tree pruning end, 1 roots, 30 extra nodes, 10 pruned nodes, max_depth=5\u001b[0m\n",
      "\u001b[34m[27]#011train-error:0.171133#011validation-error:0.1951\u001b[0m\n",
      "\u001b[34m[02:00:13] src/tree/updater_prune.cc:74: tree pruning end, 1 roots, 18 extra nodes, 16 pruned nodes, max_depth=5\u001b[0m\n",
      "\u001b[34m[28]#011train-error:0.169333#011validation-error:0.193\u001b[0m\n",
      "\u001b[34m[02:00:14] src/tree/updater_prune.cc:74: tree pruning end, 1 roots, 40 extra nodes, 6 pruned nodes, max_depth=5\u001b[0m\n",
      "\u001b[34m[29]#011train-error:0.167067#011validation-error:0.1938\u001b[0m\n",
      "\u001b[34m[02:00:15] src/tree/updater_prune.cc:74: tree pruning end, 1 roots, 14 extra nodes, 6 pruned nodes, max_depth=5\u001b[0m\n",
      "\u001b[34m[30]#011train-error:0.164933#011validation-error:0.1925\u001b[0m\n",
      "\u001b[34m[02:00:17] src/tree/updater_prune.cc:74: tree pruning end, 1 roots, 20 extra nodes, 14 pruned nodes, max_depth=5\u001b[0m\n",
      "\u001b[34m[31]#011train-error:0.164#011validation-error:0.1903\u001b[0m\n",
      "\u001b[34m[02:00:18] src/tree/updater_prune.cc:74: tree pruning end, 1 roots, 26 extra nodes, 6 pruned nodes, max_depth=5\u001b[0m\n",
      "\u001b[34m[32]#011train-error:0.160933#011validation-error:0.1885\u001b[0m\n",
      "\u001b[34m[02:00:19] src/tree/updater_prune.cc:74: tree pruning end, 1 roots, 40 extra nodes, 6 pruned nodes, max_depth=5\u001b[0m\n",
      "\u001b[34m[33]#011train-error:0.159267#011validation-error:0.1875\u001b[0m\n",
      "\u001b[34m[02:00:20] src/tree/updater_prune.cc:74: tree pruning end, 1 roots, 40 extra nodes, 8 pruned nodes, max_depth=5\u001b[0m\n",
      "\u001b[34m[34]#011train-error:0.156133#011validation-error:0.1858\u001b[0m\n",
      "\u001b[34m[02:00:22] src/tree/updater_prune.cc:74: tree pruning end, 1 roots, 26 extra nodes, 6 pruned nodes, max_depth=5\u001b[0m\n",
      "\u001b[34m[35]#011train-error:0.155267#011validation-error:0.1852\u001b[0m\n",
      "\u001b[34m[02:00:23] src/tree/updater_prune.cc:74: tree pruning end, 1 roots, 18 extra nodes, 14 pruned nodes, max_depth=5\u001b[0m\n",
      "\u001b[34m[36]#011train-error:0.1542#011validation-error:0.1837\u001b[0m\n",
      "\u001b[34m[02:00:24] src/tree/updater_prune.cc:74: tree pruning end, 1 roots, 28 extra nodes, 8 pruned nodes, max_depth=5\u001b[0m\n",
      "\u001b[34m[37]#011train-error:0.1528#011validation-error:0.1837\u001b[0m\n",
      "\u001b[34m[02:00:26] src/tree/updater_prune.cc:74: tree pruning end, 1 roots, 22 extra nodes, 14 pruned nodes, max_depth=5\u001b[0m\n",
      "\u001b[34m[38]#011train-error:0.151067#011validation-error:0.1825\u001b[0m\n",
      "\u001b[34m[02:00:27] src/tree/updater_prune.cc:74: tree pruning end, 1 roots, 26 extra nodes, 10 pruned nodes, max_depth=5\u001b[0m\n",
      "\u001b[34m[39]#011train-error:0.150533#011validation-error:0.1823\u001b[0m\n"
     ]
    },
    {
     "name": "stdout",
     "output_type": "stream",
     "text": [
      "\u001b[34m[02:00:28] src/tree/updater_prune.cc:74: tree pruning end, 1 roots, 28 extra nodes, 8 pruned nodes, max_depth=5\u001b[0m\n",
      "\u001b[34m[40]#011train-error:0.147733#011validation-error:0.1821\u001b[0m\n",
      "\u001b[34m[02:00:29] src/tree/updater_prune.cc:74: tree pruning end, 1 roots, 14 extra nodes, 6 pruned nodes, max_depth=5\u001b[0m\n",
      "\u001b[34m[41]#011train-error:0.146133#011validation-error:0.1811\u001b[0m\n",
      "\u001b[34m[02:00:31] src/tree/updater_prune.cc:74: tree pruning end, 1 roots, 28 extra nodes, 10 pruned nodes, max_depth=5\u001b[0m\n",
      "\u001b[34m[42]#011train-error:0.1448#011validation-error:0.1798\u001b[0m\n",
      "\u001b[34m[02:00:32] src/tree/updater_prune.cc:74: tree pruning end, 1 roots, 20 extra nodes, 12 pruned nodes, max_depth=5\u001b[0m\n",
      "\u001b[34m[43]#011train-error:0.1442#011validation-error:0.1789\u001b[0m\n",
      "\u001b[34m[02:00:33] src/tree/updater_prune.cc:74: tree pruning end, 1 roots, 14 extra nodes, 8 pruned nodes, max_depth=5\u001b[0m\n",
      "\u001b[34m[44]#011train-error:0.143533#011validation-error:0.1769\u001b[0m\n",
      "\u001b[34m[02:00:34] src/tree/updater_prune.cc:74: tree pruning end, 1 roots, 34 extra nodes, 6 pruned nodes, max_depth=5\u001b[0m\n",
      "\u001b[34m[45]#011train-error:0.142667#011validation-error:0.1753\u001b[0m\n",
      "\u001b[34m[02:00:36] src/tree/updater_prune.cc:74: tree pruning end, 1 roots, 32 extra nodes, 8 pruned nodes, max_depth=5\u001b[0m\n",
      "\u001b[34m[46]#011train-error:0.142267#011validation-error:0.1745\u001b[0m\n",
      "\u001b[34m[02:00:37] src/tree/updater_prune.cc:74: tree pruning end, 1 roots, 16 extra nodes, 10 pruned nodes, max_depth=5\u001b[0m\n",
      "\u001b[34m[47]#011train-error:0.141333#011validation-error:0.1738\u001b[0m\n",
      "\u001b[34m[02:00:38] src/tree/updater_prune.cc:74: tree pruning end, 1 roots, 16 extra nodes, 4 pruned nodes, max_depth=5\u001b[0m\n",
      "\u001b[34m[48]#011train-error:0.140533#011validation-error:0.1734\u001b[0m\n",
      "\u001b[34m[02:00:39] src/tree/updater_prune.cc:74: tree pruning end, 1 roots, 20 extra nodes, 10 pruned nodes, max_depth=5\u001b[0m\n",
      "\u001b[34m[49]#011train-error:0.1388#011validation-error:0.173\u001b[0m\n",
      "\u001b[34m[02:00:41] src/tree/updater_prune.cc:74: tree pruning end, 1 roots, 26 extra nodes, 6 pruned nodes, max_depth=5\u001b[0m\n",
      "\u001b[34m[50]#011train-error:0.1372#011validation-error:0.1719\u001b[0m\n",
      "\u001b[34m[02:00:42] src/tree/updater_prune.cc:74: tree pruning end, 1 roots, 32 extra nodes, 10 pruned nodes, max_depth=5\u001b[0m\n",
      "\u001b[34m[51]#011train-error:0.1344#011validation-error:0.1729\u001b[0m\n",
      "\u001b[34m[02:00:43] src/tree/updater_prune.cc:74: tree pruning end, 1 roots, 32 extra nodes, 8 pruned nodes, max_depth=5\u001b[0m\n",
      "\u001b[34m[52]#011train-error:0.1344#011validation-error:0.1722\u001b[0m\n",
      "\u001b[34m[02:00:44] src/tree/updater_prune.cc:74: tree pruning end, 1 roots, 16 extra nodes, 12 pruned nodes, max_depth=5\u001b[0m\n",
      "\u001b[34m[53]#011train-error:0.132267#011validation-error:0.1712\u001b[0m\n",
      "\u001b[34m[02:00:46] src/tree/updater_prune.cc:74: tree pruning end, 1 roots, 34 extra nodes, 8 pruned nodes, max_depth=5\u001b[0m\n",
      "\u001b[34m[54]#011train-error:0.129933#011validation-error:0.1692\u001b[0m\n",
      "\u001b[34m[02:00:47] src/tree/updater_prune.cc:74: tree pruning end, 1 roots, 34 extra nodes, 8 pruned nodes, max_depth=5\u001b[0m\n",
      "\u001b[34m[55]#011train-error:0.129467#011validation-error:0.1674\u001b[0m\n",
      "\u001b[34m[02:00:48] src/tree/updater_prune.cc:74: tree pruning end, 1 roots, 30 extra nodes, 4 pruned nodes, max_depth=5\u001b[0m\n",
      "\u001b[34m[56]#011train-error:0.1276#011validation-error:0.1664\u001b[0m\n",
      "\u001b[34m[02:00:50] src/tree/updater_prune.cc:74: tree pruning end, 1 roots, 20 extra nodes, 6 pruned nodes, max_depth=5\u001b[0m\n",
      "\u001b[34m[57]#011train-error:0.126667#011validation-error:0.1663\u001b[0m\n",
      "\u001b[34m[02:00:51] src/tree/updater_prune.cc:74: tree pruning end, 1 roots, 22 extra nodes, 12 pruned nodes, max_depth=5\u001b[0m\n",
      "\u001b[34m[58]#011train-error:0.125933#011validation-error:0.1654\u001b[0m\n",
      "\u001b[34m[02:00:52] src/tree/updater_prune.cc:74: tree pruning end, 1 roots, 18 extra nodes, 8 pruned nodes, max_depth=5\u001b[0m\n",
      "\u001b[34m[59]#011train-error:0.1258#011validation-error:0.1653\u001b[0m\n",
      "\u001b[34m[02:00:53] src/tree/updater_prune.cc:74: tree pruning end, 1 roots, 12 extra nodes, 8 pruned nodes, max_depth=5\u001b[0m\n",
      "\u001b[34m[60]#011train-error:0.1254#011validation-error:0.1644\u001b[0m\n",
      "\u001b[34m[02:00:55] src/tree/updater_prune.cc:74: tree pruning end, 1 roots, 34 extra nodes, 6 pruned nodes, max_depth=5\u001b[0m\n",
      "\u001b[34m[61]#011train-error:0.1238#011validation-error:0.1627\u001b[0m\n",
      "\u001b[34m[02:00:56] src/tree/updater_prune.cc:74: tree pruning end, 1 roots, 12 extra nodes, 8 pruned nodes, max_depth=5\u001b[0m\n",
      "\u001b[34m[62]#011train-error:0.1234#011validation-error:0.162\u001b[0m\n",
      "\u001b[34m[02:00:57] src/tree/updater_prune.cc:74: tree pruning end, 1 roots, 24 extra nodes, 2 pruned nodes, max_depth=5\u001b[0m\n",
      "\u001b[34m[63]#011train-error:0.121933#011validation-error:0.1639\u001b[0m\n",
      "\u001b[34m[02:00:58] src/tree/updater_prune.cc:74: tree pruning end, 1 roots, 18 extra nodes, 14 pruned nodes, max_depth=5\u001b[0m\n",
      "\u001b[34m[64]#011train-error:0.1214#011validation-error:0.1629\u001b[0m\n",
      "\u001b[34m[02:01:00] src/tree/updater_prune.cc:74: tree pruning end, 1 roots, 16 extra nodes, 10 pruned nodes, max_depth=5\u001b[0m\n",
      "\u001b[34m[65]#011train-error:0.120933#011validation-error:0.1619\u001b[0m\n",
      "\u001b[34m[02:01:01] src/tree/updater_prune.cc:74: tree pruning end, 1 roots, 20 extra nodes, 10 pruned nodes, max_depth=5\u001b[0m\n",
      "\u001b[34m[66]#011train-error:0.119733#011validation-error:0.1607\u001b[0m\n",
      "\u001b[34m[02:01:02] src/tree/updater_prune.cc:74: tree pruning end, 1 roots, 16 extra nodes, 14 pruned nodes, max_depth=5\u001b[0m\n",
      "\u001b[34m[67]#011train-error:0.119267#011validation-error:0.1607\u001b[0m\n",
      "\u001b[34m[02:01:03] src/tree/updater_prune.cc:74: tree pruning end, 1 roots, 20 extra nodes, 14 pruned nodes, max_depth=5\u001b[0m\n",
      "\u001b[34m[68]#011train-error:0.1184#011validation-error:0.1598\u001b[0m\n",
      "\u001b[34m[02:01:05] src/tree/updater_prune.cc:74: tree pruning end, 1 roots, 22 extra nodes, 12 pruned nodes, max_depth=5\u001b[0m\n",
      "\u001b[34m[69]#011train-error:0.1182#011validation-error:0.159\u001b[0m\n",
      "\u001b[34m[02:01:06] src/tree/updater_prune.cc:74: tree pruning end, 1 roots, 14 extra nodes, 6 pruned nodes, max_depth=5\u001b[0m\n",
      "\u001b[34m[70]#011train-error:0.1178#011validation-error:0.1596\u001b[0m\n",
      "\u001b[34m[02:01:07] src/tree/updater_prune.cc:74: tree pruning end, 1 roots, 20 extra nodes, 8 pruned nodes, max_depth=5\u001b[0m\n",
      "\u001b[34m[71]#011train-error:0.117667#011validation-error:0.1588\u001b[0m\n",
      "\u001b[34m[02:01:08] src/tree/updater_prune.cc:74: tree pruning end, 1 roots, 26 extra nodes, 18 pruned nodes, max_depth=5\u001b[0m\n",
      "\u001b[34m[72]#011train-error:0.116867#011validation-error:0.1588\u001b[0m\n",
      "\u001b[34m[02:01:10] src/tree/updater_prune.cc:74: tree pruning end, 1 roots, 10 extra nodes, 10 pruned nodes, max_depth=5\u001b[0m\n",
      "\u001b[34m[73]#011train-error:0.115467#011validation-error:0.1587\u001b[0m\n",
      "\u001b[34m[02:01:11] src/tree/updater_prune.cc:74: tree pruning end, 1 roots, 20 extra nodes, 16 pruned nodes, max_depth=5\u001b[0m\n",
      "\u001b[34m[74]#011train-error:0.1144#011validation-error:0.1584\u001b[0m\n",
      "\u001b[34m[02:01:12] src/tree/updater_prune.cc:74: tree pruning end, 1 roots, 14 extra nodes, 10 pruned nodes, max_depth=5\u001b[0m\n",
      "\u001b[34m[75]#011train-error:0.1138#011validation-error:0.1578\u001b[0m\n",
      "\u001b[34m[02:01:13] src/tree/updater_prune.cc:74: tree pruning end, 1 roots, 16 extra nodes, 8 pruned nodes, max_depth=5\u001b[0m\n",
      "\u001b[34m[76]#011train-error:0.113067#011validation-error:0.1571\u001b[0m\n",
      "\u001b[34m[02:01:15] src/tree/updater_prune.cc:74: tree pruning end, 1 roots, 16 extra nodes, 2 pruned nodes, max_depth=5\u001b[0m\n",
      "\u001b[34m[77]#011train-error:0.113267#011validation-error:0.1563\u001b[0m\n",
      "\u001b[34m[02:01:16] src/tree/updater_prune.cc:74: tree pruning end, 1 roots, 28 extra nodes, 8 pruned nodes, max_depth=5\u001b[0m\n",
      "\u001b[34m[78]#011train-error:0.1118#011validation-error:0.1564\u001b[0m\n",
      "\u001b[34m[02:01:17] src/tree/updater_prune.cc:74: tree pruning end, 1 roots, 24 extra nodes, 10 pruned nodes, max_depth=5\u001b[0m\n",
      "\u001b[34m[79]#011train-error:0.110733#011validation-error:0.1563\u001b[0m\n",
      "\u001b[34m[02:01:19] src/tree/updater_prune.cc:74: tree pruning end, 1 roots, 16 extra nodes, 6 pruned nodes, max_depth=5\u001b[0m\n",
      "\u001b[34m[80]#011train-error:0.1098#011validation-error:0.1564\u001b[0m\n",
      "\u001b[34m[02:01:20] src/tree/updater_prune.cc:74: tree pruning end, 1 roots, 32 extra nodes, 8 pruned nodes, max_depth=5\u001b[0m\n",
      "\u001b[34m[81]#011train-error:0.109867#011validation-error:0.1569\u001b[0m\n",
      "\u001b[34m[02:01:21] src/tree/updater_prune.cc:74: tree pruning end, 1 roots, 12 extra nodes, 20 pruned nodes, max_depth=5\u001b[0m\n",
      "\u001b[34m[82]#011train-error:0.109867#011validation-error:0.1566\u001b[0m\n",
      "\u001b[34m[02:01:22] src/tree/updater_prune.cc:74: tree pruning end, 1 roots, 28 extra nodes, 10 pruned nodes, max_depth=5\u001b[0m\n",
      "\u001b[34m[83]#011train-error:0.109133#011validation-error:0.1557\u001b[0m\n",
      "\u001b[34m[02:01:24] src/tree/updater_prune.cc:74: tree pruning end, 1 roots, 12 extra nodes, 14 pruned nodes, max_depth=5\u001b[0m\n",
      "\u001b[34m[84]#011train-error:0.109067#011validation-error:0.1551\u001b[0m\n",
      "\u001b[34m[02:01:25] src/tree/updater_prune.cc:74: tree pruning end, 1 roots, 16 extra nodes, 8 pruned nodes, max_depth=5\u001b[0m\n",
      "\u001b[34m[85]#011train-error:0.1086#011validation-error:0.1545\u001b[0m\n",
      "\u001b[34m[02:01:26] src/tree/updater_prune.cc:74: tree pruning end, 1 roots, 24 extra nodes, 14 pruned nodes, max_depth=5\u001b[0m\n",
      "\u001b[34m[86]#011train-error:0.108333#011validation-error:0.1542\u001b[0m\n",
      "\u001b[34m[02:01:27] src/tree/updater_prune.cc:74: tree pruning end, 1 roots, 32 extra nodes, 10 pruned nodes, max_depth=5\u001b[0m\n",
      "\u001b[34m[87]#011train-error:0.107133#011validation-error:0.1541\u001b[0m\n"
     ]
    },
    {
     "name": "stdout",
     "output_type": "stream",
     "text": [
      "\u001b[34m[02:01:29] src/tree/updater_prune.cc:74: tree pruning end, 1 roots, 10 extra nodes, 2 pruned nodes, max_depth=5\u001b[0m\n",
      "\u001b[34m[88]#011train-error:0.106867#011validation-error:0.1545\u001b[0m\n",
      "\u001b[34m[02:01:30] src/tree/updater_prune.cc:74: tree pruning end, 1 roots, 14 extra nodes, 14 pruned nodes, max_depth=5\u001b[0m\n",
      "\u001b[34m[89]#011train-error:0.106467#011validation-error:0.1549\u001b[0m\n",
      "\u001b[34m[02:01:31] src/tree/updater_prune.cc:74: tree pruning end, 1 roots, 14 extra nodes, 10 pruned nodes, max_depth=5\u001b[0m\n",
      "\u001b[34m[90]#011train-error:0.106133#011validation-error:0.1545\u001b[0m\n",
      "\u001b[34m[02:01:32] src/tree/updater_prune.cc:74: tree pruning end, 1 roots, 18 extra nodes, 8 pruned nodes, max_depth=5\u001b[0m\n",
      "\u001b[34m[91]#011train-error:0.1052#011validation-error:0.1539\u001b[0m\n",
      "\u001b[34m[02:01:34] src/tree/updater_prune.cc:74: tree pruning end, 1 roots, 22 extra nodes, 10 pruned nodes, max_depth=5\u001b[0m\n",
      "\u001b[34m[92]#011train-error:0.1048#011validation-error:0.1544\u001b[0m\n",
      "\u001b[34m[02:01:35] src/tree/updater_prune.cc:74: tree pruning end, 1 roots, 10 extra nodes, 8 pruned nodes, max_depth=5\u001b[0m\n",
      "\u001b[34m[93]#011train-error:0.103933#011validation-error:0.1527\u001b[0m\n",
      "\u001b[34m[02:01:36] src/tree/updater_prune.cc:74: tree pruning end, 1 roots, 22 extra nodes, 6 pruned nodes, max_depth=5\u001b[0m\n",
      "\u001b[34m[94]#011train-error:0.103933#011validation-error:0.1527\u001b[0m\n",
      "\u001b[34m[02:01:37] src/tree/updater_prune.cc:74: tree pruning end, 1 roots, 14 extra nodes, 4 pruned nodes, max_depth=5\u001b[0m\n",
      "\u001b[34m[95]#011train-error:0.103667#011validation-error:0.152\u001b[0m\n",
      "\u001b[34m[02:01:39] src/tree/updater_prune.cc:74: tree pruning end, 1 roots, 18 extra nodes, 10 pruned nodes, max_depth=5\u001b[0m\n",
      "\u001b[34m[96]#011train-error:0.1028#011validation-error:0.1516\u001b[0m\n",
      "\u001b[34m[02:01:40] src/tree/updater_prune.cc:74: tree pruning end, 1 roots, 12 extra nodes, 2 pruned nodes, max_depth=5\u001b[0m\n",
      "\u001b[34m[97]#011train-error:0.1022#011validation-error:0.1511\u001b[0m\n",
      "\u001b[34m[02:01:41] src/tree/updater_prune.cc:74: tree pruning end, 1 roots, 20 extra nodes, 8 pruned nodes, max_depth=5\u001b[0m\n",
      "\u001b[34m[98]#011train-error:0.102#011validation-error:0.1512\u001b[0m\n",
      "\u001b[34m[02:01:42] src/tree/updater_prune.cc:74: tree pruning end, 1 roots, 22 extra nodes, 4 pruned nodes, max_depth=5\u001b[0m\n",
      "\u001b[34m[99]#011train-error:0.102067#011validation-error:0.1509\u001b[0m\n",
      "\u001b[34m[02:01:44] src/tree/updater_prune.cc:74: tree pruning end, 1 roots, 18 extra nodes, 12 pruned nodes, max_depth=5\u001b[0m\n",
      "\u001b[34m[100]#011train-error:0.101933#011validation-error:0.15\u001b[0m\n",
      "\u001b[34m[02:01:45] src/tree/updater_prune.cc:74: tree pruning end, 1 roots, 16 extra nodes, 8 pruned nodes, max_depth=5\u001b[0m\n",
      "\u001b[34m[101]#011train-error:0.1016#011validation-error:0.1507\u001b[0m\n",
      "\u001b[34m[02:01:46] src/tree/updater_prune.cc:74: tree pruning end, 1 roots, 14 extra nodes, 4 pruned nodes, max_depth=5\u001b[0m\n",
      "\u001b[34m[102]#011train-error:0.101267#011validation-error:0.1502\u001b[0m\n",
      "\u001b[34m[02:01:48] src/tree/updater_prune.cc:74: tree pruning end, 1 roots, 18 extra nodes, 8 pruned nodes, max_depth=5\u001b[0m\n",
      "\u001b[34m[103]#011train-error:0.100933#011validation-error:0.1499\u001b[0m\n",
      "\u001b[34m[02:01:49] src/tree/updater_prune.cc:74: tree pruning end, 1 roots, 24 extra nodes, 8 pruned nodes, max_depth=5\u001b[0m\n",
      "\u001b[34m[104]#011train-error:0.1002#011validation-error:0.1493\u001b[0m\n",
      "\u001b[34m[02:01:50] src/tree/updater_prune.cc:74: tree pruning end, 1 roots, 12 extra nodes, 6 pruned nodes, max_depth=5\u001b[0m\n",
      "\u001b[34m[105]#011train-error:0.099667#011validation-error:0.1491\u001b[0m\n",
      "\u001b[34m[02:01:51] src/tree/updater_prune.cc:74: tree pruning end, 1 roots, 20 extra nodes, 6 pruned nodes, max_depth=5\u001b[0m\n",
      "\u001b[34m[106]#011train-error:0.0992#011validation-error:0.1487\u001b[0m\n",
      "\u001b[34m[02:01:53] src/tree/updater_prune.cc:74: tree pruning end, 1 roots, 12 extra nodes, 10 pruned nodes, max_depth=5\u001b[0m\n",
      "\u001b[34m[107]#011train-error:0.099#011validation-error:0.1477\u001b[0m\n",
      "\u001b[34m[02:01:54] src/tree/updater_prune.cc:74: tree pruning end, 1 roots, 12 extra nodes, 2 pruned nodes, max_depth=5\u001b[0m\n",
      "\u001b[34m[108]#011train-error:0.0988#011validation-error:0.1469\u001b[0m\n",
      "\u001b[34m[02:01:55] src/tree/updater_prune.cc:74: tree pruning end, 1 roots, 16 extra nodes, 4 pruned nodes, max_depth=5\u001b[0m\n",
      "\u001b[34m[109]#011train-error:0.099133#011validation-error:0.1475\u001b[0m\n",
      "\u001b[34m[02:01:57] src/tree/updater_prune.cc:74: tree pruning end, 1 roots, 10 extra nodes, 10 pruned nodes, max_depth=5\u001b[0m\n",
      "\u001b[34m[110]#011train-error:0.098667#011validation-error:0.1479\u001b[0m\n",
      "\u001b[34m[02:01:58] src/tree/updater_prune.cc:74: tree pruning end, 1 roots, 24 extra nodes, 8 pruned nodes, max_depth=5\u001b[0m\n",
      "\u001b[34m[111]#011train-error:0.097467#011validation-error:0.148\u001b[0m\n",
      "\u001b[34m[02:01:59] src/tree/updater_prune.cc:74: tree pruning end, 1 roots, 26 extra nodes, 8 pruned nodes, max_depth=5\u001b[0m\n",
      "\u001b[34m[112]#011train-error:0.0958#011validation-error:0.148\u001b[0m\n",
      "\u001b[34m[02:02:00] src/tree/updater_prune.cc:74: tree pruning end, 1 roots, 10 extra nodes, 6 pruned nodes, max_depth=5\u001b[0m\n",
      "\u001b[34m[113]#011train-error:0.095467#011validation-error:0.1475\u001b[0m\n",
      "\u001b[34m[02:02:02] src/tree/updater_prune.cc:74: tree pruning end, 1 roots, 26 extra nodes, 8 pruned nodes, max_depth=5\u001b[0m\n",
      "\u001b[34m[114]#011train-error:0.094733#011validation-error:0.1473\u001b[0m\n",
      "\u001b[34m[02:02:03] src/tree/updater_prune.cc:74: tree pruning end, 1 roots, 18 extra nodes, 10 pruned nodes, max_depth=5\u001b[0m\n",
      "\u001b[34m[115]#011train-error:0.094267#011validation-error:0.1473\u001b[0m\n",
      "\u001b[34m[02:02:04] src/tree/updater_prune.cc:74: tree pruning end, 1 roots, 16 extra nodes, 16 pruned nodes, max_depth=5\u001b[0m\n",
      "\u001b[34m[116]#011train-error:0.093667#011validation-error:0.1471\u001b[0m\n",
      "\u001b[34m[02:02:05] src/tree/updater_prune.cc:74: tree pruning end, 1 roots, 24 extra nodes, 10 pruned nodes, max_depth=5\u001b[0m\n",
      "\u001b[34m[117]#011train-error:0.0946#011validation-error:0.1469\u001b[0m\n",
      "\u001b[34m[02:02:07] src/tree/updater_prune.cc:74: tree pruning end, 1 roots, 16 extra nodes, 8 pruned nodes, max_depth=5\u001b[0m\n",
      "\u001b[34m[118]#011train-error:0.0944#011validation-error:0.1461\u001b[0m\n",
      "\u001b[34m[02:02:08] src/tree/updater_prune.cc:74: tree pruning end, 1 roots, 20 extra nodes, 6 pruned nodes, max_depth=5\u001b[0m\n",
      "\u001b[34m[119]#011train-error:0.094067#011validation-error:0.1454\u001b[0m\n",
      "\u001b[34m[02:02:09] src/tree/updater_prune.cc:74: tree pruning end, 1 roots, 12 extra nodes, 10 pruned nodes, max_depth=5\u001b[0m\n",
      "\u001b[34m[120]#011train-error:0.093667#011validation-error:0.1454\u001b[0m\n",
      "\u001b[34m[02:02:10] src/tree/updater_prune.cc:74: tree pruning end, 1 roots, 10 extra nodes, 8 pruned nodes, max_depth=5\u001b[0m\n",
      "\u001b[34m[121]#011train-error:0.0936#011validation-error:0.1447\u001b[0m\n",
      "\u001b[34m[02:02:12] src/tree/updater_prune.cc:74: tree pruning end, 1 roots, 16 extra nodes, 18 pruned nodes, max_depth=5\u001b[0m\n",
      "\u001b[34m[122]#011train-error:0.0928#011validation-error:0.1443\u001b[0m\n",
      "\u001b[34m[02:02:13] src/tree/updater_prune.cc:74: tree pruning end, 1 roots, 20 extra nodes, 8 pruned nodes, max_depth=5\u001b[0m\n",
      "\u001b[34m[123]#011train-error:0.0922#011validation-error:0.1447\u001b[0m\n",
      "\u001b[34m[02:02:14] src/tree/updater_prune.cc:74: tree pruning end, 1 roots, 16 extra nodes, 10 pruned nodes, max_depth=5\u001b[0m\n",
      "\u001b[34m[124]#011train-error:0.0918#011validation-error:0.1445\u001b[0m\n",
      "\u001b[34m[02:02:16] src/tree/updater_prune.cc:74: tree pruning end, 1 roots, 14 extra nodes, 12 pruned nodes, max_depth=5\u001b[0m\n",
      "\u001b[34m[125]#011train-error:0.091267#011validation-error:0.1441\u001b[0m\n",
      "\u001b[34m[02:02:17] src/tree/updater_prune.cc:74: tree pruning end, 1 roots, 26 extra nodes, 6 pruned nodes, max_depth=5\u001b[0m\n",
      "\u001b[34m[126]#011train-error:0.09#011validation-error:0.1437\u001b[0m\n",
      "\u001b[34m[02:02:18] src/tree/updater_prune.cc:74: tree pruning end, 1 roots, 28 extra nodes, 14 pruned nodes, max_depth=5\u001b[0m\n",
      "\u001b[34m[127]#011train-error:0.089333#011validation-error:0.1438\u001b[0m\n",
      "\u001b[34m[02:02:19] src/tree/updater_prune.cc:74: tree pruning end, 1 roots, 28 extra nodes, 14 pruned nodes, max_depth=5\u001b[0m\n",
      "\u001b[34m[128]#011train-error:0.0882#011validation-error:0.1434\u001b[0m\n",
      "\u001b[34m[02:02:21] src/tree/updater_prune.cc:74: tree pruning end, 1 roots, 32 extra nodes, 4 pruned nodes, max_depth=5\u001b[0m\n",
      "\u001b[34m[129]#011train-error:0.0876#011validation-error:0.144\u001b[0m\n",
      "\u001b[34m[02:02:22] src/tree/updater_prune.cc:74: tree pruning end, 1 roots, 10 extra nodes, 8 pruned nodes, max_depth=5\u001b[0m\n",
      "\u001b[34m[130]#011train-error:0.087#011validation-error:0.1443\u001b[0m\n",
      "\u001b[34m[02:02:23] src/tree/updater_prune.cc:74: tree pruning end, 1 roots, 12 extra nodes, 14 pruned nodes, max_depth=5\u001b[0m\n",
      "\u001b[34m[131]#011train-error:0.086267#011validation-error:0.1444\u001b[0m\n",
      "\u001b[34m[02:02:24] src/tree/updater_prune.cc:74: tree pruning end, 1 roots, 12 extra nodes, 10 pruned nodes, max_depth=5\u001b[0m\n",
      "\u001b[34m[132]#011train-error:0.085933#011validation-error:0.144\u001b[0m\n",
      "\u001b[34m[02:02:26] src/tree/updater_prune.cc:74: tree pruning end, 1 roots, 12 extra nodes, 4 pruned nodes, max_depth=5\u001b[0m\n",
      "\u001b[34m[133]#011train-error:0.085467#011validation-error:0.1441\u001b[0m\n",
      "\u001b[34m[02:02:27] src/tree/updater_prune.cc:74: tree pruning end, 1 roots, 10 extra nodes, 8 pruned nodes, max_depth=5\u001b[0m\n",
      "\u001b[34m[134]#011train-error:0.085133#011validation-error:0.1437\u001b[0m\n",
      "\u001b[34m[02:02:28] src/tree/updater_prune.cc:74: tree pruning end, 1 roots, 14 extra nodes, 8 pruned nodes, max_depth=5\u001b[0m\n",
      "\u001b[34m[135]#011train-error:0.085067#011validation-error:0.1431\u001b[0m\n"
     ]
    },
    {
     "name": "stdout",
     "output_type": "stream",
     "text": [
      "\u001b[34m[02:02:30] src/tree/updater_prune.cc:74: tree pruning end, 1 roots, 24 extra nodes, 10 pruned nodes, max_depth=5\u001b[0m\n",
      "\u001b[34m[136]#011train-error:0.085#011validation-error:0.1435\u001b[0m\n",
      "\u001b[34m[02:02:31] src/tree/updater_prune.cc:74: tree pruning end, 1 roots, 16 extra nodes, 10 pruned nodes, max_depth=5\u001b[0m\n",
      "\u001b[34m[137]#011train-error:0.085#011validation-error:0.1433\u001b[0m\n",
      "\u001b[34m[02:02:32] src/tree/updater_prune.cc:74: tree pruning end, 1 roots, 12 extra nodes, 4 pruned nodes, max_depth=5\u001b[0m\n",
      "\u001b[34m[138]#011train-error:0.084533#011validation-error:0.143\u001b[0m\n",
      "\u001b[34m[02:02:33] src/tree/updater_prune.cc:74: tree pruning end, 1 roots, 18 extra nodes, 4 pruned nodes, max_depth=5\u001b[0m\n",
      "\u001b[34m[139]#011train-error:0.083933#011validation-error:0.1426\u001b[0m\n",
      "\u001b[34m[02:02:35] src/tree/updater_prune.cc:74: tree pruning end, 1 roots, 16 extra nodes, 4 pruned nodes, max_depth=5\u001b[0m\n",
      "\u001b[34m[140]#011train-error:0.084#011validation-error:0.1431\u001b[0m\n",
      "\u001b[34m[02:02:36] src/tree/updater_prune.cc:74: tree pruning end, 1 roots, 12 extra nodes, 12 pruned nodes, max_depth=5\u001b[0m\n",
      "\u001b[34m[141]#011train-error:0.083067#011validation-error:0.1425\u001b[0m\n",
      "\u001b[34m[02:02:37] src/tree/updater_prune.cc:74: tree pruning end, 1 roots, 14 extra nodes, 6 pruned nodes, max_depth=5\u001b[0m\n",
      "\u001b[34m[142]#011train-error:0.0832#011validation-error:0.1424\u001b[0m\n",
      "\u001b[34m[02:02:38] src/tree/updater_prune.cc:74: tree pruning end, 1 roots, 10 extra nodes, 0 pruned nodes, max_depth=5\u001b[0m\n",
      "\u001b[34m[143]#011train-error:0.083067#011validation-error:0.1428\u001b[0m\n",
      "\u001b[34m[02:02:40] src/tree/updater_prune.cc:74: tree pruning end, 1 roots, 20 extra nodes, 10 pruned nodes, max_depth=5\u001b[0m\n",
      "\u001b[34m[144]#011train-error:0.083133#011validation-error:0.1428\u001b[0m\n",
      "\u001b[34m[02:02:41] src/tree/updater_prune.cc:74: tree pruning end, 1 roots, 18 extra nodes, 6 pruned nodes, max_depth=5\u001b[0m\n",
      "\u001b[34m[145]#011train-error:0.083067#011validation-error:0.1416\u001b[0m\n",
      "\u001b[34m[02:02:42] src/tree/updater_prune.cc:74: tree pruning end, 1 roots, 24 extra nodes, 6 pruned nodes, max_depth=5\u001b[0m\n",
      "\u001b[34m[146]#011train-error:0.082933#011validation-error:0.1418\u001b[0m\n",
      "\u001b[34m[02:02:43] src/tree/updater_prune.cc:74: tree pruning end, 1 roots, 10 extra nodes, 2 pruned nodes, max_depth=5\u001b[0m\n",
      "\u001b[34m[147]#011train-error:0.0828#011validation-error:0.1416\u001b[0m\n",
      "\u001b[34m[02:02:45] src/tree/updater_prune.cc:74: tree pruning end, 1 roots, 20 extra nodes, 6 pruned nodes, max_depth=5\u001b[0m\n",
      "\u001b[34m[148]#011train-error:0.082133#011validation-error:0.142\u001b[0m\n",
      "\u001b[34m[02:02:46] src/tree/updater_prune.cc:74: tree pruning end, 1 roots, 24 extra nodes, 8 pruned nodes, max_depth=5\u001b[0m\n",
      "\u001b[34m[149]#011train-error:0.0804#011validation-error:0.1422\u001b[0m\n",
      "\u001b[34m[02:02:47] src/tree/updater_prune.cc:74: tree pruning end, 1 roots, 14 extra nodes, 2 pruned nodes, max_depth=5\u001b[0m\n",
      "\u001b[34m[150]#011train-error:0.08#011validation-error:0.1427\u001b[0m\n",
      "\u001b[34m[02:02:49] src/tree/updater_prune.cc:74: tree pruning end, 1 roots, 16 extra nodes, 6 pruned nodes, max_depth=5\u001b[0m\n",
      "\u001b[34m[151]#011train-error:0.079533#011validation-error:0.1423\u001b[0m\n",
      "\u001b[34m[02:02:50] src/tree/updater_prune.cc:74: tree pruning end, 1 roots, 18 extra nodes, 6 pruned nodes, max_depth=5\u001b[0m\n",
      "\u001b[34m[152]#011train-error:0.079867#011validation-error:0.1424\u001b[0m\n",
      "\u001b[34m[02:02:51] src/tree/updater_prune.cc:74: tree pruning end, 1 roots, 10 extra nodes, 8 pruned nodes, max_depth=5\u001b[0m\n",
      "\u001b[34m[153]#011train-error:0.079733#011validation-error:0.1419\u001b[0m\n",
      "\u001b[34m[02:02:52] src/tree/updater_prune.cc:74: tree pruning end, 1 roots, 14 extra nodes, 8 pruned nodes, max_depth=5\u001b[0m\n",
      "\u001b[34m[154]#011train-error:0.079867#011validation-error:0.1408\u001b[0m\n",
      "\u001b[34m[02:02:54] src/tree/updater_prune.cc:74: tree pruning end, 1 roots, 20 extra nodes, 8 pruned nodes, max_depth=5\u001b[0m\n",
      "\u001b[34m[155]#011train-error:0.080067#011validation-error:0.1408\u001b[0m\n",
      "\u001b[34m[02:02:55] src/tree/updater_prune.cc:74: tree pruning end, 1 roots, 10 extra nodes, 10 pruned nodes, max_depth=5\u001b[0m\n",
      "\u001b[34m[156]#011train-error:0.08#011validation-error:0.1408\u001b[0m\n",
      "\u001b[34m[02:02:56] src/tree/updater_prune.cc:74: tree pruning end, 1 roots, 14 extra nodes, 12 pruned nodes, max_depth=5\u001b[0m\n",
      "\u001b[34m[157]#011train-error:0.08#011validation-error:0.1403\u001b[0m\n",
      "\u001b[34m[02:02:57] src/tree/updater_prune.cc:74: tree pruning end, 1 roots, 18 extra nodes, 18 pruned nodes, max_depth=5\u001b[0m\n",
      "\u001b[34m[158]#011train-error:0.0792#011validation-error:0.1407\u001b[0m\n",
      "\u001b[34m[02:02:59] src/tree/updater_prune.cc:74: tree pruning end, 1 roots, 26 extra nodes, 10 pruned nodes, max_depth=5\u001b[0m\n",
      "\u001b[34m[159]#011train-error:0.078733#011validation-error:0.1404\u001b[0m\n",
      "\u001b[34m[02:03:00] src/tree/updater_prune.cc:74: tree pruning end, 1 roots, 12 extra nodes, 14 pruned nodes, max_depth=5\u001b[0m\n",
      "\u001b[34m[160]#011train-error:0.078733#011validation-error:0.1407\u001b[0m\n",
      "\u001b[34m[02:03:01] src/tree/updater_prune.cc:74: tree pruning end, 1 roots, 10 extra nodes, 4 pruned nodes, max_depth=5\u001b[0m\n",
      "\u001b[34m[161]#011train-error:0.078667#011validation-error:0.1404\u001b[0m\n",
      "\u001b[34m[02:03:02] src/tree/updater_prune.cc:74: tree pruning end, 1 roots, 16 extra nodes, 10 pruned nodes, max_depth=5\u001b[0m\n",
      "\u001b[34m[162]#011train-error:0.0786#011validation-error:0.1402\u001b[0m\n",
      "\u001b[34m[02:03:04] src/tree/updater_prune.cc:74: tree pruning end, 1 roots, 12 extra nodes, 12 pruned nodes, max_depth=5\u001b[0m\n",
      "\u001b[34m[163]#011train-error:0.0782#011validation-error:0.1398\u001b[0m\n",
      "\u001b[34m[02:03:05] src/tree/updater_prune.cc:74: tree pruning end, 1 roots, 10 extra nodes, 6 pruned nodes, max_depth=5\u001b[0m\n",
      "\u001b[34m[164]#011train-error:0.078133#011validation-error:0.1398\u001b[0m\n",
      "\u001b[34m[02:03:06] src/tree/updater_prune.cc:74: tree pruning end, 1 roots, 12 extra nodes, 0 pruned nodes, max_depth=5\u001b[0m\n",
      "\u001b[34m[165]#011train-error:0.077933#011validation-error:0.1401\u001b[0m\n",
      "\u001b[34m[02:03:08] src/tree/updater_prune.cc:74: tree pruning end, 1 roots, 24 extra nodes, 10 pruned nodes, max_depth=5\u001b[0m\n",
      "\u001b[34m[166]#011train-error:0.0782#011validation-error:0.1393\u001b[0m\n",
      "\u001b[34m[02:03:09] src/tree/updater_prune.cc:74: tree pruning end, 1 roots, 12 extra nodes, 4 pruned nodes, max_depth=5\u001b[0m\n",
      "\u001b[34m[167]#011train-error:0.078267#011validation-error:0.1397\u001b[0m\n",
      "\u001b[34m[02:03:10] src/tree/updater_prune.cc:74: tree pruning end, 1 roots, 10 extra nodes, 8 pruned nodes, max_depth=5\u001b[0m\n",
      "\u001b[34m[168]#011train-error:0.078067#011validation-error:0.1397\u001b[0m\n",
      "\u001b[34m[02:03:11] src/tree/updater_prune.cc:74: tree pruning end, 1 roots, 12 extra nodes, 4 pruned nodes, max_depth=5\u001b[0m\n",
      "\u001b[34m[169]#011train-error:0.077467#011validation-error:0.1394\u001b[0m\n",
      "\u001b[34m[02:03:13] src/tree/updater_prune.cc:74: tree pruning end, 1 roots, 12 extra nodes, 6 pruned nodes, max_depth=5\u001b[0m\n",
      "\u001b[34m[170]#011train-error:0.077333#011validation-error:0.1389\u001b[0m\n",
      "\u001b[34m[02:03:14] src/tree/updater_prune.cc:74: tree pruning end, 1 roots, 10 extra nodes, 10 pruned nodes, max_depth=5\u001b[0m\n",
      "\u001b[34m[171]#011train-error:0.077067#011validation-error:0.1391\u001b[0m\n",
      "\u001b[34m[02:03:15] src/tree/updater_prune.cc:74: tree pruning end, 1 roots, 10 extra nodes, 2 pruned nodes, max_depth=5\u001b[0m\n",
      "\u001b[34m[172]#011train-error:0.076533#011validation-error:0.1395\u001b[0m\n",
      "\u001b[34m[02:03:16] src/tree/updater_prune.cc:74: tree pruning end, 1 roots, 18 extra nodes, 14 pruned nodes, max_depth=5\u001b[0m\n",
      "\u001b[34m[173]#011train-error:0.076867#011validation-error:0.1396\u001b[0m\n",
      "\u001b[34m[02:03:18] src/tree/updater_prune.cc:74: tree pruning end, 1 roots, 16 extra nodes, 4 pruned nodes, max_depth=5\u001b[0m\n",
      "\u001b[34m[174]#011train-error:0.076667#011validation-error:0.14\u001b[0m\n",
      "\u001b[34m[02:03:19] src/tree/updater_prune.cc:74: tree pruning end, 1 roots, 10 extra nodes, 8 pruned nodes, max_depth=5\u001b[0m\n",
      "\u001b[34m[175]#011train-error:0.076467#011validation-error:0.1389\u001b[0m\n",
      "\u001b[34m[02:03:20] src/tree/updater_prune.cc:74: tree pruning end, 1 roots, 32 extra nodes, 10 pruned nodes, max_depth=5\u001b[0m\n",
      "\u001b[34m[176]#011train-error:0.076#011validation-error:0.1387\u001b[0m\n",
      "\u001b[34m[02:03:22] src/tree/updater_prune.cc:74: tree pruning end, 1 roots, 12 extra nodes, 8 pruned nodes, max_depth=5\u001b[0m\n",
      "\u001b[34m[177]#011train-error:0.075467#011validation-error:0.1384\u001b[0m\n",
      "\u001b[34m[02:03:23] src/tree/updater_prune.cc:74: tree pruning end, 1 roots, 22 extra nodes, 10 pruned nodes, max_depth=5\u001b[0m\n",
      "\u001b[34m[178]#011train-error:0.0746#011validation-error:0.1381\u001b[0m\n",
      "\u001b[34m[02:03:24] src/tree/updater_prune.cc:74: tree pruning end, 1 roots, 20 extra nodes, 8 pruned nodes, max_depth=5\u001b[0m\n",
      "\u001b[34m[179]#011train-error:0.074333#011validation-error:0.1381\u001b[0m\n",
      "\u001b[34m[02:03:25] src/tree/updater_prune.cc:74: tree pruning end, 1 roots, 10 extra nodes, 2 pruned nodes, max_depth=5\u001b[0m\n",
      "\u001b[34m[180]#011train-error:0.074#011validation-error:0.1378\u001b[0m\n",
      "\u001b[34m[02:03:27] src/tree/updater_prune.cc:74: tree pruning end, 1 roots, 14 extra nodes, 12 pruned nodes, max_depth=5\u001b[0m\n",
      "\u001b[34m[181]#011train-error:0.073667#011validation-error:0.1383\u001b[0m\n",
      "\u001b[34m[02:03:28] src/tree/updater_prune.cc:74: tree pruning end, 1 roots, 18 extra nodes, 0 pruned nodes, max_depth=5\u001b[0m\n",
      "\u001b[34m[182]#011train-error:0.073133#011validation-error:0.1382\u001b[0m\n",
      "\u001b[34m[02:03:29] src/tree/updater_prune.cc:74: tree pruning end, 1 roots, 24 extra nodes, 10 pruned nodes, max_depth=5\u001b[0m\n",
      "\u001b[34m[183]#011train-error:0.072333#011validation-error:0.1388\u001b[0m\n"
     ]
    },
    {
     "name": "stdout",
     "output_type": "stream",
     "text": [
      "\u001b[34m[02:03:30] src/tree/updater_prune.cc:74: tree pruning end, 1 roots, 18 extra nodes, 14 pruned nodes, max_depth=5\u001b[0m\n",
      "\u001b[34m[184]#011train-error:0.071533#011validation-error:0.1388\u001b[0m\n",
      "\u001b[34m[02:03:32] src/tree/updater_prune.cc:74: tree pruning end, 1 roots, 10 extra nodes, 10 pruned nodes, max_depth=5\u001b[0m\n",
      "\u001b[34m[185]#011train-error:0.0718#011validation-error:0.1386\u001b[0m\n",
      "\u001b[34m[02:03:33] src/tree/updater_prune.cc:74: tree pruning end, 1 roots, 16 extra nodes, 10 pruned nodes, max_depth=5\u001b[0m\n",
      "\u001b[34m[186]#011train-error:0.071867#011validation-error:0.1381\u001b[0m\n",
      "\u001b[34m[02:03:34] src/tree/updater_prune.cc:74: tree pruning end, 1 roots, 14 extra nodes, 10 pruned nodes, max_depth=5\u001b[0m\n",
      "\u001b[34m[187]#011train-error:0.0716#011validation-error:0.1384\u001b[0m\n",
      "\u001b[34m[02:03:36] src/tree/updater_prune.cc:74: tree pruning end, 1 roots, 12 extra nodes, 10 pruned nodes, max_depth=5\u001b[0m\n",
      "\u001b[34m[188]#011train-error:0.071733#011validation-error:0.1387\u001b[0m\n",
      "\u001b[34m[02:03:37] src/tree/updater_prune.cc:74: tree pruning end, 1 roots, 18 extra nodes, 4 pruned nodes, max_depth=5\u001b[0m\n",
      "\u001b[34m[189]#011train-error:0.071#011validation-error:0.139\u001b[0m\n",
      "\u001b[34m[02:03:38] src/tree/updater_prune.cc:74: tree pruning end, 1 roots, 14 extra nodes, 8 pruned nodes, max_depth=5\u001b[0m\n",
      "\u001b[34m[190]#011train-error:0.070667#011validation-error:0.1381\u001b[0m\n",
      "\u001b[34mStopping. Best iteration:\u001b[0m\n",
      "\u001b[34m[180]#011train-error:0.074#011validation-error:0.1378\n",
      "\u001b[0m\n",
      "\n",
      "2020-07-08 02:04:40 Uploading - Uploading generated training model\n",
      "2020-07-08 02:04:40 Completed - Training job completed\n",
      "Training seconds: 351\n",
      "Billable seconds: 351\n"
     ]
    }
   ],
   "source": [
    "xgb.fit({'train': s3_input_train, 'validation': s3_input_validation})"
   ]
  },
  {
   "cell_type": "markdown",
   "metadata": {},
   "source": [
    "## Step 5: Testing the model\n",
    "\n",
    "Now that we've fit our XGBoost model, it's time to see how well it performs. To do this we will use SageMakers Batch Transform functionality. Batch Transform is a convenient way to perform inference on a large dataset in a way that is not realtime. That is, we don't necessarily need to use our model's results immediately and instead we can perform inference on a large number of samples. An example of this in industry might be performing an end of month report. This method of inference can also be useful to us as it means that we can perform inference on our entire test set. \n",
    "\n",
    "To perform a Batch Transformation we need to first create a transformer objects from our trained estimator object."
   ]
  },
  {
   "cell_type": "code",
   "execution_count": 24,
   "metadata": {},
   "outputs": [],
   "source": [
    "xgb_transformer = xgb.transformer(instance_count = 1, instance_type = 'ml.m4.xlarge')"
   ]
  },
  {
   "cell_type": "markdown",
   "metadata": {},
   "source": [
    "Next we actually perform the transform job. When doing so we need to make sure to specify the type of data we are sending so that it is serialized correctly in the background. In our case we are providing our model with csv data so we specify `text/csv`. Also, if the test data that we have provided is too large to process all at once then we need to specify how the data file should be split up. Since each line is a single entry in our data set we tell SageMaker that it can split the input on each line."
   ]
  },
  {
   "cell_type": "code",
   "execution_count": 25,
   "metadata": {},
   "outputs": [],
   "source": [
    "xgb_transformer.transform(test_location, content_type='text/csv', split_type='Line')"
   ]
  },
  {
   "cell_type": "markdown",
   "metadata": {},
   "source": [
    "Currently the transform job is running but it is doing so in the background. Since we wish to wait until the transform job is done and we would like a bit of feedback we can run the `wait()` method."
   ]
  },
  {
   "cell_type": "code",
   "execution_count": 26,
   "metadata": {},
   "outputs": [
    {
     "name": "stdout",
     "output_type": "stream",
     "text": [
      "......................\u001b[34mArguments: serve\u001b[0m\n",
      "\u001b[34m[2020-07-08 02:08:23 +0000] [1] [INFO] Starting gunicorn 19.7.1\u001b[0m\n",
      "\u001b[34m[2020-07-08 02:08:23 +0000] [1] [INFO] Listening at: http://0.0.0.0:8080 (1)\u001b[0m\n",
      "\u001b[34m[2020-07-08 02:08:23 +0000] [1] [INFO] Using worker: gevent\u001b[0m\n",
      "\u001b[34m[2020-07-08 02:08:23 +0000] [37] [INFO] Booting worker with pid: 37\u001b[0m\n",
      "\u001b[34m[2020-07-08 02:08:23 +0000] [38] [INFO] Booting worker with pid: 38\u001b[0m\n",
      "\u001b[34m[2020-07-08 02:08:23 +0000] [39] [INFO] Booting worker with pid: 39\u001b[0m\n",
      "\u001b[34m[2020-07-08 02:08:23 +0000] [40] [INFO] Booting worker with pid: 40\u001b[0m\n",
      "\u001b[34m[2020-07-08:02:08:23:INFO] Model loaded successfully for worker : 37\u001b[0m\n",
      "\u001b[34m[2020-07-08:02:08:23:INFO] Model loaded successfully for worker : 38\u001b[0m\n",
      "\u001b[34m[2020-07-08:02:08:23:INFO] Model loaded successfully for worker : 39\u001b[0m\n",
      "\u001b[34m[2020-07-08:02:08:23:INFO] Model loaded successfully for worker : 40\u001b[0m\n",
      "\u001b[32m2020-07-08T02:08:51.536:[sagemaker logs]: MaxConcurrentTransforms=4, MaxPayloadInMB=6, BatchStrategy=MULTI_RECORD\u001b[0m\n",
      "\u001b[34m[2020-07-08:02:08:54:INFO] Sniff delimiter as ','\u001b[0m\n",
      "\u001b[34m[2020-07-08:02:08:54:INFO] Determined delimiter of CSV input is ','\u001b[0m\n",
      "\u001b[34m[2020-07-08:02:08:54:INFO] Sniff delimiter as ','\u001b[0m\n",
      "\u001b[34m[2020-07-08:02:08:54:INFO] Determined delimiter of CSV input is ','\u001b[0m\n",
      "\u001b[34m[2020-07-08:02:08:54:INFO] Sniff delimiter as ','\u001b[0m\n",
      "\u001b[34m[2020-07-08:02:08:54:INFO] Determined delimiter of CSV input is ','\u001b[0m\n",
      "\u001b[34m[2020-07-08:02:08:54:INFO] Sniff delimiter as ','\u001b[0m\n",
      "\u001b[34m[2020-07-08:02:08:54:INFO] Determined delimiter of CSV input is ','\u001b[0m\n",
      "\u001b[35m[2020-07-08:02:08:54:INFO] Sniff delimiter as ','\u001b[0m\n",
      "\u001b[35m[2020-07-08:02:08:54:INFO] Determined delimiter of CSV input is ','\u001b[0m\n",
      "\u001b[35m[2020-07-08:02:08:54:INFO] Sniff delimiter as ','\u001b[0m\n",
      "\u001b[35m[2020-07-08:02:08:54:INFO] Determined delimiter of CSV input is ','\u001b[0m\n",
      "\u001b[35m[2020-07-08:02:08:54:INFO] Sniff delimiter as ','\u001b[0m\n",
      "\u001b[35m[2020-07-08:02:08:54:INFO] Determined delimiter of CSV input is ','\u001b[0m\n",
      "\u001b[35m[2020-07-08:02:08:54:INFO] Sniff delimiter as ','\u001b[0m\n",
      "\u001b[35m[2020-07-08:02:08:54:INFO] Determined delimiter of CSV input is ','\u001b[0m\n",
      "\u001b[34m[2020-07-08:02:08:57:INFO] Sniff delimiter as ','\u001b[0m\n",
      "\u001b[34m[2020-07-08:02:08:57:INFO] Determined delimiter of CSV input is ','\u001b[0m\n",
      "\u001b[35m[2020-07-08:02:08:57:INFO] Sniff delimiter as ','\u001b[0m\n",
      "\u001b[35m[2020-07-08:02:08:57:INFO] Determined delimiter of CSV input is ','\u001b[0m\n",
      "\u001b[34m[2020-07-08:02:08:57:INFO] Sniff delimiter as ','\u001b[0m\n",
      "\u001b[34m[2020-07-08:02:08:57:INFO] Determined delimiter of CSV input is ','\u001b[0m\n",
      "\u001b[34m[2020-07-08:02:08:57:INFO] Sniff delimiter as ','\u001b[0m\n",
      "\u001b[34m[2020-07-08:02:08:57:INFO] Determined delimiter of CSV input is ','\u001b[0m\n",
      "\u001b[34m[2020-07-08:02:08:57:INFO] Sniff delimiter as ','\u001b[0m\n",
      "\u001b[34m[2020-07-08:02:08:57:INFO] Determined delimiter of CSV input is ','\u001b[0m\n",
      "\u001b[35m[2020-07-08:02:08:57:INFO] Sniff delimiter as ','\u001b[0m\n",
      "\u001b[35m[2020-07-08:02:08:57:INFO] Determined delimiter of CSV input is ','\u001b[0m\n",
      "\u001b[35m[2020-07-08:02:08:57:INFO] Sniff delimiter as ','\u001b[0m\n",
      "\u001b[35m[2020-07-08:02:08:57:INFO] Determined delimiter of CSV input is ','\u001b[0m\n",
      "\u001b[35m[2020-07-08:02:08:57:INFO] Sniff delimiter as ','\u001b[0m\n",
      "\u001b[35m[2020-07-08:02:08:57:INFO] Determined delimiter of CSV input is ','\u001b[0m\n",
      "\u001b[34m[2020-07-08:02:08:59:INFO] Sniff delimiter as ','\u001b[0m\n",
      "\u001b[34m[2020-07-08:02:08:59:INFO] Determined delimiter of CSV input is ','\u001b[0m\n",
      "\u001b[34m[2020-07-08:02:08:59:INFO] Sniff delimiter as ','\u001b[0m\n",
      "\u001b[34m[2020-07-08:02:08:59:INFO] Determined delimiter of CSV input is ','\u001b[0m\n",
      "\u001b[34m[2020-07-08:02:08:59:INFO] Sniff delimiter as ','\u001b[0m\n",
      "\u001b[34m[2020-07-08:02:08:59:INFO] Determined delimiter of CSV input is ','\u001b[0m\n",
      "\u001b[34m[2020-07-08:02:08:59:INFO] Sniff delimiter as ','\u001b[0m\n",
      "\u001b[34m[2020-07-08:02:08:59:INFO] Determined delimiter of CSV input is ','\u001b[0m\n",
      "\u001b[35m[2020-07-08:02:08:59:INFO] Sniff delimiter as ','\u001b[0m\n",
      "\u001b[35m[2020-07-08:02:08:59:INFO] Determined delimiter of CSV input is ','\u001b[0m\n",
      "\u001b[35m[2020-07-08:02:08:59:INFO] Sniff delimiter as ','\u001b[0m\n",
      "\u001b[35m[2020-07-08:02:08:59:INFO] Determined delimiter of CSV input is ','\u001b[0m\n",
      "\u001b[35m[2020-07-08:02:08:59:INFO] Sniff delimiter as ','\u001b[0m\n",
      "\u001b[35m[2020-07-08:02:08:59:INFO] Determined delimiter of CSV input is ','\u001b[0m\n",
      "\u001b[35m[2020-07-08:02:08:59:INFO] Sniff delimiter as ','\u001b[0m\n",
      "\u001b[35m[2020-07-08:02:08:59:INFO] Determined delimiter of CSV input is ','\u001b[0m\n",
      "\u001b[34m[2020-07-08:02:09:01:INFO] Sniff delimiter as ','\u001b[0m\n",
      "\u001b[34m[2020-07-08:02:09:01:INFO] Determined delimiter of CSV input is ','\u001b[0m\n",
      "\u001b[35m[2020-07-08:02:09:01:INFO] Sniff delimiter as ','\u001b[0m\n",
      "\u001b[35m[2020-07-08:02:09:01:INFO] Determined delimiter of CSV input is ','\u001b[0m\n",
      "\u001b[34m[2020-07-08:02:09:01:INFO] Sniff delimiter as ','\u001b[0m\n",
      "\u001b[35m[2020-07-08:02:09:01:INFO] Sniff delimiter as ','\u001b[0m\n",
      "\u001b[34m[2020-07-08:02:09:01:INFO] Determined delimiter of CSV input is ','\u001b[0m\n",
      "\u001b[34m[2020-07-08:02:09:02:INFO] Sniff delimiter as ','\u001b[0m\n",
      "\u001b[34m[2020-07-08:02:09:02:INFO] Determined delimiter of CSV input is ','\u001b[0m\n",
      "\u001b[34m[2020-07-08:02:09:02:INFO] Sniff delimiter as ','\u001b[0m\n",
      "\u001b[34m[2020-07-08:02:09:02:INFO] Determined delimiter of CSV input is ','\u001b[0m\n",
      "\u001b[35m[2020-07-08:02:09:01:INFO] Determined delimiter of CSV input is ','\u001b[0m\n",
      "\u001b[35m[2020-07-08:02:09:02:INFO] Sniff delimiter as ','\u001b[0m\n",
      "\u001b[35m[2020-07-08:02:09:02:INFO] Determined delimiter of CSV input is ','\u001b[0m\n",
      "\u001b[35m[2020-07-08:02:09:02:INFO] Sniff delimiter as ','\u001b[0m\n",
      "\u001b[35m[2020-07-08:02:09:02:INFO] Determined delimiter of CSV input is ','\u001b[0m\n",
      "\u001b[34m[2020-07-08:02:09:04:INFO] Determined delimiter of CSV input is ','\u001b[0m\n",
      "\u001b[34m[2020-07-08:02:09:04:INFO] Sniff delimiter as ','\u001b[0m\n",
      "\u001b[34m[2020-07-08:02:09:04:INFO] Determined delimiter of CSV input is ','\u001b[0m\n",
      "\u001b[35m[2020-07-08:02:09:04:INFO] Determined delimiter of CSV input is ','\u001b[0m\n",
      "\u001b[35m[2020-07-08:02:09:04:INFO] Sniff delimiter as ','\u001b[0m\n",
      "\u001b[35m[2020-07-08:02:09:04:INFO] Determined delimiter of CSV input is ','\u001b[0m\n",
      "\u001b[34m[2020-07-08:02:09:06:INFO] Sniff delimiter as ','\u001b[0m\n",
      "\u001b[35m[2020-07-08:02:09:06:INFO] Sniff delimiter as ','\u001b[0m\n",
      "\u001b[34m[2020-07-08:02:09:06:INFO] Determined delimiter of CSV input is ','\u001b[0m\n",
      "\u001b[34m[2020-07-08:02:09:06:INFO] Sniff delimiter as ','\u001b[0m\n",
      "\u001b[34m[2020-07-08:02:09:06:INFO] Determined delimiter of CSV input is ','\u001b[0m\n",
      "\u001b[34m[2020-07-08:02:09:06:INFO] Sniff delimiter as ','\u001b[0m\n",
      "\u001b[34m[2020-07-08:02:09:06:INFO] Determined delimiter of CSV input is ','\u001b[0m\n",
      "\u001b[35m[2020-07-08:02:09:06:INFO] Determined delimiter of CSV input is ','\u001b[0m\n",
      "\u001b[35m[2020-07-08:02:09:06:INFO] Sniff delimiter as ','\u001b[0m\n",
      "\u001b[35m[2020-07-08:02:09:06:INFO] Determined delimiter of CSV input is ','\u001b[0m\n",
      "\u001b[35m[2020-07-08:02:09:06:INFO] Sniff delimiter as ','\u001b[0m\n",
      "\u001b[35m[2020-07-08:02:09:06:INFO] Determined delimiter of CSV input is ','\u001b[0m\n",
      "\u001b[34m[2020-07-08:02:09:07:INFO] Sniff delimiter as ','\u001b[0m\n",
      "\u001b[34m[2020-07-08:02:09:07:INFO] Determined delimiter of CSV input is ','\u001b[0m\n",
      "\u001b[35m[2020-07-08:02:09:07:INFO] Sniff delimiter as ','\u001b[0m\n",
      "\u001b[35m[2020-07-08:02:09:07:INFO] Determined delimiter of CSV input is ','\u001b[0m\n",
      "\u001b[34m[2020-07-08:02:09:09:INFO] Sniff delimiter as ','\u001b[0m\n",
      "\u001b[34m[2020-07-08:02:09:09:INFO] Determined delimiter of CSV input is ','\u001b[0m\n",
      "\u001b[34m[2020-07-08:02:09:09:INFO] Sniff delimiter as ','\u001b[0m\n",
      "\u001b[34m[2020-07-08:02:09:09:INFO] Determined delimiter of CSV input is ','\u001b[0m\n",
      "\u001b[34m[2020-07-08:02:09:09:INFO] Sniff delimiter as ','\u001b[0m\n",
      "\u001b[34m[2020-07-08:02:09:09:INFO] Determined delimiter of CSV input is ','\u001b[0m\n",
      "\u001b[34m[2020-07-08:02:09:09:INFO] Sniff delimiter as ','\u001b[0m\n",
      "\u001b[34m[2020-07-08:02:09:09:INFO] Determined delimiter of CSV input is ','\u001b[0m\n",
      "\u001b[35m[2020-07-08:02:09:09:INFO] Sniff delimiter as ','\u001b[0m\n",
      "\u001b[35m[2020-07-08:02:09:09:INFO] Determined delimiter of CSV input is ','\u001b[0m\n",
      "\u001b[35m[2020-07-08:02:09:09:INFO] Sniff delimiter as ','\u001b[0m\n",
      "\u001b[35m[2020-07-08:02:09:09:INFO] Determined delimiter of CSV input is ','\u001b[0m\n",
      "\u001b[35m[2020-07-08:02:09:09:INFO] Sniff delimiter as ','\u001b[0m\n",
      "\u001b[35m[2020-07-08:02:09:09:INFO] Determined delimiter of CSV input is ','\u001b[0m\n",
      "\u001b[35m[2020-07-08:02:09:09:INFO] Sniff delimiter as ','\u001b[0m\n",
      "\u001b[35m[2020-07-08:02:09:09:INFO] Determined delimiter of CSV input is ','\u001b[0m\n",
      "\u001b[34m[2020-07-08:02:09:11:INFO] Sniff delimiter as ','\u001b[0m\n",
      "\u001b[34m[2020-07-08:02:09:11:INFO] Determined delimiter of CSV input is ','\u001b[0m\n",
      "\u001b[34m[2020-07-08:02:09:11:INFO] Sniff delimiter as ','\u001b[0m\n",
      "\u001b[34m[2020-07-08:02:09:11:INFO] Determined delimiter of CSV input is ','\u001b[0m\n",
      "\u001b[34m[2020-07-08:02:09:11:INFO] Sniff delimiter as ','\u001b[0m\n",
      "\u001b[34m[2020-07-08:02:09:11:INFO] Determined delimiter of CSV input is ','\u001b[0m\n",
      "\u001b[35m[2020-07-08:02:09:11:INFO] Sniff delimiter as ','\u001b[0m\n",
      "\u001b[35m[2020-07-08:02:09:11:INFO] Determined delimiter of CSV input is ','\u001b[0m\n",
      "\u001b[35m[2020-07-08:02:09:11:INFO] Sniff delimiter as ','\u001b[0m\n",
      "\u001b[35m[2020-07-08:02:09:11:INFO] Determined delimiter of CSV input is ','\u001b[0m\n",
      "\u001b[35m[2020-07-08:02:09:11:INFO] Sniff delimiter as ','\u001b[0m\n",
      "\u001b[35m[2020-07-08:02:09:11:INFO] Determined delimiter of CSV input is ','\u001b[0m\n",
      "\u001b[34m[2020-07-08:02:09:11:INFO] Sniff delimiter as ','\u001b[0m\n",
      "\u001b[34m[2020-07-08:02:09:11:INFO] Determined delimiter of CSV input is ','\u001b[0m\n",
      "\u001b[35m[2020-07-08:02:09:11:INFO] Sniff delimiter as ','\u001b[0m\n",
      "\u001b[35m[2020-07-08:02:09:11:INFO] Determined delimiter of CSV input is ','\u001b[0m\n"
     ]
    },
    {
     "name": "stdout",
     "output_type": "stream",
     "text": [
      "\n",
      "\u001b[34m[2020-07-08:02:09:14:INFO] Sniff delimiter as ','\u001b[0m\n",
      "\u001b[34m[2020-07-08:02:09:14:INFO] Determined delimiter of CSV input is ','\u001b[0m\n",
      "\u001b[34m[2020-07-08:02:09:14:INFO] Sniff delimiter as ','\u001b[0m\n",
      "\u001b[34m[2020-07-08:02:09:14:INFO] Determined delimiter of CSV input is ','\u001b[0m\n",
      "\u001b[34m[2020-07-08:02:09:14:INFO] Sniff delimiter as ','\u001b[0m\n",
      "\u001b[34m[2020-07-08:02:09:14:INFO] Determined delimiter of CSV input is ','\u001b[0m\n",
      "\u001b[35m[2020-07-08:02:09:14:INFO] Sniff delimiter as ','\u001b[0m\n",
      "\u001b[35m[2020-07-08:02:09:14:INFO] Determined delimiter of CSV input is ','\u001b[0m\n",
      "\u001b[35m[2020-07-08:02:09:14:INFO] Sniff delimiter as ','\u001b[0m\n",
      "\u001b[35m[2020-07-08:02:09:14:INFO] Determined delimiter of CSV input is ','\u001b[0m\n",
      "\u001b[35m[2020-07-08:02:09:14:INFO] Sniff delimiter as ','\u001b[0m\n",
      "\u001b[35m[2020-07-08:02:09:14:INFO] Determined delimiter of CSV input is ','\u001b[0m\n",
      "\u001b[34m[2020-07-08:02:09:16:INFO] Sniff delimiter as ','\u001b[0m\n",
      "\u001b[34m[2020-07-08:02:09:16:INFO] Determined delimiter of CSV input is ','\u001b[0m\n",
      "\u001b[34m[2020-07-08:02:09:16:INFO] Sniff delimiter as ','\u001b[0m\n",
      "\u001b[34m[2020-07-08:02:09:16:INFO] Determined delimiter of CSV input is ','\u001b[0m\n",
      "\u001b[34m[2020-07-08:02:09:16:INFO] Sniff delimiter as ','\u001b[0m\n",
      "\u001b[34m[2020-07-08:02:09:16:INFO] Determined delimiter of CSV input is ','\u001b[0m\n",
      "\u001b[34m[2020-07-08:02:09:16:INFO] Sniff delimiter as ','\u001b[0m\n",
      "\u001b[34m[2020-07-08:02:09:16:INFO] Determined delimiter of CSV input is ','\u001b[0m\n",
      "\u001b[35m[2020-07-08:02:09:16:INFO] Sniff delimiter as ','\u001b[0m\n",
      "\u001b[35m[2020-07-08:02:09:16:INFO] Determined delimiter of CSV input is ','\u001b[0m\n",
      "\u001b[35m[2020-07-08:02:09:16:INFO] Sniff delimiter as ','\u001b[0m\n",
      "\u001b[35m[2020-07-08:02:09:16:INFO] Determined delimiter of CSV input is ','\u001b[0m\n",
      "\u001b[35m[2020-07-08:02:09:16:INFO] Sniff delimiter as ','\u001b[0m\n",
      "\u001b[35m[2020-07-08:02:09:16:INFO] Determined delimiter of CSV input is ','\u001b[0m\n",
      "\u001b[35m[2020-07-08:02:09:16:INFO] Sniff delimiter as ','\u001b[0m\n",
      "\u001b[35m[2020-07-08:02:09:16:INFO] Determined delimiter of CSV input is ','\u001b[0m\n"
     ]
    }
   ],
   "source": [
    "xgb_transformer.wait()"
   ]
  },
  {
   "cell_type": "markdown",
   "metadata": {},
   "source": [
    "Now the transform job has executed and the result, the estimated sentiment of each review, has been saved on S3. Since we would rather work on this file locally we can perform a bit of notebook magic to copy the file to the `data_dir`."
   ]
  },
  {
   "cell_type": "code",
   "execution_count": 27,
   "metadata": {},
   "outputs": [
    {
     "name": "stdout",
     "output_type": "stream",
     "text": [
      "Completed 256.0 KiB/370.2 KiB (4.7 MiB/s) with 1 file(s) remaining\r",
      "Completed 370.2 KiB/370.2 KiB (6.7 MiB/s) with 1 file(s) remaining\r",
      "download: s3://sagemaker-us-west-2-966289448295/xgboost-2020-07-08-02-04-57-783/test.csv.out to ../data/sentiment_web_app/test.csv.out\r\n"
     ]
    }
   ],
   "source": [
    "!aws s3 cp --recursive $xgb_transformer.output_path $data_dir"
   ]
  },
  {
   "cell_type": "markdown",
   "metadata": {},
   "source": [
    "The last step is now to read in the output from our model, convert the output to something a little more usable, in this case we want the sentiment to be either `1` (positive) or `0` (negative), and then compare to the ground truth labels."
   ]
  },
  {
   "cell_type": "code",
   "execution_count": 28,
   "metadata": {},
   "outputs": [],
   "source": [
    "predictions = pd.read_csv(os.path.join(data_dir, 'test.csv.out'), header=None)\n",
    "predictions = [round(num) for num in predictions.squeeze().values]"
   ]
  },
  {
   "cell_type": "code",
   "execution_count": 29,
   "metadata": {},
   "outputs": [
    {
     "data": {
      "text/plain": [
       "0.8614"
      ]
     },
     "execution_count": 29,
     "metadata": {},
     "output_type": "execute_result"
    }
   ],
   "source": [
    "from sklearn.metrics import accuracy_score\n",
    "accuracy_score(test_y, predictions)"
   ]
  },
  {
   "cell_type": "markdown",
   "metadata": {},
   "source": [
    "## Step 6: Deploying the model\n",
    "\n",
    "Once we construct and fit our model, SageMaker stores the resulting model artifacts and we can use those to deploy an endpoint (inference code). To see this, look in the SageMaker console and you should see that a model has been created along with a link to the S3 location where the model artifacts have been stored.\n",
    "\n",
    "Deploying an endpoint is a lot like training the model with a few important differences. The first is that a deployed model doesn't change the model artifacts, so as you send it various testing instances the model won't change. Another difference is that since we aren't performing a fixed computation, as we were in the training step or while performing a batch transform, the compute instance that gets started stays running until we tell it to stop. This is important to note as if we forget and leave it running we will be charged the entire time.\n",
    "\n",
    "In other words **If you are no longer using a deployed endpoint, shut it down!**"
   ]
  },
  {
   "cell_type": "code",
   "execution_count": 30,
   "metadata": {},
   "outputs": [
    {
     "name": "stderr",
     "output_type": "stream",
     "text": [
      "WARNING:sagemaker:Using already existing model: xgboost-2020-07-08-01-56-42-011\n"
     ]
    },
    {
     "name": "stdout",
     "output_type": "stream",
     "text": [
      "-----------------!"
     ]
    }
   ],
   "source": [
    "xgb_predictor = xgb.deploy(initial_instance_count = 1, instance_type = 'ml.m4.xlarge')"
   ]
  },
  {
   "cell_type": "markdown",
   "metadata": {},
   "source": [
    "### Testing the model (again)\n",
    "\n",
    "Now that we have deployed our endpoint, we can send the testing data to it and get back the inference results. We already did this earlier using the batch transform functionality of SageMaker, however, we will test our model again using the newly deployed endpoint so that we can make sure that it works properly and to get a bit of a feel for how the endpoint works.\n",
    "\n",
    "When using the created endpoint it is important to know that we are limited in the amount of information we can send in each call so we need to break the testing data up into chunks and then send each chunk. Also, we need to serialize our data before we send it to the endpoint to ensure that our data is transmitted properly. Fortunately, SageMaker can do the serialization part for us provided we tell it the format of our data."
   ]
  },
  {
   "cell_type": "code",
   "execution_count": null,
   "metadata": {},
   "outputs": [],
   "source": [
    "from sagemaker.predictor import csv_serializer\n",
    "\n",
    "# We need to tell the endpoint what format the data we are sending is in so that SageMaker can perform the serialization.\n",
    "xgb_predictor.content_type = 'text/csv'\n",
    "xgb_predictor.serializer = csv_serializer"
   ]
  },
  {
   "cell_type": "code",
   "execution_count": null,
   "metadata": {},
   "outputs": [],
   "source": [
    "# We split the data into chunks and send each chunk seperately, accumulating the results.\n",
    "\n",
    "def predict(data, rows=512):\n",
    "    split_array = np.array_split(data, int(data.shape[0] / float(rows) + 1))\n",
    "    predictions = ''\n",
    "    for array in split_array:\n",
    "        predictions = ','.join([predictions, xgb_predictor.predict(array).decode('utf-8')])\n",
    "    \n",
    "    return np.fromstring(predictions[1:], sep=',')"
   ]
  },
  {
   "cell_type": "code",
   "execution_count": null,
   "metadata": {},
   "outputs": [],
   "source": [
    "test_X = pd.read_csv(os.path.join(data_dir, 'test.csv'), header=None).values\n",
    "\n",
    "predictions = predict(test_X)\n",
    "predictions = [round(num) for num in predictions]"
   ]
  },
  {
   "cell_type": "markdown",
   "metadata": {},
   "source": [
    "Lastly, we check to see what the accuracy of our model is."
   ]
  },
  {
   "cell_type": "code",
   "execution_count": null,
   "metadata": {},
   "outputs": [],
   "source": [
    "from sklearn.metrics import accuracy_score\n",
    "accuracy_score(test_y, predictions)"
   ]
  },
  {
   "cell_type": "markdown",
   "metadata": {},
   "source": [
    "And the results here should agree with the model testing that we did earlier using the batch transform job.\n",
    "\n",
    "### Cleaning up\n",
    "\n",
    "Now that we've determined that deploying our model works as expected, we are going to shut it down. Remember that the longer the endpoint is left running, the greater the cost and since we have a bit more work to do before we are able to use our endpoint with our simple web app, we should shut everything down."
   ]
  },
  {
   "cell_type": "code",
   "execution_count": null,
   "metadata": {},
   "outputs": [],
   "source": [
    "xgb_predictor.delete_endpoint()"
   ]
  },
  {
   "cell_type": "markdown",
   "metadata": {},
   "source": [
    "## Step 7: Putting our model to work\n",
    "\n",
    "As we've mentioned a few times now, our goal is to have our model deployed and then access it using a very simple web app. The intent is for this web app to take some user submitted data (a review), send it off to our endpoint (the model) and then display the result.\n",
    "\n",
    "However, there is a small catch. Currently the only way we can access the endpoint to send it data is using the SageMaker API. We can, if we wish, expose the actual URL that our model's endpoint is receiving data from, however, if we just send it data ourselves we will not get anything in return. This is because the endpoint created by SageMaker requires the entity accessing it have the correct permissions. So, we would need to somehow authenticate our web app with AWS.\n",
    "\n",
    "Having a website that authenticates to AWS seems a bit beyond the scope of this lesson so we will opt for an alternative approach. Namely, we will create a new endpoint which does not require authentication and which acts as a proxy for the SageMaker endpoint.\n",
    "\n",
    "As an additional constraint, we will try to avoid doing any data processing in the web app itself. Remember that when we constructed and tested our model we started with a movie review, then we simplified it by removing any html formatting and punctuation, then we constructed a bag of words embedding and the resulting vector is what we sent to our model. All of this needs to be done to our user input as well.\n",
    "\n",
    "Fortunately we can do all of this data processing in the backend, using Amazon's Lambda service.\n",
    "\n",
    "<img src=\"Web App Diagram.svg\">\n",
    "\n",
    "The diagram above gives an overview of how the various services will work together. On the far right is the model which we trained above and which will be deployed using SageMaker. On the far left is our web app that collects a user's movie review, sends it off and expects a positive or negative sentiment in return.\n",
    "\n",
    "In the middle is where some of the magic happens. We will construct a Lambda function, which you can think of as a straightforward Python function that can be executed whenever a specified event occurs. This Python function will do the data processing we need to perform on a user submitted review. In addition, we will give this function permission to send and recieve data from a SageMaker endpoint.\n",
    "\n",
    "Lastly, the method we will use to execute the Lambda function is a new endpoint that we will create using API Gateway. This endpoint will be a url that listens for data to be sent to it. Once it gets some data it will pass that data on to the Lambda function and then return whatever the Lambda function returns. Essentially it will act as an interface that lets our web app communicate with the Lambda function.\n",
    "\n",
    "### Processing a single review\n",
    "\n",
    "For now, suppose we are given a movie review by our user in the form of a string, like so:"
   ]
  },
  {
   "cell_type": "code",
   "execution_count": null,
   "metadata": {},
   "outputs": [],
   "source": [
    "test_review = \"Nothing but a disgusting materialistic pageant of glistening abed remote control greed zombies, totally devoid of any heart or heat. A romantic comedy that has zero romantic chemestry and zero laughs!\""
   ]
  },
  {
   "cell_type": "markdown",
   "metadata": {},
   "source": [
    "How do we go from this string to the bag of words feature vector that is expected by our model?\n",
    "\n",
    "If we recall at the beginning of this notebook, the first step is to remove any unnecessary characters using the `review_to_words` method. Remember that we intentionally did this in a very simplistic way. This is because we are going to have to copy this method to our (eventual) Lambda function (we will go into more detail later) and this means it needs to be rather simplistic."
   ]
  },
  {
   "cell_type": "code",
   "execution_count": null,
   "metadata": {},
   "outputs": [],
   "source": [
    "test_words = review_to_words(test_review)\n",
    "print(test_words)"
   ]
  },
  {
   "cell_type": "markdown",
   "metadata": {},
   "source": [
    "Next, we need to construct a bag of words embedding of the `test_words` string. To do this, remember that a bag of words embedding uses a `vocabulary` consisting of the most frequently appearing words in a set of documents. Then, for each word in the vocabulary we record the number of times that word appears in `test_words`. We constructed the `vocabulary` earlier using the training set for our problem so encoding `test_words` is relatively straightforward."
   ]
  },
  {
   "cell_type": "code",
   "execution_count": null,
   "metadata": {},
   "outputs": [],
   "source": [
    "def bow_encoding(words, vocabulary):\n",
    "    bow = [0] * len(vocabulary) # Start by setting the count for each word in the vocabulary to zero.\n",
    "    for word in words.split():  # For each word in the string\n",
    "        if word in vocabulary:  # If the word is one that occurs in the vocabulary, increase its count.\n",
    "            bow[vocabulary[word]] += 1\n",
    "    return bow"
   ]
  },
  {
   "cell_type": "code",
   "execution_count": null,
   "metadata": {},
   "outputs": [],
   "source": [
    "test_bow = bow_encoding(test_words, vocabulary)\n",
    "print(test_bow)"
   ]
  },
  {
   "cell_type": "code",
   "execution_count": null,
   "metadata": {},
   "outputs": [],
   "source": [
    "len(test_bow)"
   ]
  },
  {
   "cell_type": "markdown",
   "metadata": {},
   "source": [
    "So now we know how to construct a bag of words encoding of a user provided review, how to we send it to our endpoint? First, we need to start the endpoint back up."
   ]
  },
  {
   "cell_type": "code",
   "execution_count": null,
   "metadata": {},
   "outputs": [],
   "source": [
    "xgb_predictor = xgb.deploy(initial_instance_count = 1, instance_type = 'ml.m4.xlarge')"
   ]
  },
  {
   "cell_type": "markdown",
   "metadata": {},
   "source": [
    "At this point we could just do the same thing that we did earlier when we tested our deployed model and send `test_bow` to our endpoint using the `xgb_predictor` object. However, when we eventually construct our Lambda function we won't have access to this object, so how do we call a SageMaker endpoint?\n",
    "\n",
    "It turns out that Python functions that are used in Lambda have access to another Amazon library called `boto3`. This library provides an API for working with Amazon services, including SageMaker. To start with, we need to get a handle to the SageMaker runtime."
   ]
  },
  {
   "cell_type": "code",
   "execution_count": null,
   "metadata": {},
   "outputs": [],
   "source": [
    "import boto3\n",
    "\n",
    "runtime = boto3.Session().client('sagemaker-runtime')"
   ]
  },
  {
   "cell_type": "markdown",
   "metadata": {},
   "source": [
    "And now that we have access to the SageMaker runtime, we can ask it to make use of (invoke) an endpoint that has already been created. However, we need to provide SageMaker with the name of the deployed endpoint. To find this out we can print it out using the `xgb_predictor` object."
   ]
  },
  {
   "cell_type": "code",
   "execution_count": null,
   "metadata": {},
   "outputs": [],
   "source": [
    "xgb_predictor.endpoint"
   ]
  },
  {
   "cell_type": "markdown",
   "metadata": {},
   "source": [
    "Using the SageMaker runtime and the name of our endpoint, we can invoke the endpoint and send it the `test_bow` data."
   ]
  },
  {
   "cell_type": "code",
   "execution_count": null,
   "metadata": {},
   "outputs": [],
   "source": [
    "response = runtime.invoke_endpoint(EndpointName = xgb_predictor.endpoint, # The name of the endpoint we created\n",
    "                                       ContentType = 'text/csv',                     # The data format that is expected\n",
    "                                       Body = test_bow)"
   ]
  },
  {
   "cell_type": "markdown",
   "metadata": {},
   "source": [
    "So why did we get an error?\n",
    "\n",
    "Because we tried to send the endpoint a list of integers but it expected us to send data of type `text/csv`. So, we need to convert it."
   ]
  },
  {
   "cell_type": "code",
   "execution_count": null,
   "metadata": {},
   "outputs": [],
   "source": [
    "response = runtime.invoke_endpoint(EndpointName = xgb_predictor.endpoint, # The name of the endpoint we created\n",
    "                                       ContentType = 'text/csv',                     # The data format that is expected\n",
    "                                       Body = ','.join([str(val) for val in test_bow]).encode('utf-8'))"
   ]
  },
  {
   "cell_type": "code",
   "execution_count": null,
   "metadata": {},
   "outputs": [],
   "source": [
    "print(response)"
   ]
  },
  {
   "cell_type": "markdown",
   "metadata": {},
   "source": [
    "As we can see, the response from our model is a somewhat complicated looking dict that contains a bunch of information. The bit that we are most interested in is `'Body'` object which is a streaming object that we need to `read` in order to make use of."
   ]
  },
  {
   "cell_type": "code",
   "execution_count": null,
   "metadata": {},
   "outputs": [],
   "source": [
    "response = response['Body'].read().decode('utf-8')\n",
    "print(response)"
   ]
  },
  {
   "cell_type": "markdown",
   "metadata": {},
   "source": [
    "Now that we know how to process the incoming user data we can start setting up the infrastructure to make our simple web app work. To do this we will make use of two different services. Amazon's Lambda and API Gateway services.\n",
    "\n",
    "Lambda is a service which allows someone to write some relatively simple code and have it executed whenever a chosen trigger occurs. For example, you may want to update a database whenever new data is uploaded to a folder stored on S3.\n",
    "\n",
    "API Gateway is a service that allows you to create HTTP endpoints (url addresses) which are connected to other AWS services. One of the benefits to this is that you get to decide what credentials, if any, are required to access these endpoints.\n",
    "\n",
    "In our case we are going to set up an HTTP endpoint through API Gateway which is open to the public. Then, whenever anyone sends data to our public endpoint we will trigger a Lambda function which will send the input (in our case a review) to our model's endpoint and then return the result."
   ]
  },
  {
   "cell_type": "markdown",
   "metadata": {},
   "source": [
    "### Setting up a Lambda function\n",
    "\n",
    "The first thing we are going to do is set up a Lambda function. This Lambda function will be executed whenever our public API has data sent to it. When it is executed it will receive the data, perform any sort of processing that is required, send the data (the review) to the SageMaker endpoint we've created and then return the result.\n",
    "\n",
    "#### Part A: Create an IAM Role for the Lambda function\n",
    "\n",
    "Since we want the Lambda function to call a SageMaker endpoint, we need to make sure that it has permission to do so. To do this, we will construct a role that we can later give the Lambda function.\n",
    "\n",
    "Using the AWS Console, navigate to the **IAM** page and click on **Roles**. Then, click on **Create role**. Make sure that the **AWS service** is the type of trusted entity selected and choose **Lambda** as the service that will use this role, then click **Next: Permissions**.\n",
    "\n",
    "In the search box type `sagemaker` and select the check box next to the **AmazonSageMakerFullAccess** policy. Then, click on **Next: Review**.\n",
    "\n",
    "Lastly, give this role a name. Make sure you use a name that you will remember later on, for example `LambdaSageMakerRole`. Then, click on **Create role**."
   ]
  },
  {
   "cell_type": "markdown",
   "metadata": {},
   "source": [
    "#### Part B: Create a Lambda function\n",
    "\n",
    "Now it is time to actually create the Lambda function. Remember from earlier that in order to process the user provided input and send it to our endpoint we need to gather two pieces of information:\n",
    "\n",
    " - The name of the endpoint, and\n",
    " - the vocabulary object.\n",
    "\n",
    "We will copy these pieces of information to our Lambda function after we create it.\n",
    "\n",
    "To start, using the AWS Console, navigate to the AWS Lambda page and click on **Create a function**. When you get to the next page, make sure that **Author from scratch** is selected. Now, name your Lambda function, using a name that you will remember later on, for example `sentiment_analysis_xgboost_func`. Make sure that the **Python 3.6** runtime is selected and then choose the role that you created in the previous part. Then, click on **Create Function**.\n",
    "\n",
    "On the next page you will see some information about the Lambda function you've just created. If you scroll down you should see an editor in which you can write the code that will be executed when your Lambda function is triggered. Collecting the code we wrote above to process a single review and adding it to the provided example `lambda_handler` we arrive at the following.\n",
    "\n",
    "```python\n",
    "# We need to use the low-level library to interact with SageMaker since the SageMaker API\n",
    "# is not available natively through Lambda.\n",
    "import boto3\n",
    "\n",
    "# And we need the regular expression library to do some of the data processing\n",
    "import re\n",
    "\n",
    "REPLACE_NO_SPACE = re.compile(\"(\\.)|(\\;)|(\\:)|(\\!)|(\\')|(\\?)|(\\,)|(\\\")|(\\()|(\\))|(\\[)|(\\])\")\n",
    "REPLACE_WITH_SPACE = re.compile(\"(<br\\s*/><br\\s*/>)|(\\-)|(\\/)\")\n",
    "\n",
    "def review_to_words(review):\n",
    "    words = REPLACE_NO_SPACE.sub(\"\", review.lower())\n",
    "    words = REPLACE_WITH_SPACE.sub(\" \", words)\n",
    "    return words\n",
    "    \n",
    "def bow_encoding(words, vocabulary):\n",
    "    bow = [0] * len(vocabulary) # Start by setting the count for each word in the vocabulary to zero.\n",
    "    for word in words.split():  # For each word in the string\n",
    "        if word in vocabulary:  # If the word is one that occurs in the vocabulary, increase its count.\n",
    "            bow[vocabulary[word]] += 1\n",
    "    return bow\n",
    "\n",
    "\n",
    "def lambda_handler(event, context):\n",
    "    \n",
    "    vocab = \"*** ACTUAL VOCABULARY GOES HERE ***\"\n",
    "    \n",
    "    words = review_to_words(event['body'])\n",
    "    bow = bow_encoding(words, vocab)\n",
    "\n",
    "    # The SageMaker runtime is what allows us to invoke the endpoint that we've created.\n",
    "    runtime = boto3.Session().client('sagemaker-runtime')\n",
    "\n",
    "    # Now we use the SageMaker runtime to invoke our endpoint, sending the review we were given\n",
    "    response = runtime.invoke_endpoint(EndpointName = '***ENDPOINT NAME HERE***',# The name of the endpoint we created\n",
    "                                       ContentType = 'text/csv',                 # The data format that is expected\n",
    "                                       Body = ','.join([str(val) for val in bow]).encode('utf-8')) # The actual review\n",
    "\n",
    "    # The response is an HTTP response whose body contains the result of our inference\n",
    "    result = response['Body'].read().decode('utf-8')\n",
    "    \n",
    "    # Round the result so that our web app only gets '1' or '0' as a response.\n",
    "    result = round(float(result))\n",
    "\n",
    "    return {\n",
    "        'statusCode' : 200,\n",
    "        'headers' : { 'Content-Type' : 'text/plain', 'Access-Control-Allow-Origin' : '*' },\n",
    "        'body' : str(result)\n",
    "    }\n",
    "```"
   ]
  },
  {
   "cell_type": "markdown",
   "metadata": {},
   "source": [
    "Once you have copy and pasted the code above into the Lambda code editor, replace the `**ENDPOINT NAME HERE**` portion with the name of the endpoint that we deployed earlier. You can determine the name of the endpoint using the code cell below."
   ]
  },
  {
   "cell_type": "code",
   "execution_count": 31,
   "metadata": {},
   "outputs": [
    {
     "data": {
      "text/plain": [
       "'xgboost-2020-07-08-01-56-42-011'"
      ]
     },
     "execution_count": 31,
     "metadata": {},
     "output_type": "execute_result"
    }
   ],
   "source": [
    "xgb_predictor.endpoint"
   ]
  },
  {
   "cell_type": "markdown",
   "metadata": {},
   "source": [
    "In addition, you will need to copy the vocabulary dict to the appropriate place in the code at the beginning of the `lambda_handler` method. The cell below prints out the vocabulary dict in a way that is easy to copy and paste."
   ]
  },
  {
   "cell_type": "code",
   "execution_count": 32,
   "metadata": {},
   "outputs": [
    {
     "name": "stdout",
     "output_type": "stream",
     "text": [
      "{'heard': 2062, 'about': 67, 'this': 4457, 'movie': 2926, 'when': 4862, 'watching': 4815, '100': 1, 'most': 2909, 'metal': 2823, 'moments': 2887, 'on': 3105, 'the': 4426, 'segment': 3867, 'gene': 1879, 'simmons': 3981, 'who': 4871, 'played': 3297, 'cameo': 657, 'and': 226, 'several': 3905, 'other': 3135, 'how': 2181, 'utterly': 4702, 'awful': 372, 'is': 2360, 'unlike': 4670, 'people': 3221, 'im': 2232, 'often': 3095, 'more': 2904, 'curious': 1083, 'checking': 778, 'out': 3141, 'movies': 2927, 'that': 4424, 'have': 2052, 'for': 1784, 'being': 448, 'ridiculously': 3694, 'bad': 382, 'than': 4420, 'say': 3799, 'masterpiece': 2759, 'of': 3083, 'cinema': 816, 'advantage': 129, 'having': 2054, 'sort': 4077, 'attitude': 346, 'half': 2007, 'time': 4495, 'find': 1726, 'are': 285, 'nowhere': 3056, 'near': 2979, 'as': 311, 'said': 3774, 'end': 1468, 'up': 4683, 'enjoying': 1487, 'them': 4432, 'lot': 2661, 'initially': 2291, 'expected': 1577, 'was': 4805, 'my': 2951, 'experience': 1580, 'with': 4911, 'trick': 4582, 'or': 3124, 'treat': 4572, 'now': 3054, 'its': 2370, 'hard': 2033, 'to': 4507, 'make': 2713, 'teenage': 4389, 'boy': 557, 'receives': 3565, 'messages': 2820, 'from': 1840, 'dead': 1132, 'heavy': 2070, 'star': 4150, 'by': 642, 'playing': 3300, 'one': 3107, 'his': 2118, 'without': 4913, 'at': 331, 'premise': 3370, 'sure': 4308, 'certainly': 738, 'strange': 4211, 'but': 636, 'thats': 4425, 'never': 3001, 'been': 438, 'done': 1322, 'before': 440, 'give': 1912, 'filmmakers': 1720, 'points': 3319, 'originality': 3130, 'sake': 3775, 'if': 2222, 'youre': 4992, 'looking': 2648, 'buy': 640, 'dvd': 1391, 'no': 3020, 'prior': 3400, 'knowledge': 2491, 'dont': 1324, 'be': 418, 'fooled': 1780, 'into': 2332, 'thinking': 4453, 'stars': 4155, 'however': 2183, 'though': 4461, 'has': 2043, 'role': 3726, 'does': 1308, 'funny': 1852, 'right': 3696, 'speaks': 4096, 'against': 147, 'thing': 4450, 'seeing': 3857, 'short': 3946, 'hair': 2005, 'another': 250, 'you': 4986, 'cant': 671, 'help': 2079, 'laugh': 2529, 'irony': 2357, 'cheap': 774, 'shot': 3949, 'an': 223, 'effective': 1429, 'acting': 99, 'pretty': 3384, 'good': 1937, 'found': 1811, 'performances': 3229, 'convincing': 985, 'teen': 4388, 'characters': 760, 'horribly': 2164, 'clichéd': 845, 'so': 4046, 'expect': 1575, 'usual': 4699, 'like': 2599, 'in': 2257, 'every': 1539, 'these': 4441, 'girl': 1909, 'decent': 1147, 'person': 3238, 'sympathy': 4343, 'main': 2707, 'character': 758, 'yet': 4984, 'continues': 971, 'go': 1924, 'her': 2085, 'boyfriend': 558, 'she': 3923, 'going': 1931, 'such': 4268, 'complete': 921, 'jerk': 2395, 'first': 1736, 'place': 3282, 'because': 432, 'plot': 3309, 'needs': 2990, 'reason': 3557, 'guilty': 1995, 'evil': 1548, 'down': 1335, 'since': 3990, 'high': 2100, 'school': 3813, 'kept': 2456, 'interest': 2323, 'part': 3193, 'third': 4455, 'act': 97, 'way': 4820, 'too': 4522, 'conventional': 979, 'caused': 724, 'me': 2778, 'roll': 3728, 'eyes': 1613, 'there': 4438, 'would': 4957, 'predictable': 3367, 'situation': 4008, 'after': 143, 'altogether': 202, 'film': 1716, 'not': 3040, 'all': 187, 'definitely': 1162, 'worth': 4953, 'viewing': 4740, 'day': 1129, '10': 0, 'three': 4469, 'words': 4938, 'read': 3543, 'book': 535, 'really': 3556, 'guys': 2001, 'genuine': 1891, 'rendition': 3625, 'matters': 2770, 'loved': 2670, 'disappointed': 1273, 'it': 2366, 'ludicrous': 2685, 'heart': 2064, 'story': 4207, 'explained': 1587, 'novel': 3052, 'wasnt': 4807, 'meant': 2784, 'focus': 1766, 'adventure': 130, 'only': 3110, 'just': 2437, 'message': 2819, 'taken': 4350, 'back': 378, 'seat': 3845, 'visual': 4757, 'effects': 1431, 'show': 3953, 'energy': 1478, 'living': 2629, 'things': 4451, 'events': 1536, 'were': 4848, 'they': 4442, 'ill': 2228, 'watch': 4811, 'again': 146, 'saw': 3798, 'international': 2326, 'class': 833, 'get': 1899, 'nothing': 3047, 'scene': 3809, 'blatant': 502, 'shock': 3938, 'value': 4709, 'next': 3007, 'man': 2721, 'alcoholic': 177, 'writer': 4968, 'named': 2961, 'danger': 1109, 'he': 2056, 'meets': 2795, 'woman': 4921, 'giving': 1915, 'local': 2634, 'club': 863, 'decides': 1150, 'stay': 4166, 'discovers': 1281, 'attractive': 351, 'put': 3480, 'likes': 2602, 'dutch': 1389, 'plan': 3287, 'can': 665, 'ultimately': 4628, 'sex': 3907, 'him': 2110, 'later': 2525, 'discovered': 1280, 'had': 2003, 'previous': 3387, 'husbands': 2205, 'murdered': 2940, 'could': 1007, 'storyline': 4208, 'makes': 2716, 'sense': 3877, 'holes': 2133, 'editing': 1421, 'everything': 1544, 'else': 1448, 'technical': 4381, 'perfectly': 3226, 'fine': 1729, 'gross': 1978, 'felt': 1692, 'need': 2987, 'some': 4061, 'parts': 3199, 'basically': 407, 'isnt': 2362, 'cup': 1080, 'tea': 4373, 'opens': 3115, 'getting': 1901, 'bed': 436, 'shirt': 3937, 'very': 4723, 'beginning': 443, 'see': 3855, 'lovely': 2671, 'around': 297, 'walks': 4780, 'apartment': 265, 'state': 4160, 'dream': 1354, 'where': 4864, 'gets': 1900, 'cut': 1089, 'off': 3084, 'pair': 3176, 'do': 1302, 'along': 195, 'blood': 512, 'ensues': 1493, 'jesus': 2399, 'homosexual': 2145, 'plus': 3311, 'theres': 4440, 'freddy': 1826, 'combined': 885, 'anything': 260, 'shocking': 3940, 'scenes': 3811, 'comes': 891, 'whole': 4873, 'any': 256, 'your': 4991, 'otherwise': 3137, 'far': 1653, 'away': 369, 'mind': 2849, 'still': 4188, 'quite': 3495, 'understood': 4647, 'popularity': 3334, 'power': 3359, 'rangers': 3517, 'which': 4867, 'simply': 3986, 'second': 3846, 'rate': 3526, 'version': 4720, 'ultra': 4629, 'popular': 3333, 'super': 4295, 'series': 3890, 'past': 3207, 'decades': 1145, 'what': 4858, 'cool': 989, 'japanese': 2382, 'completely': 922, 'lost': 2660, 'american': 213, 'characterization': 759, 'special': 4097, 'etc': 1527, 'course': 1019, 'many': 2732, 'kids': 2467, 'will': 4886, 'greatest': 1966, 'spoke': 4125, 'learn': 2550, 'much': 2934, 'better': 472, 'over': 3148, 'try': 4600, 'instead': 2307, 'prom': 3429, 'night': 3013, 'title': 4504, 'remake': 3612, '1980': 20, 'slasher': 4020, 'flick': 1754, 'starred': 4153, 'jamie': 2379, 'lee': 2559, 'curtis': 1087, 'leslie': 2574, 'takes': 4351, 'town': 4541, 'donna': 1323, 'snow': 4045, 'let': 2579, 'herself': 2092, 'fun': 1848, 'through': 4477, 'extremely': 1610, 'few': 1700, 'years': 4979, 'friends': 1837, 'arrive': 300, 'taking': 4352, 'grand': 1953, 'hotel': 2175, 'enjoy': 1484, 'supposed': 4306, 'their': 4431, 'lives': 2628, 'little': 2624, 'anyone': 259, 'know': 2489, 'haunted': 2050, 'also': 199, 'willing': 4889, 'kill': 2468, 'pursuit': 3476, 'fan': 1648, 'original': 3129, 'tried': 4584, 'maintain': 2710, 'hope': 2155, 'admit': 122, 'suffers': 4278, 'worst': 4952, 'horror': 2168, 'absolutely': 72, 'surprises': 4314, 'here': 2086, 'seen': 3865, 'dozens': 1339, 'times': 4497, 'audience': 352, 'boredom': 542, 'unless': 4669, 'pre': 3365, 'crowd': 1067, 'majority': 2712, 'likely': 2601, 'able': 66, 'guess': 1989, 'nearly': 2981, 'happen': 2026, 'simplistic': 3985, 'entire': 1502, 'script': 3834, 'type': 4621, 'surprise': 4312, 'twist': 4617, 'atmosphere': 333, 'hurts': 2203, 'gives': 1914, 'sink': 3999, 'teeth': 4393, 'seemed': 3862, 'bland': 500, 'seem': 3861, 'complain': 919, 'fact': 1621, 'pg': 3250, '13': 4, 'well': 4843, 'understand': 4643, 'saying': 3800, 'think': 4452, 'impossible': 2249, 'minimal': 2855, 'gore': 1941, 'take': 4349, 'halloween': 2010, 'example': 1553, 'screen': 3829, 'violence': 4747, 'frightening': 1839, 'scary': 3807, 'even': 1533, 'violent': 4748, 'tame': 4363, 'added': 116, 'build': 614, 'begin': 442, 'tension': 4404, 'suspense': 4330, 'mild': 2839, 'best': 469, 'spent': 4108, 'outcome': 3142, 'situations': 4009, 'correct': 1000, 'our': 3139, 'arent': 288, 'written': 4972, 'enough': 1491, 'either': 1438, 'connection': 946, 'numbers': 3061, 'routine': 3743, 'point': 3316, 'did': 1241, 'useless': 4695, 'cinematography': 820, 'nice': 3008, 'filmed': 1717, 'fairly': 1631, 'stylish': 4251, 'among': 217, 'jump': 2429, 'scares': 3806, 'kind': 2476, 'clever': 841, 'sets': 3899, 'neat': 2982, 'may': 2775, 'mediocre': 2791, 'plays': 3301, 'lead': 2545, 'rest': 3657, 'cast': 710, 'doesnt': 1309, 'talent': 4354, 'villain': 4744, 'probably': 3407, 'experienced': 1581, 'performer': 3231, 'impressive': 2253, 'change': 749, 'typical': 4623, 'killer': 2470, 'we': 4823, 'ending': 1471, 'goes': 1930, 'last': 2521, 'fifteen': 1706, 'minutes': 2859, 'bored': 541, 'anti': 254, 'climactic': 848, 'overall': 3150, 'disappointment': 1275, 'somewhat': 4068, 'considering': 952, 'potential': 3355, 'lacked': 2503, 'development': 1225, 'nor': 3032, 'believable': 453, 'id': 2212, 'advise': 134, 'fans': 1650, 'save': 3794, 'money': 2888, 'wait': 4770, 'till': 4493, 'video': 4733, 'rent': 3626, 'entertainment': 1500, 'left': 2561, 'theater': 4427, 'reviews': 3679, 'ive': 2372, 'reveals': 3673, 'tend': 4400, 'two': 4620, 'feel': 1684, 'exactly': 1551, 'opposite': 3123, 'bit': 488, 'trying': 4601, 'different': 1248, 'ways': 4822, 'showing': 3958, 'che': 773, 'personality': 3242, 'types': 4622, 'stock': 4193, 'locations': 2636, 'cutting': 1092, 'forth': 1804, 'between': 475, 'interview': 2329, 'revolution': 3680, 'distracting': 1297, 'enters': 1496, 'changing': 752, 'location': 2635, 'rules': 3754, 'structure': 4233, 'changes': 751, 'gone': 1935, 'jumps': 2432, 'documentary': 1307, 'realism': 3549, 'literally': 2622, 'trapped': 4564, 'landscape': 2513, 'exist': 1569, 'survival': 4320, 'dark': 1115, 'turn': 4605, 'life': 2592, 'real': 3547, 'why': 4878, 'prefer': 3368, 'least': 2554, 'acts': 107, 'coming': 896, 'age': 148, 'military': 2844, 'cuba': 1075, 'missing': 2869, 'experiences': 1582, 'importantly': 2248, 'opinion': 3118, 'post': 3352, 'create': 1036, 'detailed': 1218, 'exploration': 1593, 'controversial': 978, 'aspects': 322, 'nature': 2975, 'both': 547, 'armed': 293, 'revolutionary': 3681, 'world': 4946, 'war': 4792, 'ii': 2226, 'countries': 1013, 'activities': 102, 'case': 707, 'long': 2644, 'dialog': 1232, 'intimate': 2331, 'suffering': 4277, 'portrayal': 3341, 'changed': 750, 'tell': 4395, 'chance': 747, 'success': 4265, 'number': 3060, 'camera': 659, 'shows': 3960, 'rock': 3720, 'involves': 2348, 'narrative': 2966, 'hell': 2077, 'beliefs': 452, 'desperation': 1210, 'death': 1141, 'easy': 1410, 'german': 1896, 'filmmaker': 1719, 'managed': 2723, 'task': 4368, 'thought': 4462, 'hes': 2093, 'fellow': 1691, 'uwe': 4703, 'boll': 529, 'director': 1264, 'ever': 1538, 'made': 2697, 'truly': 4597, 'ed': 1415, 'wood': 4933, 'new': 3003, 'laughable': 2530, 'am': 204, 'proud': 3444, 'embarrassed': 1453, 'watched': 4813, 'fascinated': 1657, 'low': 2676, 'bar': 396, 'set': 3898, 'answer': 251, 'pit': 3278, 'buried': 624, 'begins': 444, 'someone': 4064, 'lived': 2626, 'los': 2653, 'angeles': 233, 'doctor': 1304, 'actor': 103, 'screenwriter': 3833, 'waiting': 4772, 'easily': 1406, 'wannabe': 4787, 'actors': 104, 'ridiculous': 3693, 'straight': 4210, 'face': 1616, 'beat': 423, 'cop': 991, 'thick': 4447, 'accent': 78, 'aside': 315, 'serial': 3889, 'la': 2500, 'despite': 1211, 'stops': 4203, 'innocent': 2294, 'women': 4923, 'then': 4436, 'drags': 1345, 'home': 2142, 'top': 4525, 'floor': 1759, 'plain': 3286, 'sight': 3969, 'refuses': 3587, 'investigate': 2342, 'physically': 3263, 'attack': 337, 'ninja': 3018, 'style': 4249, 'production': 3419, 'budget': 610, 'apparently': 270, 'included': 2262, 'paint': 3173, 'cardboard': 682, 'wall': 4781, 'obviously': 3072, 'non': 3027, 'sad': 3767, 'european': 1530, 'possibly': 3351, 'acted': 98, 'native': 2972, 'desperate': 1208, 'middle': 2833, 'aged': 149, 'fair': 1630, 'mention': 2810, 'spring': 4134, 'police': 3322, 'sadly': 3769, 'couldnt': 1008, 'afford': 138, 'car': 680, 'cops': 993, 'cruise': 1071, 'streets': 4217, 'rental': 3627, 'focuses': 1768, 'dirty': 1268, 'officer': 3092, 'efforts': 1433, 'young': 4989, 'stop': 4201, 'especially': 1520, 'mess': 2818, 'vague': 4705, 'career': 686, 'fits': 1741, 'tortured': 4530, 'brando': 566, 'appreciated': 280, 'latter': 2528, 'zombie': 4997, 'victims': 4730, 'murders': 2943, 'spell': 4104, 'ask': 316, 'resort': 3650, 'accept': 80, 'logic': 2638, 'absurd': 73, 'ride': 3692, 'hand': 2015, 'covered': 1023, 'girls': 1911, 'manage': 2722, 'appearance': 274, 'look': 2646, 'maybe': 2776, 'black': 493, 'zombies': 4998, 'fashion': 1659, 'models': 2881, 'ready': 3546, 'creative': 1041, 'note': 3044, 'large': 2517, 'cheesy': 781, 'trash': 4565, 'soundtrack': 4085, 'talking': 4360, 'noise': 3024, 'stuff': 4243, 'might': 2835, 'shake': 3914, 'speak': 4094, 'normal': 3033, 'mean': 2779, 'becoming': 435, 'opportunities': 3120, 'shower': 3957, 'us': 4690, 'golden': 1934, 'yes': 4982, 'wont': 4932, 'spoil': 4121, 'revealing': 3672, 'tune': 4602, 'spirit': 4113, 'should': 3951, 'name': 2960, 'plenty': 3307, 'comedies': 889, 'serious': 3891, 'ladies': 2506, 'desperately': 1209, 'less': 2575, 'guy': 2000, 'got': 1944, 'chicks': 787, 'nuclear': 3057, 'laughed': 2532, 'harder': 2035, 'unfunny': 4655, 'boring': 543, 'stupid': 4247, 'inane': 2258, 'annoying': 249, 'particularly': 3195, 'care': 684, 'tim': 4494, 'snl': 4044, 'lacking': 2504, 'common': 906, 'bag': 384, 'head': 2057, 'while': 4868, 'hitting': 2126, 'fail': 1625, 'include': 2261, 'motivation': 2914, 'bizarre': 492, 'seventies': 3904, 'tries': 4585, 'humor': 2192, 'appears': 278, 'himself': 2111, 'porn': 3336, 'shortly': 3947, 'hang': 2022, 'comedy': 890, 'consider': 949, 'myself': 2953, 'spending': 4106, 'writing': 4971, 'bright': 581, 'something': 4066, 'mary': 2751, 'shut': 3961, 'chair': 742, 'under': 4639, 'breath': 573, 'longer': 2645, 'attempted': 341, 'suicide': 4283, 'earth': 1403, 'come': 886, 'close': 853, 'huge': 2185, 'contemporary': 965, 'creating': 1039, 'box': 555, 'office': 3091, 'below': 462, 'artistic': 308, 'deals': 1137, 'marketing': 2741, 'mere': 2814, 'sole': 4055, 'purpose': 3474, 'touching': 4536, 'sensitive': 3879, 'mostly': 2910, 'considered': 951, 'country': 1014, 'provide': 3448, 'brief': 579, 'definition': 1163, 'perfect': 3224, 'theatrical': 4430, 'background': 380, 'members': 2801, 'fit': 1740, 'roles': 3727, 'job': 2405, 'ones': 3108, 'deserves': 1201, 'small': 4033, 'word': 4937, 'appreciation': 281, 'knows': 2493, 'choose': 799, 'media': 2789, 'monkey': 2890, 'art': 304, 'solely': 4056, 'consists': 955, 'dealing': 1136, 'naked': 2959, 'becomes': 434, 'history': 2121, 'ears': 1402, 'work': 4940, 'achieve': 92, 'approach': 282, 'hot': 2174, 'kidding': 2465, 'each': 1395, 'single': 3996, 'okay': 3099, 'rating': 3529, 'handful': 2017, 'gave': 1875, 'zero': 4996, 'segments': 3868, 'great': 1964, 'promise': 3430, 'talented': 4355, 'whom': 4875, 'notable': 3041, 'big': 478, 'hollywood': 2137, 'productions': 3420, 'range': 3516, 'rough': 3741, 'turns': 4609, 'bill': 481, 'james': 2378, 'karen': 2444, 'martin': 2748, 'melodramatic': 2798, 'psychotic': 3459, 'seems': 3864, 'intentionally': 2320, 'lab': 2501, 'victim': 4729, 'laughs': 2534, 'genuinely': 1892, 'judge': 2424, 'yourself': 4993, 'space': 4090, 'silly': 3976, 'soon': 4074, 'putting': 3482, 'weight': 4840, 'senseless': 3878, 'drivel': 1364, 'enjoyed': 1486, 'classic': 835, 'cars': 702, 'dog': 1310, 'sold': 4052, 'cheese': 780, 'actually': 109, '20': 29, 'million': 2847, 'bucks': 606, 'monster': 2892, 'looked': 2647, 'teens': 4392, 'children': 792, 'those': 4460, 'sounded': 4082, 'sound': 4081, 'trite': 4589, 'producers': 3416, 'leaving': 2557, 'door': 1328, 'open': 3112, 'thumbs': 4485, 'although': 201, 'dry': 1377, 'whatever': 4859, 'scott': 3824, 'start': 4156, 'hopes': 2159, 'enjoyable': 1485, 'until': 4680, 'crazy': 1035, 'unexpected': 4650, 'horrible': 2163, 'credits': 1050, 'rolled': 3729, 'happy': 2032, 'unfortunately': 4654, 'faith': 1633, 'goodness': 1938, 'alright': 198, 'buff': 611, 'kinds': 2478, 'test': 4416, 'always': 203, 'wonderful': 4928, 'indeed': 2271, 'asked': 317, 'bother': 548, 'rotten': 3740, 'trashy': 4566, 'waste': 4808, 'therefore': 4439, 'cannot': 670, 'avoid': 363, 'avoided': 364, 'explaining': 1588, 'wrong': 4973, 'amateurish': 207, 'except': 1556, 'quality': 3484, 'want': 4788, 'responsibility': 3655, 'episode': 1507, 'science': 3816, 'fiction': 1702, 'alien': 183, 'beings': 449, 'extraordinary': 1607, 'unusual': 4681, 'seemingly': 3863, 'settings': 3901, 'kicking': 2462, 'silent': 3975, 'form': 1798, 'recorded': 3574, 'musical': 2947, 'track': 4544, 'piano': 3264, 'section': 3853, 'liberal': 2588, 'use': 4692, 'cards': 683, 'old': 3100, 'titles': 4506, 'exaggerated': 1552, 'overdone': 3152, 'rather': 3528, 'veteran': 4724, 'norman': 3035, 'hour': 2176, 'installment': 2303, 'featuring': 1681, 'brothers': 599, 'fields': 1705, 'lloyd': 2630, 'danny': 1112, 'stranger': 4213, 'tv': 4610, 'television': 4394, 'appear': 273, 'mr': 2929, 'keaton': 2448, 'worked': 4941, 'together': 4511, 'evidence': 1546, 'judging': 2425, 'succeeded': 4263, 'doing': 1312, 'flying': 1764, 'colors': 879, 'directed': 1259, 'aware': 368, 'player': 3298, 'comfortable': 892, 'behind': 447, 'front': 1841, 'must': 2950, 'apparent': 269, 'gags': 1862, 'own': 3158, 'picture': 3269, 'days': 1130, 'gag': 1861, 'pants': 3182, 'adams': 112, 'clear': 839, 'craft': 1028, 'knew': 2486, 'dimensional': 1253, 'image': 2233, 'bottom': 551, 'rule': 3753, 'making': 2718, 'once': 3106, 'full': 1846, 'stanley': 4148, 'served': 3894, 'jesse': 2397, 'white': 4870, 'ran': 3513, 'fix': 1744, 'shop': 3945, 'george': 1893, 'harry': 2039, 'warren': 4801, 'parker': 3191, 'largely': 2518, 'lets': 2580, 'lesson': 2577, 'learned': 2551, 'already': 197, 'mentioned': 2811, 'looks': 2649, 'side': 3965, 'careful': 688, 'doubt': 1332, 'regular': 3592, 'happens': 2029, 'love': 2669, 'films': 1721, 'student': 4238, 'reference': 3582, 'arts': 310, 'final': 1722, 'nevertheless': 3002, 'total': 4531, 'basic': 406, 'matter': 2769, 'novels': 3053, 'introduction': 2339, 'conclusion': 936, 'protagonist': 3441, 'climax': 849, 'epic': 1506, 'believe': 454, '30': 42, 'commercial': 902, 'levels': 2585, 'terms': 4406, 'introduces': 2338, 'ends': 1474, 'sounds': 4084, 'parody': 3192, 'thus': 4486, 'justify': 2439, 'expecting': 1578, 'told': 4513, 'itself': 2371, 'warning': 4800, 'childish': 791, 'vengeance': 4719, 'portrayed': 3342, 'simple': 3983, 'sequence': 3887, 'quickly': 3491, 'realize': 3552, 'values': 4710, 'thanks': 4423, 'list': 2617, 'merit': 2816, 'team': 4378, 'difficult': 1249, 'doors': 1329, 'opened': 3113, 'exercise': 1568, 'color': 877, 'carefully': 689, 'chosen': 805, 'plans': 3292, 'score': 3822, 'shame': 3918, 'feels': 1687, 'hardly': 2036, 'available': 361, 'extras': 1608, 'comparison': 914, 'shorts': 3948, 'product': 3418, 'female': 1693, '50': 51, 'ago': 154, 'ok': 3098, 'piece': 3272, 'shown': 3959, 'kitchen': 2485, 'shall': 3916, 'problems': 3409, 'views': 4742, 'remember': 3616, 'youth': 4994, 'garden': 1872, 'called': 652, 'valley': 4707, 'drama': 1346, 'african': 142, 'navy': 2976, 'master': 2757, 'jr': 2423, 'odds': 3082, 'screenplay': 3831, 'extreme': 1609, 'direction': 1261, 'inspiring': 2302, 'liked': 2600, 'par': 3184, 'masterful': 2758, 'works': 4945, 'taxi': 4371, 'driver': 1366, 'godfather': 1927, 'others': 3136, 'king': 2479, 'angel': 231, 'performance': 3228, 'imdb': 2240, 'jim': 2402, 'carrey': 696, 'rocks': 3722, 'bound': 553, 'disappoint': 1272, 'lou': 2663, 'laughing': 2533, 'highly': 2105, 'focused': 1767, 'relationships': 3598, 'french': 1830, 'swimming': 4338, 'parents': 3188, 'teachers': 4376, 'boys': 559, 'represented': 3638, 'figure': 1711, 'determined': 1221, 'leaves': 2556, 'confused': 941, 'join': 2412, 'shes': 3930, 'odd': 3080, 'feet': 1688, 'sports': 4130, 'lips': 2615, 'grows': 1985, 'certain': 737, 'angles': 237, 'older': 3101, 'developed': 1223, 'cuts': 1091, 'swim': 4337, 'suit': 4284, 'blond': 510, 'wonder': 4926, 'intense': 2316, 'crush': 1072, 'actress': 105, 'adds': 119, 'meaning': 2780, 'hidden': 2096, 'feelings': 1686, 'spend': 4105, 'topic': 4526, 'during': 1387, 'relationship': 3597, 'soft': 4051, 'nudity': 3059, 'covers': 1024, 'sometimes': 4067, 'analysis': 224, 'partly': 3197, 'expressed': 1601, 'action': 100, 'complex': 923, 'distant': 1295, 'self': 3869, 'satisfied': 3789, 'handsome': 2021, 'dumb': 1385, 'bus': 631, 'wants': 4791, 'favor': 1670, 'uses': 4697, 'superior': 4300, 'wing': 4896, 'virgin': 4749, 'draw': 1349, 'closer': 856, 'finally': 1724, 'shed': 3924, 'rid': 3690, 'drawn': 1351, 'sexually': 3910, 'performs': 3234, 'dances': 1106, 'follows': 1775, 'room': 3735, 'stand': 4143, 'staring': 4152, 'neither': 2996, 'stands': 4147, 'slowly': 4032, 'reaches': 3538, 'steps': 4177, 'smiling': 4037, 'says': 3801, 'description': 1197, 'treats': 4575, 'irrelevant': 2358, 'child': 789, 'friend': 1835, 'lover': 2672, 'minute': 2858, 'using': 4698, 'men': 2805, 'satisfy': 3790, 'louise': 2666, 'member': 2800, 'trio': 4587, 'whose': 4877, 'expression': 1602, 'suggests': 4282, 'thoroughly': 4459, 'means': 2783, 'compare': 911, 'idea': 2213, 'medium': 2792, 'born': 544, 'spain': 4091, 'theme': 4433, 'womens': 4924, 'psychological': 3458, 'son': 4070, 'birth': 486, 'brother': 598, 'leads': 2548, 'suddenly': 4273, 'sees': 3866, 'mothers': 2912, 'recently': 3567, 'starts': 4159, 'feed': 1683, 'finds': 1728, 'arrived': 301, 'imagery': 2234, 'captures': 678, 'unforgettable': 4652, 'almost': 193, 'usually': 4700, 'landscapes': 2514, 'surreal': 4317, 'parallel': 3185, 'eventually': 1537, 'tired': 4501, 'sick': 3963, 'excessive': 1560, 'perhaps': 3235, 'beyond': 476, 'limits': 2607, 'working': 4944, 'trailer': 4554, 'company': 910, 'terrible': 4407, 'blows': 517, 'trust': 4598, 'plague': 3285, 'released': 3603, 'forever': 1792, 'unfolds': 4651, 'pace': 3161, 'crappy': 1032, 'direct': 1258, 'totally': 4532, 'root': 3737, 'dan': 1102, 'surprising': 4315, 'makeup': 2717, 'cute': 1090, 'showed': 3956, 'didnt': 1242, 'bought': 552, 'summer': 4291, 'started': 4157, 'michael': 2829, 'jackson': 2375, 'music': 2946, 'west': 4852, 'wizard': 4919, 'oz': 3160, 'disturbing': 1300, 'gangster': 1868, 'joe': 2407, 'younger': 4990, 'robot': 3717, 'favourite': 1673, 'song': 4071, 'smooth': 4041, 'criminal': 1057, 'thriller': 4472, 'viewers': 4739, 'freak': 1824, 'existence': 1571, 'painful': 3171, 'finish': 1732, 'comedian': 887, 'amazing': 209, 'dull': 1384, 'move': 2921, 'era': 1513, 'became': 431, 'mgm': 2828, 'force': 1786, 'wrote': 4974, 'scripts': 3836, 'respect': 3652, 'studio': 4240, 'blew': 505, 'jimmy': 2403, 'based': 404, 'gift': 1906, 'contrast': 975, 'quiet': 3492, 'result': 3660, 'deadly': 1133, 'combination': 883, 'dreadful': 1353, 'amazingly': 210, 'comedic': 888, 'elements': 1443, 'produce': 3413, 'setting': 3900, 'college': 875, 'professor': 3422, 'teaching': 4377, 'nose': 3037, 'stuck': 4237, 'books': 536, 'tricks': 4583, 'believing': 457, 'received': 3564, 'relative': 3599, 'hoping': 2160, 'contrived': 976, 'somehow': 4063, 'manages': 2725, 'terribly': 4408, 'immediately': 2242, 'journey': 2421, 'york': 4985, 'incredibly': 2270, 'thinks': 4454, 'rich': 3685, 'perform': 3227, 'broadway': 592, 'decide': 1148, 'keep': 2449, 'process': 3412, 'assume': 328, 'hit': 2122, 'pay': 3216, 'everyone': 1542, 'forget': 1793, 'stinks': 4192, 'gold': 1932, 'todd': 4510, 'flat': 1748, 'broke': 593, 'alone': 194, 'stunts': 4246, 'manner': 2729, 'hate': 2046, 'heck': 2071, 'mom': 2885, 'took': 4523, 'came': 656, 'christmas': 810, 'bath': 411, 'streisand': 4218, 'sexy': 3911, '70s': 56, 'claire': 831, 'fall': 1637, 'bloody': 513, 'falls': 1640, 'category': 718, 'trouble': 4592, 'exception': 1557, 'personal': 3240, 'moving': 2928, 'magnificent': 2705, 'couple': 1016, 'russian': 3762, 'interesting': 2325, 'length': 2569, 'annoyed': 248, 'hanging': 2023, 'somewhere': 4069, 'gruesome': 1986, 'mans': 2730, 'search': 3841, 'viewings': 4741, 'fear': 1676, 'question': 3487, 'seasons': 3844, 'oh': 3096, 'shots': 3950, 'friday': 1834, 'evening': 1534, 'appreciate': 279, 'possible': 3350, 'missed': 2867, 'crucial': 1068, 'dialogue': 1234, 'rarely': 3524, 'amounts': 220, 'five': 1743, 'pages': 3168, 'double': 1331, 'silence': 3974, 'rated': 3527, 'average': 362, 'heroine': 2091, 'carol': 693, 'excellent': 1555, 'thomas': 4458, 'inspector': 2299, 'personally': 3243, 'alan': 171, 'view': 4736, 'naive': 2958, 'prove': 3445, 'noir': 3023, 'spanish': 4092, 'language': 2516, 'searching': 3842, 'wholly': 4874, 'english': 1483, 'impressed': 2251, 'impact': 2244, 'heroic': 2090, 'innocence': 2293, 'boss': 546, 'return': 3665, 'pet': 3246, 'secretly': 3851, 'business': 633, 'designed': 1203, 'childrens': 793, 'suppose': 4305, 'family': 1645, 'lit': 2621, 'brain': 562, '1940s': 13, 'code': 869, 'operation': 3117, 'portray': 3340, 'dolls': 1316, 'attempt': 340, 'information': 2288, 'phantom': 3251, 'lady': 2507, 'jack': 2373, 'tone': 4517, 'wondered': 4927, 'instance': 2304, 'notice': 3048, 'constantly': 958, 'strangely': 4212, 'improved': 2255, 'provided': 3449, 'moves': 2925, 'early': 1400, 'edward': 1426, 'brought': 600, 'bride': 577, 'outer': 3143, 'documentaries': 1306, 'companion': 909, 'failed': 1626, 'surviving': 4323, 'passed': 3202, 'filming': 1718, 'honest': 2146, 'nostalgic': 3039, 'darker': 1116, 'corner': 996, 'sentimental': 3882, 'treatment': 4574, 'haunting': 2051, 'absolute': 71, 'loves': 2674, 'hours': 2177, 'pieces': 3273, 'viewer': 4738, 'wearing': 4831, 'position': 3345, 'concerning': 933, 'red': 3576, 'desert': 1198, 'reporter': 3636, 'aka': 168, 'given': 1913, 'fully': 1847, 'catch': 714, 'ignore': 2224, 'wondering': 4930, 'whether': 4866, 'particular': 3194, 'spoken': 4126, 'followed': 1773, 'generally': 1881, 'true': 4596, 'aspect': 321, 'lame': 2510, 'illogical': 2231, 'ruined': 3751, 'agree': 155, 'dislike': 1288, 'poor': 3328, 'loose': 2650, 'drive': 1363, 'relate': 3593, 'nonsensical': 3031, 'fantastic': 1651, 'beautiful': 428, '2001': 31, 'favorite': 1671, 'coherent': 871, 'compared': 912, 'mood': 2898, 'helps': 2082, 'includes': 2263, 'including': 2264, 'pink': 3277, 'similar': 3978, 'masterpieces': 2760, 'filled': 1715, 'freedom': 1828, 'pull': 3461, 'vehicle': 4718, 'stone': 4197, 'ancient': 225, 'rocky': 3723, 'play': 3296, 'wanting': 4790, 'disappear': 1270, 'become': 433, 'invisible': 2344, 'david': 1124, 'fed': 1682, 'hippie': 2115, 'politics': 3326, 'talk': 4358, 'wanted': 4789, 'visually': 4758, 'building': 615, 'ultimate': 4627, 'movements': 2924, 'biggest': 480, 'spends': 4107, 'sequences': 3888, 'stolen': 4195, 'private': 3404, 'airplane': 166, 'theyre': 4445, 'vision': 4754, 'werent': 4849, 'italy': 2368, 'criticism': 1063, 'advertising': 132, 'exists': 1573, 'today': 4508, 'hurt': 2202, 'walking': 4779, 'buying': 641, 'secretary': 3850, 'stealing': 4171, 'land': 2511, 'themselves': 4435, 'order': 3126, 'families': 1644, 'taylor': 4372, 'underrated': 4642, 'famous': 1647, 'machine': 2693, 'birds': 485, 'ruin': 3750, 'youve': 4995, 'officers': 3093, 'theyve': 4446, 'effect': 1428, 'america': 212, 'fox': 1814, 'overwhelming': 3157, 'succeeds': 4264, 'incredible': 2269, 'city': 825, 'month': 2896, 'lifestyle': 2593, 'beating': 425, 'light': 2595, 'hearted': 2065, 'strongly': 4231, 'recommend': 3571, 'perspective': 3245, 'conflict': 939, 'central': 735, 'gay': 1876, 'friendly': 1836, 'prepared': 3371, 'worry': 4950, 'chick': 786, 'accident': 84, 'killed': 2469, 'michelle': 2830, 'eight': 1436, 'months': 2897, 'mountain': 2917, 'rescue': 3643, 'receive': 3563, 'call': 651, 'brilliant': 583, 'terrorist': 4413, 'eric': 1514, 'john': 2409, 'cases': 708, 'millions': 2848, 'dollars': 1315, 'inside': 2297, 'walker': 4778, 'helicopter': 2076, 'pilot': 3276, 'turner': 4607, 'trap': 4563, 'forced': 1787, 'game': 1864, 'hide': 2097, 'seek': 3858, 'kidnapped': 2466, 'bitter': 491, 'cold': 872, 'heights': 2073, 'driven': 1365, 'nightmare': 3014, 'elm': 1447, 'street': 4216, 'entertaining': 1499, 'spectacular': 4101, 'exciting': 1563, 'humour': 2194, 'hits': 2125, 'terrific': 4409, 'sharp': 3922, 'transfer': 4559, 'digital': 1251, 'running': 3756, 'commentary': 899, 'comments': 901, 'crew': 1053, 'miss': 2866, 'france': 1816, 'four': 1812, 'alex': 179, 'legend': 2564, 'oscar': 3133, 'nominated': 3025, 'thief': 4448, 'stole': 4194, 'oscars': 3134, 'hero': 2088, 'support': 4303, 'wars': 4804, 'fighting': 1709, 'sky': 4017, 'outstanding': 3147, '50s': 52, 'party': 3200, 'same': 3778, 'propaganda': 3435, 'produced': 3414, 'reasonable': 3558, 'genre': 1888, 'surely': 4309, 'ken': 2453, 'equally': 1510, 'modern': 2882, 'scale': 3802, 'chase': 769, 'henry': 2084, 'cousin': 1021, 'richard': 3686, 'smaller': 4034, 'various': 4715, 'funniest': 1851, 'features': 1680, 'wife': 4884, 'news': 3005, 'program': 3424, 'irritating': 2359, 'tale': 4353, 'drug': 1373, 'anyway': 261, 'reasons': 3560, 'mystery': 2956, 'olivier': 3103, 'exotic': 1574, 'actresses': 106, 'warn': 4797, 'uninteresting': 4660, 'pathetic': 3210, 'sub': 4252, 'plots': 3310, 'add': 115, 'twists': 4619, 'credibility': 1047, 'investigation': 2343, 'paper': 3183, 'thin': 4449, 'atrocious': 335, 'winner': 4897, 'dignity': 1252, 'weak': 4824, 'excuse': 1564, 'closing': 859, 'used': 4693, 'skin': 4015, 'god': 1926, 'describe': 1194, 'sorry': 4076, 'suffered': 4276, 'garbage': 1870, 'depressing': 1188, 'lousy': 2667, 'date': 1118, 'needless': 2989, 'joan': 2404, 'badly': 383, 'deserved': 1200, 'crap': 1031, 'severe': 3906, 'term': 4405, 'walk': 4775, 'feeling': 1685, 'laughter': 2535, 'occurred': 3077, 'beaten': 424, 'curiosity': 1082, 'gang': 1867, 'mst3k': 2932, 'couldve': 1009, 'billy': 482, 'survived': 4322, 'miracle': 2860, 'midnight': 2834, 'convinced': 984, 'witches': 4910, '1996': 26, 'aforementioned': 139, '80s': 59, 'surprised': 4313, 'jokes': 2415, 'teenagers': 4391, 'threatening': 4468, 'ambitious': 211, 'speed': 4103, 'sue': 4274, 'anderson': 227, 'weeks': 4839, 'birthday': 487, 'goofy': 1939, 'year': 4978, 'witch': 4909, 'problem': 3408, 'causes': 725, 'robin': 3715, 'learning': 2552, 'powers': 3361, 'occasion': 3073, 'fly': 1763, 'air': 164, 'fight': 1707, 'powerful': 3360, 'whats': 4860, 'worse': 4951, 'overly': 3155, 'moody': 2899, 'website': 4834, 'forgotten': 1797, 'moment': 2886, 'station': 4164, 'late': 2523, 'wide': 4880, 'bell': 458, 'gem': 1877, 'glory': 1922, 'narration': 2965, 'explain': 1586, 'forces': 1788, 'upon': 4684, 'universe': 4666, 'porno': 3337, 'opening': 3114, 'poorly': 3329, 'monsters': 2893, 'house': 2178, 'throughout': 4478, 'sign': 3970, 'ship': 3934, 'path': 3209, 'moved': 2922, 'bob': 524, 'menacing': 2807, 'ability': 65, 'green': 1971, 'bullets': 621, 'capable': 672, 'continue': 969, 'caught': 722, 'scientific': 3817, 'male': 2719, 'tells': 4397, 'won': 4925, 'ice': 2210, 'bottle': 550, 'refreshing': 3586, 'pops': 3332, 'scientist': 3818, 'horses': 2171, 'amateur': 206, 'string': 4227, 'theory': 4437, 'recording': 3575, 'cell': 730, 'phone': 3255, 'cult': 1077, 'classics': 837, 'release': 3602, 'wouldve': 4959, 'quick': 3490, 'site': 4005, 'enjoys': 1489, 'calm': 655, 'rabbit': 3498, 'dangerous': 1110, 'live': 2625, 'amazed': 208, 'opera': 3116, 'visuals': 4759, 'dated': 1119, 'audio': 354, 'convince': 983, 'gorgeous': 1942, 'stunning': 4244, 'ballet': 389, 'marvelous': 2750, 'rival': 3706, 'whoever': 4872, 'naturally': 2974, 'fault': 1668, 'ahead': 159, 'idiotic': 2219, 'sexual': 3908, 'underground': 4640, 'paid': 3169, 'cable': 644, 'apart': 264, 'slow': 4031, 'ring': 3698, 'reaction': 3541, 'finding': 1727, 'body': 527, 'whilst': 4869, 'fish': 1738, 'happily': 2030, 'tie': 4488, 'tree': 4576, 'previously': 3388, 'knowing': 2490, 'youd': 4987, 'scenario': 3808, 'raped': 3522, 'clothes': 860, 'afterwards': 145, 'realistic': 3550, 'killing': 2472, 'steal': 4170, 'fill': 1714, 'watchable': 4812, 'strong': 4229, 'heston': 2094, 'beauty': 430, 'nude': 3058, 'sci': 3815, 'fi': 1701, 'skip': 4016, 'grade': 1951, 'drops': 1372, 'area': 286, 'lake': 2509, 'recent': 3566, 'attempts': 343, 'screening': 3830, 'spoof': 4127, 'send': 3875, 'deal': 1135, 'tongue': 4518, 'cheek': 779, 'unfortunate': 4653, 'luck': 2681, 'mix': 2876, 'motion': 2913, 'size': 4012, 'beast': 422, 'frequent': 1831, 'fake': 1635, 'disbelief': 1277, 'authentic': 358, 'feature': 1678, 'saturday': 3792, 'pulled': 3462, 'realized': 3553, 'borrowed': 545, 'rip': 3700, 'copy': 994, 'william': 4887, 'spoiler': 4123, 'remains': 3611, 'camp': 662, 'williams': 4888, 'matt': 2768, 'craven': 1034, 'jeff': 2390, 'fell': 1690, 'morning': 2906, 'endearing': 1469, 'sleeping': 4025, 'none': 3028, 'stories': 4205, 'pointless': 3318, 'bring': 585, '25': 40, 'ugly': 4625, 'werewolf': 4850, 'costume': 1005, 'retarded': 3663, 'rat': 3525, 'forty': 1807, 'switch': 4339, 'hear': 2061, 'animals': 240, 'pig': 3274, 'lion': 2614, 'hardcore': 2034, 'redeeming': 3577, 'industry': 2280, 'drop': 1369, 'rented': 3628, 'ass': 323, 'nick': 3012, 'leave': 2555, 'weapons': 4829, 'guns': 1998, 'weapon': 4828, 'fire': 1734, 'riding': 3695, 'throw': 4479, 're': 3535, 'gun': 1996, 'throwing': 4480, 'driving': 1368, 'awkward': 374, 'hilarious': 2106, 'drunk': 1375, 'bold': 528, 'candy': 668, 'soap': 4047, 'confusion': 943, 'pain': 3170, 'strength': 4219, 'conceived': 929, 'delivered': 1170, 'draws': 1352, 'block': 508, 'hearts': 2066, 'reminiscent': 3621, 'disney': 1289, '60s': 54, 'pleasantly': 3303, 'disneys': 1290, 'joy': 2422, 'professional': 3421, 'prison': 3401, 'mother': 2911, 'superb': 4296, 'reminds': 3620, 'grim': 1974, 'featured': 1679, 'harsh': 2040, 'abuse': 74, 'finished': 1733, 'extent': 1605, 'delightful': 1168, 'sneak': 4043, 'preview': 3386, 'havent': 2053, 'scream': 3826, 'sucks': 4271, 'godzilla': 1929, 'alike': 185, 'advance': 127, 'unnecessary': 4672, 'fare': 1655, 'folks': 1771, 'romance': 3732, 'constant': 957, 'quotes': 3497, 'quote': 3496, 'significant': 3972, 'cost': 1003, 'buck': 605, 'current': 1084, 'ratings': 3530, 'twice': 4613, 'desire': 1205, 'slightest': 4028, 'bits': 490, 'christopher': 811, 'walken': 4777, 'ben': 463, 'stiller': 4189, 'amy': 222, 'contained': 963, 'familiar': 1643, 'paying': 3217, 'attention': 345, 'lately': 2524, 'walter': 4784, 'reed': 3580, 'heroes': 2089, 'further': 1853, 'truth': 4599, 'soldiers': 4054, 'suffer': 4275, 'engaging': 1481, 'returning': 3667, 'affected': 137, 'follow': 1772, '3000': 43, 'invasion': 2340, 'thousands': 4466, 'physical': 3262, 'costs': 1004, 'starring': 4154, 'proof': 3434, 'jane': 2380, 'eyre': 1614, 'edited': 1420, 'striking': 4226, 'continuity': 972, 'rochester': 3719, 'sentence': 3881, 'miscast': 2862, 'adaptation': 113, 'charlotte': 766, 'remaining': 3610, 'capture': 676, 'concept': 930, 'arrival': 299, 'understandable': 4644, 'portraying': 3343, 'friendship': 1838, 'helen': 2075, 'influence': 2286, 'christian': 808, 'described': 1195, 'sadistic': 3768, 'ward': 4793, 'deliberately': 1166, 'deep': 1154, 'regret': 3591, 'touch': 4533, 'surface': 4310, 'transition': 4561, 'essence': 1521, 'dialogues': 1235, 'mixture': 2878, 'lines': 2612, 'share': 3920, 'conversation': 980, 'contains': 964, 'brilliance': 582, 'intensity': 2317, 'conversations': 981, 'addition': 118, 'moral': 2902, 'wedding': 4836, 'scheme': 3812, 'mad': 2696, 'effort': 1432, 'partner': 3198, 'gods': 1928, 'law': 2538, 'constructed': 959, 'errors': 1516, 'regarding': 3589, 'casting': 711, 'resemblance': 3645, 'portrays': 3344, 'stretch': 4221, 'imagination': 2236, 'blonde': 511, 'blue': 518, 'eyed': 1612, 'ms': 2931, 'shy': 3962, 'mature': 2773, 'convincingly': 986, '18': 10, 'difference': 1246, 'plausible': 3295, '70': 55, 'leading': 2547, 'passion': 3205, 'despair': 1207, 'emotional': 1459, 'persons': 3244, 'asleep': 320, 'returns': 3668, 'mildly': 2840, 'pleased': 3305, 'grandfather': 1954, 'visit': 4755, 'peoples': 3222, 'displays': 1293, 'appropriate': 283, 'amount': 219, 'emotion': 1458, 'st': 4137, 'ian': 2209, 'eager': 1396, 'impression': 2252, 'disappointing': 1274, '11': 2, 'directors': 1266, 'americans': 214, 'deaths': 1142, 'weird': 4841, 'general': 1880, 'misery': 2865, 'intellectual': 2312, 'pro': 3406, 'peace': 3219, 'towards': 4540, 'texas': 4418, '12': 3, 'interested': 2324, 'present': 3374, 'actions': 101, 'government': 1948, 'lengthy': 2570, 'davies': 1125, 'larger': 2519, 'consequences': 947, 'cameos': 658, 'studios': 4241, 'awesome': 371, 'cameras': 660, 'material': 2766, 'brown': 601, 'depicted': 1183, 'speaking': 4095, 'everybody': 1540, 'accents': 79, 'dr': 1340, 'jewish': 2401, 'claim': 828, 'bible': 477, 'voice': 4761, 'heaven': 2068, 'beloved': 461, 'matthew': 2772, 'mark': 2739, 'luke': 2687, 'gabriel': 1859, 'pregnant': 3369, 'temple': 4398, 'cry': 1073, 'lord': 2652, 'father': 1666, 'line': 2610, 'period': 3236, 'claimed': 829, 'important': 2247, 'happened': 2027, 'tears': 4380, 'christ': 807, 'graphic': 1958, 'sat': 3786, 'finest': 1730, 'critical': 1062, 'mistake': 2871, 'fool': 1779, 'banned': 395, 'please': 3304, 'combine': 884, 'unique': 4662, 'disjointed': 1287, 'storytelling': 4209, 'mainly': 2708, 'frustration': 1843, 'fast': 1661, 'paced': 3162, 'campy': 664, 'homage': 2141, 'pacing': 3163, 'welcome': 4842, 'break': 569, 'dramatic': 1348, 'flicks': 1755, 'allows': 192, 'delivers': 1172, 'introduced': 2337, 'lazy': 2543, 'sister': 4001, 'aunt': 355, 'context': 968, 'conflicts': 940, 'instantly': 2306, 'allowing': 191, 'river': 3707, 'kinda': 2477, 'creature': 1045, 'movement': 2923, 'growing': 1983, 'excited': 1561, 'eating': 1413, 'tragedy': 4551, 'revenge': 3675, 'appeal': 271, 'following': 1774, 'loses': 2657, 'abandoned': 62, 'confusing': 942, 'intent': 2318, 'random': 3514, 'cultural': 1078, 'korean': 2495, 'translation': 4562, 'asian': 314, 'major': 2711, 'japan': 2381, 'grasp': 1960, 'initial': 2290, 'daughter': 1121, 'funeral': 1849, 'raised': 3508, 'higher': 2101, 'obvious': 3071, 'loss': 2659, 'wind': 4893, 'competition': 918, 'core': 995, 'subtle': 4260, 'slap': 4018, 'stick': 4185, 'proved': 3446, 'comment': 898, 'anymore': 258, 'rise': 3702, 'greater': 1965, 'telling': 4396, 'tradition': 4549, 'explanation': 1590, 'outside': 3146, 'page': 3167, 'develop': 1222, 'randomly': 3515, 'solution': 4059, 'sloppy': 4030, 'reputation': 3640, 'blame': 499, 'executive': 1567, 'producer': 3415, 'wes': 4851, 'dracula': 1341, 'wouldnt': 4958, 'van': 4713, 'keeps': 2451, 'count': 1010, 'corpse': 999, 'century': 736, 'multi': 2935, 'racial': 3501, 'praise': 3364, 'childhood': 790, 'commented': 900, 'animation': 242, 'cartoon': 704, 'justice': 2438, 'insult': 2309, 'genius': 1887, 'realise': 3548, 'souls': 4080, 'due': 1382, 'political': 3324, 'monkeys': 2891, 'cartoons': 705, 'homer': 2144, 'simpson': 3987, 'future': 1856, 'mid': 2832, '90s': 61, 'hold': 2129, 'account': 89, 'depth': 1190, 'charm': 767, 'wit': 4908, 'lack': 2502, 'content': 966, 'eddie': 1416, 'rubbish': 3748, 'depicting': 1184, 'wooden': 4934, 'object': 3066, 'hire': 2116, 'backgrounds': 381, 'buildings': 616, 'episodes': 1508, 'lower': 2677, 'detail': 1217, 'mistakes': 2873, 'intended': 2315, 'eye': 1611, 'bang': 393, 'wake': 4774, 'coffee': 870, 'decade': 1144, 'producing': 3417, 'greek': 1970, 'singers': 3994, 'morgan': 2905, 'freeman': 1829, 'packed': 3166, 'shoot': 3942, 'kills': 2474, 'darkness': 1117, 'twisted': 4618, 'brosnan': 597, 'bond': 532, 'entirely': 1503, 'proves': 3447, 'noble': 3021, 'punch': 3466, 'religion': 3607, 'politically': 3325, 'level': 2584, 'facial': 1619, 'sitting': 4007, 'comic': 893, 'timing': 4498, 'davis': 1126, 'supporting': 4304, 'killers': 2471, 'center': 732, 'involve': 2345, 'intentions': 2321, 'empty': 1465, 'method': 2824, 'painfully': 3172, '15': 7, 'bunch': 623, 'nervous': 2999, 'security': 3854, 'hired': 2117, 'escaped': 1518, 'mysterious': 2955, 'secret': 3849, 'reveal': 3670, 'supposedly': 4307, 'executed': 1565, 'figures': 1713, 'rural': 3758, 'mansion': 2731, 'corrupt': 1001, 'experiments': 1584, 'scientists': 3819, 'relatives': 3601, 'giant': 1905, 'reads': 3545, 'minds': 2852, 'secrets': 3852, 'revealed': 3671, 'humanity': 2189, 'device': 1227, 'patients': 3212, 'doctors': 1305, 'personalities': 3241, 'awfully': 373, 'thousand': 4465, 'vice': 4727, 'places': 3284, 'makers': 2715, 'needed': 2988, 'assumed': 329, 'unable': 4631, 'pool': 3327, 'mental': 2808, 'issues': 2365, 'south': 4087, 'beach': 419, 'wild': 4885, 'generation': 1883, 'quest': 3486, 'seeking': 3859, 'vegas': 4717, 'sin': 3988, 'poster': 3353, 'bedroom': 437, 'dad': 1095, 'spare': 4093, 'deeper': 1155, 'lose': 2654, 'plight': 3308, 'grave': 1962, 'hole': 2132, 'decided': 1149, 'cover': 1022, 'credible': 1048, 'talents': 4356, 'robert': 3713, 'pick': 3265, 'chose': 804, 'kenneth': 2455, 'branagh': 564, 'southern': 4088, 'intriguing': 2335, 'motivations': 2915, 'orange': 3125, 'typically': 4624, 'engage': 1479, 'motives': 2916, 'element': 1442, 'involved': 2346, 'factor': 1622, 'suspend': 4329, 'write': 4967, 'grown': 1984, 'british': 589, 'weekend': 4838, 'seriously': 3892, 'subject': 4253, 'treated': 4573, 'truck': 4595, 'water': 4816, 'woods': 4935, 'learns': 2553, 'ie': 2221, 'football': 1783, 'blunt': 520, 'reach': 3536, 'youll': 4988, 'factory': 1623, 'corny': 997, 'melodrama': 2797, 'court': 1020, 'pure': 3471, 'tag': 4348, 'lincoln': 2608, 'sisters': 4002, 'individual': 2277, 'ann': 244, 'girlfriend': 1910, 'sun': 4292, 'event': 1535, 'murder': 2939, 'lots': 2662, 'hollywoods': 2138, 'fonda': 1777, 'wonderfully': 4929, 'prince': 3396, 'morris': 2908, 'wendy': 4846, 'lisa': 2616, 'outrageous': 3145, 'expectations': 1576, 'uncomfortable': 4637, 'antics': 255, 'minimum': 2856, 'gratuitous': 1961, 'offensive': 3086, 'fantasy': 1652, 'window': 4894, 'fails': 1628, 'turned': 4606, 'susan': 4326, 'outfit': 3144, 'turning': 4608, 'triumph': 4590, 'taste': 4369, 'sudden': 4272, 'mob': 2879, 'glad': 1916, 'puts': 3481, 'vacation': 4704, 'dragged': 1343, 'jennifer': 2392, 'chief': 788, 'cause': 723, 'tracks': 4545, 'meanwhile': 2785, 'strikes': 4225, 'figured': 1712, 'remembered': 3617, 'uk': 4626, 'doom': 1326, 'listening': 2620, 'terror': 4412, 'barely': 399, 'flesh': 1753, 'critics': 1064, 'woody': 4936, 'allen': 188, 'pretentious': 3383, 'bergman': 466, 'kid': 2464, 'ourselves': 3140, 'contrary': 974, 'brian': 576, 'hitchcock': 2123, 'carter': 703, 'brings': 587, 'across': 96, 'traditional': 4550, 'exceptional': 1558, 'wasted': 4809, 'survivor': 4324, 'generic': 1885, 'tiger': 4491, 'glass': 1917, 'cabin': 643, 'kick': 2460, 'utter': 4701, 'joke': 2414, 'accidentally': 85, 'reminded': 3619, 'fbi': 1675, 'agent': 150, 'stewart': 4184, 'via': 4726, 'flashbacks': 1747, 'miles': 2843, 'hamilton': 2012, 'dozen': 1338, 'whos': 4876, 'gangsters': 1869, 'daughters': 1122, 'standard': 4144, '30s': 44, 'known': 2492, 'hal': 2006, 'cinderella': 815, 'highlight': 2103, 'laurel': 2537, 'hardy': 2037, 'free': 1827, 'subplots': 4256, 'shallow': 3917, 'suggest': 4280, '1984': 23, 'tap': 4364, 'went': 4847, 'conspiracy': 956, '1930s': 11, 'barbara': 397, 'stanwyck': 4149, 'lily': 2605, 'chain': 741, 'baby': 376, 'sleep': 4024, 'lovable': 2668, 'suggested': 4281, 'shelley': 3928, 'winters': 4901, 'reynolds': 3684, 'escape': 1517, 'jean': 2389, 'dance': 1103, 'crack': 1027, 'nasty': 2968, 'calls': 654, 'timothy': 4499, 'devoid': 1230, 'worthy': 4956, 'costumes': 1006, 'credit': 1049, 'exploitation': 1592, 'dennis': 1179, 'irish': 2353, 'orson': 3132, 'welles': 4844, 'spoilers': 4124, 'review': 3676, 'baseball': 403, 'anyways': 262, 'believed': 455, 'bobby': 525, 'adorable': 124, 'losing': 2658, 'brutally': 604, 'saves': 3796, 'forgive': 1795, 'saved': 3795, 'cares': 690, 'holding': 2130, 'run': 3755, 'knife': 2487, 'unrealistic': 4677, 'hasnt': 2044, 'field': 1704, 'runs': 3757, 'onto': 3111, 'pitch': 3279, 'pleasant': 3302, 'rob': 3710, 'sucked': 4270, 'whatsoever': 4861, 'disgusting': 1286, 'brave': 567, 'lane': 2515, 'stale': 4141, 'jason': 2383, 'queen': 3485, 'granted': 1957, 'distribution': 1298, 'warming': 4795, 'immensely': 2243, 'channel': 753, 'touched': 4534, 'match': 2762, 'sea': 3838, 'tom': 4514, 'samurai': 3779, 'rings': 3699, 'hollow': 2135, 'complicated': 925, 'society': 4050, 'comparing': 913, 'paltrow': 3178, 'kate': 2446, 'lies': 2591, 'emma': 1457, 'undoubtedly': 4648, 'versions': 4721, 'romantic': 3733, 'smith': 4038, 'besides': 468, 'portrait': 3339, 'judy': 2426, 'wise': 4903, 'lol': 2640, 'meet': 2793, 'die': 1243, 'gory': 1943, 'vampire': 4711, 'fascinating': 1658, 'soul': 4079, 'devil': 1228, 'mirror': 2861, 'brilliantly': 584, 'earlier': 1399, 'express': 1600, 'beautifully': 429, 'human': 2188, 'edge': 1418, 'animal': 239, 'paul': 3214, 'mine': 2853, 'proper': 3436, 'clumsy': 866, 'tragic': 4552, 'finale': 1723, 'attracted': 349, 'jones': 2418, 'innovative': 2295, 'ordinary': 3128, 'diane': 1238, 'legendary': 2565, 'tommy': 4516, 'hooked': 2153, 'forgettable': 1794, 'pleasure': 3306, 'adults': 126, 'paulie': 3215, 'intelligent': 2314, 'adventures': 131, 'keeping': 2450, 'resolution': 3649, 'marie': 2737, 'recommended': 3572, 'hop': 2154, 'plane': 3288, 'struggle': 4234, 'joseph': 2419, 'faced': 1617, 'questions': 3489, 'church': 813, 'humble': 2191, 'farm': 1656, 'misses': 2868, 'melting': 2799, 'rebel': 3561, 'sum': 4289, 'captured': 677, 'reality': 3551, 'stage': 4139, 'arrested': 298, 'europe': 1529, 'forward': 1808, 'within': 4912, 'boot': 538, 'balance': 387, 'coach': 868, 'picked': 3266, 'mel': 2796, 'solid': 4057, 'incident': 2260, 'resembles': 3646, 'charismatic': 763, 'achievement': 94, 'witness': 4914, 'army': 295, 'orders': 3127, 'display': 1291, 'map': 2733, 'highlights': 2104, 'memory': 2804, 'methods': 2825, 'successful': 4266, 'damn': 1100, 'tough': 4537, 'sell': 3871, 'condition': 937, 'horse': 2170, 'soldier': 4053, 'led': 2558, 'relies': 3606, 'faces': 1618, 'recognize': 3569, 'intention': 2319, 'standing': 4146, 'deeply': 1156, 'fate': 1665, 'bears': 421, 'dancer': 1104, 'beats': 426, 'songs': 4072, 'text': 4419, 'canadian': 667, 'knock': 2488, 'lessons': 2578, 'offer': 3087, 'heres': 2087, 'group': 1980, 'twenty': 4612, 'island': 2361, 'canada': 666, 'un': 4630, 'gotta': 1946, 'doomed': 1327, 'faults': 1669, 'tiny': 4500, 'foot': 1781, 'held': 2074, 'remote': 3622, 'loads': 2633, 'discover': 1279, 'everywhere': 1545, 'blind': 506, 'forest': 1791, 'lesser': 2576, 'disaster': 1276, 'clips': 852, 'accepted': 82, 'resident': 3647, 'cinematic': 818, 'dragon': 1344, 'junk': 2436, 'suck': 4269, 'afraid': 140, 'idiots': 2220, 'deserve': 1199, 'footage': 1782, 'celluloid': 731, 'control': 977, 'existent': 1572, 'clearly': 840, 'reading': 3544, 'carry': 700, 'card': 681, 'mini': 2854, 'incoherent': 2265, 'meaningless': 2782, 'skill': 4013, 'league': 2549, 'clean': 838, 'serves': 3895, 'heavily': 2069, 'torture': 4529, 'eve': 1532, 'witnesses': 4916, 'daddy': 1096, 'santa': 3783, 'everyday': 1541, 'obsessed': 3069, 'insane': 2296, 'dressing': 1359, 'neighborhood': 2993, 'catches': 715, 'drives': 1367, 'moon': 2900, 'internet': 2327, 'summary': 4290, 'system': 4345, 'winning': 4898, 'contract': 973, 'bridge': 578, 'status': 4165, 'touches': 4535, 'thrown': 4481, 'engaged': 1480, 'variety': 4714, 'broadcast': 591, 'sophisticated': 4075, 'loving': 2675, 'behavior': 446, 'compelling': 916, 'frank': 1821, 'ghost': 1902, 'persona': 3239, 'pal': 3177, 'radio': 3504, 'expert': 1585, 'robinson': 3716, 'owner': 3159, 'charles': 764, 'cannibal': 669, 'supernatural': 4302, 'couples': 1017, 'trip': 4588, 'cave': 727, 'ghosts': 1903, 'don': 1320, 'kelly': 2452, 'gary': 1873, 'hunting': 2201, 'flashback': 1746, 'blade': 495, 'cheating': 776, 'pop': 3330, 'culture': 1079, 'occasional': 3074, 'ironic': 2355, 'powell': 3358, 'ruth': 3763, 'gordon': 1940, 'author': 359, 'marriage': 2743, 'safe': 3771, 'believes': 456, 'dies': 1245, 'traveling': 4568, 'clues': 865, 'columbo': 881, 'suspects': 4328, 'button': 639, 'handled': 2019, 'performers': 3232, 'tall': 4362, '80': 58, 'consistently': 954, 'concerned': 932, 'ten': 4399, 'viewed': 4737, 'lights': 2597, 'liners': 2611, 'noticed': 3049, 'atmospheric': 334, 'rain': 3506, 'storm': 4206, 'todays': 4509, 'market': 2740, 'crude': 1069, 'train': 4556, 'china': 795, 'unlikely': 4671, 'stronger': 4230, 'hello': 2078, 'details': 1219, 'road': 3709, 'scenery': 3810, 'likable': 2598, 'troubled': 4593, 'seven': 3903, 'dawson': 1128, 'quirky': 3493, 'tremendous': 4579, 'research': 3644, 'questionable': 3488, 'choice': 797, 'tends': 4402, 'emotions': 1461, 'cowboy': 1025, 'collection': 874, 'imagine': 2238, 'shocked': 3939, 'prostitute': 3440, 'drugs': 1374, '1970s': 17, 'standards': 4145, 'briefly': 580, 'synopsis': 4344, 'jon': 2416, 'voight': 4764, 'roy': 3745, 'rogers': 3725, 'impress': 2250, 'sleazy': 4023, 'con': 928, 'hoffman': 2128, 'manager': 2724, 'homeless': 2143, 'dreams': 1355, 'florida': 1761, 'health': 2060, 'amusing': 221, 'practically': 3362, 'hey': 2095, 'sends': 3876, 'religious': 3608, 'defense': 1159, 'wayne': 4821, 'gonna': 1936, 'delivery': 1173, '40': 48, 'strike': 4224, 'interpretation': 2328, 'ended': 1470, 'social': 4049, 'teacher': 4375, 'commercials': 903, 'gas': 1874, 'hates': 2048, 'chris': 806, 'travels': 4569, 'california': 650, 'festival': 1697, 'fallen': 1638, 'travel': 4567, 'virginia': 4750, 'hiding': 2099, 'junior': 2435, 'stephen': 4176, 'remarkable': 3613, 'builds': 617, 'delivering': 1171, 'psycho': 3457, 'poignant': 3315, 'unseen': 4678, 'discovery': 1282, 'peter': 3247, 'fever': 1699, 'creators': 1044, 'dealt': 1138, 'themes': 4434, 'obsession': 3070, 'soccer': 4048, 'england': 1482, 'sport': 4129, 'presents': 3377, 'revolves': 3682, 'season': 3843, 'involving': 2349, 'students': 4239, 'teach': 4374, 'tour': 4538, 'thirty': 4456, 'lovers': 2673, 'games': 1865, 'park': 3190, 'loyal': 2679, '2004': 34, 'six': 4010, 'drew': 1360, 'natural': 2973, 'appearances': 275, 'opportunity': 3121, 'jerry': 2396, 'latest': 2526, '60': 53, 'seconds': 3848, 'names': 2963, 'cage': 645, 'surprisingly': 4316, 'loaded': 2632, 'win': 4892, 'chases': 771, 'theatre': 4429, 'magazine': 2701, 'encounters': 1467, 'nicholas': 3010, 'aliens': 184, 'lacks': 2505, 'inspiration': 2300, 'chooses': 800, 'notably': 3042, 'presented': 3376, 'positive': 3346, 'access': 83, 'president': 3378, 'shark': 3921, 'attacks': 339, 'bothered': 549, 'record': 3573, 'italian': 2367, 'nail': 2957, 'audiences': 353, 'fay': 1674, 'sequel': 3885, 'ex': 1549, 'perfection': 3225, 'cia': 814, 'technique': 4383, 'check': 777, 'ray': 3533, 'photography': 3260, 'placed': 3283, 'online': 3109, 'related': 3594, 'reviewers': 3678, 'belief': 451, 'spot': 4131, 'philip': 3252, 'unbelievable': 4634, 'toilet': 4512, 'entertained': 1498, '3rd': 47, 'boat': 523, 'adam': 111, 'sandler': 3781, 'australian': 357, 'bird': 484, 'sweet': 4336, 'public': 3460, 'protagonists': 3442, 'smile': 4036, 'angle': 236, 'sappy': 3784, 'wins': 4899, 'worn': 4948, 'cliché': 844, 'centers': 734, 'experiment': 1583, 'creates': 1038, 'promising': 3433, 'suspenseful': 4331, 'execution': 1566, 'pictures': 3270, 'accomplished': 87, 'potentially': 3356, 'incomprehensible': 2267, 'beneath': 464, 'slight': 4027, 'sheriff': 3929, 'satan': 3787, 'battle': 414, 'lucas': 2680, 'ted': 4386, 'calling': 653, 'criminals': 1058, 'stayed': 4167, 'twilight': 4614, 'zone': 4999, 'circle': 821, 'gothic': 1945, 'dedicated': 1153, 'comics': 895, 'round': 3742, 'shell': 3927, 'row': 3744, 'staff': 4138, 'yeah': 4977, 'helping': 2081, 'hunt': 2198, 'food': 1778, 'civilization': 827, 'modesty': 2883, 'slightly': 4029, 'broken': 594, 'relevant': 3604, 'loud': 2664, 'dress': 1357, 'steve': 4181, 'denzel': 1181, 'washington': 4806, 'convey': 982, 'charisma': 762, 'massacre': 2754, 'farce': 1654, 'donald': 1321, 'unaware': 4632, 'africa': 141, 'inept': 2281, 'allow': 189, 'enter': 1494, 'san': 3780, 'francisco': 1819, 'expensive': 1579, 'asking': 318, 'directions': 1262, 'georges': 1894, 'exposure': 1599, 'gotten': 1947, 'eat': 1411, 'em': 1452, 'mighty': 2836, 'sit': 4003, 'table': 4346, 'jumping': 2431, 'trial': 4580, 'semi': 3874, 'virtually': 4751, 'destroyed': 1214, 'upper': 4685, 'tied': 4489, 'lyrics': 2692, 'catchy': 717, 'educational': 1425, 'charlie': 765, 'timeless': 4496, 'holiday': 2134, 'sally': 3776, 'letter': 2581, 'sam': 3777, 'oddly': 3081, 'sounding': 4083, 'worried': 4949, 'mentions': 2813, 'response': 3654, 'lucy': 2684, 'advice': 133, 'competent': 917, 'ball': 388, 'universal': 4665, 'wwii': 4975, 'alive': 186, 'louis': 2665, 'challenging': 744, 'decision': 1151, 'fury': 1855, 'theyll': 4444, 'ages': 152, '14': 6, 'humorous': 2193, 'hype': 2207, 'wreck': 4965, 'merely': 2815, 'currently': 1085, 'answers': 252, 'suffice': 4279, 'tonight': 4519, 'witnessed': 4915, 'combat': 882, '16': 8, 'actual': 108, 'spoiled': 4122, 'rush': 3759, 'uneven': 4649, 'generous': 1886, 'academy': 77, 'awards': 367, 'march': 2734, 'dorothy': 1330, 'oil': 3097, 'adapted': 114, 'greed': 1968, 'lonely': 2643, 'picks': 3268, 'former': 1800, 'lowest': 2678, 'gifted': 1907, 'douglas': 1334, 'germany': 1898, '1950s': 14, 'hunters': 2200, 'imitation': 2241, 'independent': 2272, 'albert': 174, 'offered': 3088, 'adult': 125, 'hence': 2083, 'angels': 234, 'directing': 1260, 'dramas': 1347, 'domestic': 1318, 'matches': 2764, 'offering': 3089, 'shadow': 3912, 'bacall': 377, 'drinking': 1362, 'bomb': 531, 'hudson': 2184, 'co': 867, 'memorable': 2802, 'pulling': 3463, 'enormous': 1490, 'lighting': 2596, 'cross': 1066, 'drunken': 1376, 'riveting': 3708, 'swear': 4334, 'polished': 3323, 'infamous': 2284, 'mass': 2753, 'built': 618, 'empire': 1464, 'committed': 905, 'aid': 160, 'horrifying': 2167, 'ned': 2986, 'beatty': 427, 'leo': 2571, 'ryan': 3765, 'foster': 1809, 'brad': 560, 'brenda': 575, 'burton': 630, 'chilling': 794, 'dreary': 1356, 'remotely': 3623, 'holds': 2131, 'lemmon': 2567, 'matthau': 2771, 'store': 4204, 'hopper': 2161, 'ashley': 313, 'debut': 1143, 'argument': 291, 'entertain': 1497, 'halfway': 2008, 'dynamic': 1394, 'neighbors': 2994, 'represents': 3639, 'award': 366, 'hands': 2020, 'spirited': 4114, 'breaks': 571, 'bear': 420, 'frequently': 1832, 'unintentionally': 4659, 'satisfying': 3791, 'maker': 2714, 'enemy': 1477, 'magic': 2703, 'dialogs': 1233, 'futuristic': 1857, 'enemies': 1476, 'race': 3499, 'vampires': 4712, 'wish': 4904, 'destroy': 1213, 'attached': 336, 'colour': 880, 'gain': 1863, 'cleverly': 842, 'newly': 3004, 'model': 2880, 'erotic': 1515, 'separate': 3883, 'journalist': 2420, 'nation': 2969, 'editor': 1423, 'artist': 307, 'tight': 4492, 'thankfully': 4422, 'ease': 1404, 'rushed': 3760, 'step': 4175, 'hundred': 2195, 'spite': 4117, '2005': 35, 'lie': 2590, '3d': 46, 'animated': 241, 'bugs': 613, 'appeared': 276, 'ego': 1435, 'elvira': 1450, 'mistress': 2874, 'died': 1244, 'raise': 3507, 'breaking': 570, 'mixed': 2877, 'lust': 2689, 'remain': 3609, 'community': 908, 'uncle': 4636, 'vincent': 4746, 'heads': 2059, 'edie': 1419, 'raw': 3532, 'icon': 2211, 'hated': 2047, 'blob': 507, 'fresh': 1833, 'andy': 230, 'sent': 3880, 'hundreds': 2196, 'endless': 1473, 'hysterical': 2208, 'inevitably': 2283, 'practice': 3363, 'passing': 3204, 'presentation': 3375, 'vhs': 4725, 'pushed': 3478, 'anybody': 257, 'countless': 1012, 'afternoon': 144, 'wave': 4818, 'plastic': 3294, 'arms': 294, 'spin': 4112, 'shelf': 3926, '75': 57, 'renting': 3629, 'offended': 3085, 'elsewhere': 1449, 'provoking': 3452, 'clichés': 846, 'wears': 4832, 'merits': 2817, 'muslim': 2949, 'issue': 2364, 'western': 4853, 'rank': 3518, 'insight': 2298, 'busy': 635, 'wow': 4962, 'schools': 3814, 'thoughts': 4464, 'drawing': 1350, 'torn': 4528, 'meat': 2787, 'montage': 2894, 'nicely': 3009, 'matched': 2763, 'flaw': 1749, 'fatal': 1664, 'improvement': 2256, 'falling': 1639, 'above': 68, 'kennedy': 2454, 'airport': 167, 'flight': 1757, 'chaplin': 756, 'walked': 4776, 'humans': 2190, 'groups': 1981, 'artificial': 306, 'floating': 1758, 'nobody': 3022, 'ground': 1979, 'bore': 540, 'influenced': 2287, 'matrix': 2767, 'listed': 2618, 'thank': 4421, 'united': 4664, 'kingdom': 2480, 'dubbed': 1379, 'shirley': 3936, 'provides': 3450, 'hip': 2114, 'celebrity': 729, 'signs': 3973, 'overlooked': 3154, 'reel': 3581, 'subjects': 4254, 'useful': 4694, 'training': 4558, 'performing': 3233, 'principal': 3398, 'singing': 3995, 'specific': 4099, 'convoluted': 987, 'superficial': 4298, 'nations': 2971, 'national': 2970, 'directorial': 1265, '1983': 22, '90': 60, 'eva': 1531, 'twins': 4616, 'primarily': 3393, 'survivors': 4325, 'twin': 4615, 'user': 4696, 'argue': 290, 'isolated': 2363, 'nazi': 2977, 'statement': 4162, 'nazis': 2978, 'territory': 4411, 'surrounded': 4318, 'fat': 1663, 'mission': 2870, 'promised': 3431, 'discuss': 1283, 'understanding': 4645, 'chicago': 785, 'firstly': 1737, 'listen': 2619, 'education': 1424, 'university': 4667, 'hadnt': 2004, 'failing': 1627, 'purely': 3472, 'discussion': 1284, 'abilities': 64, 'limited': 2606, 'ps': 3453, 'official': 3094, 'associated': 327, 'consistent': 953, 'understated': 4646, 'womans': 4922, 'giallo': 1904, 'rare': 3523, 'sorts': 4078, 'suspect': 4327, 'channels': 754, 'genres': 1889, 'chinese': 796, 'similarities': 3979, 'belong': 459, 'happiness': 2031, 'wisdom': 4902, 'vulnerable': 4768, 'intelligence': 2313, 'equal': 1509, 'ignored': 2225, 'realizing': 3555, 'asks': 319, 'profound': 3423, 'paris': 3189, 'study': 4242, 'charming': 768, 'affair': 135, 'diamond': 1236, 'describes': 1196, 'grace': 1950, 'styles': 4250, 'gentle': 1890, 'dancing': 1107, 'massive': 2756, 'jazz': 2387, 'spots': 4132, 'sing': 3992, 'meeting': 2794, 'definite': 1161, 'toward': 4539, 'kiss': 2483, 'warm': 4794, 'weakest': 4825, 'relation': 3595, 'concert': 935, 'design': 1202, 'superbly': 4297, 'de': 1131, 'dancers': 1105, 'elegant': 1441, 'wealth': 4826, 'memories': 2803, 'waters': 4817, 'gripping': 1976, 'sympathetic': 4342, 'priest': 3392, 'cash': 709, 'scare': 3803, 'pride': 3391, 'mate': 2765, 'reaching': 3539, 'bare': 398, 'cox': 1026, 'tiresome': 4502, 'spiritual': 4116, 'guide': 1993, 'sinister': 3998, 'wonders': 4931, 'married': 2744, 'attacked': 338, 'virus': 4752, 'react': 3540, 'legs': 2566, 'medical': 2790, 'kicks': 2463, 'recognition': 3568, 'yelling': 4980, 'screaming': 3827, 'nonsense': 3030, 'idiot': 2218, 'jobs': 2406, 'interviews': 2330, 'hopefully': 2157, 'offers': 3090, 'shine': 3931, 'gradually': 1952, 'phony': 3256, 'unconvincing': 4638, 'citizen': 824, 'kane': 2442, 'admire': 121, 'passionate': 3206, 'comical': 894, 'hoped': 2156, 'attraction': 350, 'source': 4086, 'fighter': 1708, 'slave': 4022, 'explored': 1595, 'selling': 3873, 'hint': 2112, 'blown': 516, 'anna': 245, 'mexico': 2827, 'north': 3036, 'settle': 3902, 'mexican': 2826, 'julia': 2427, 'historical': 2119, 'ticket': 4487, 'choreographed': 801, 'responsible': 3656, 'franchise': 1817, 'continued': 970, 'spider': 4109, 'pity': 3281, 'dating': 1120, 'abc': 63, 'ritter': 3705, 'network': 3000, 'ramones': 3512, 'clint': 850, 'howard': 2182, 'hall': 2009, 'joey': 2408, 'punk': 3468, '2002': 32, 'whenever': 4863, 'chemistry': 782, 'emily': 1456, 'thugs': 4484, 'fortune': 1806, 'subsequent': 4257, 'hank': 2024, 'baker': 385, 'trailers': 4555, 'psychic': 3456, 'eaten': 1412, 'met': 2822, 'edgar': 1417, 'tribute': 4581, 'tales': 4357, 'band': 391, 'charge': 761, 'cat': 713, '1st': 28, '2006': 36, 'titled': 4505, 'laid': 2508, 'originally': 3131, 'environment': 1505, 'elizabeth': 1445, 'widow': 4883, 'patrick': 3213, 'yellow': 4981, 'aging': 153, 'reunion': 3669, 'jail': 2376, 'states': 4163, 'singer': 3993, 'key': 2458, 'london': 2641, 'arrives': 302, 'blow': 514, 'cringe': 1059, 'broad': 590, 'sings': 3997, 'reactions': 3542, 'extra': 1606, 'advanced': 128, 'amanda': 205, 'streep': 4215, 'accused': 91, 'suspicious': 4332, 'lynch': 2691, 'ought': 3138, 'angry': 238, 'likewise': 2603, 'narrator': 2967, 'throat': 4476, 'butt': 638, 'mentally': 2809, 'faster': 1662, 'planet': 3289, 'price': 3389, 'press': 3379, 'sunday': 4293, 'project': 3427, 'admittedly': 123, 'beer': 439, 'unbelievably': 4635, 'jumped': 2430, 'crying': 1074, 'results': 3662, 'guard': 1988, 'staying': 4168, 'forgot': 1796, 'pays': 3218, 'americas': 215, 'pitt': 3280, 'lewis': 2586, 'roger': 3724, 'established': 1524, 'formula': 1802, 'usa': 4691, 'acceptable': 81, 'steel': 4173, 'presence': 3373, 'wallace': 4782, 'regardless': 3590, 'oliver': 3102, 'trilogy': 4586, 'theaters': 4428, 'clark': 832, 'eastwood': 1409, 'intrigued': 2334, 'obscure': 3068, 'dig': 1250, 'legal': 2563, 'troubles': 4594, 'ripped': 3701, 'mail': 2706, 'alas': 172, 'nurse': 3063, 'locked': 2637, 'steals': 4172, 'shoes': 3941, 'bank': 394, 'crimes': 1056, 'shoots': 3944, 'daily': 1097, 'props': 3439, 'justin': 2440, 'cary': 706, 'honestly': 2147, 'kevin': 2457, 'substance': 4258, 'shooting': 3943, 'overlook': 3153, 'grew': 1972, 'base': 402, 'helped': 2080, 'vietnam': 4735, 'improve': 2254, 'tony': 4521, '1980s': 21, 'possibility': 3349, 'essential': 1522, 'artists': 309, 'appealing': 272, 'fairy': 1632, 'captivating': 675, 'al': 170, 'thrilling': 4474, 'concerns': 934, 'wicked': 4879, 'menace': 2806, 'remarkably': 3614, 'writers': 4969, 'catholic': 720, 'creepy': 1052, 'carradine': 695, 'lesbian': 2573, 'arthur': 305, 'winds': 4895, 'detective': 1220, 'lawyer': 2541, 'latin': 2527, 'photographer': 3259, 'quit': 3494, 'replaced': 3634, 'rooms': 3736, 'cats': 721, 'unreal': 4676, 'represent': 3637, 'joined': 2413, 'princess': 3397, 'estate': 1525, 'financial': 1725, 'blend': 504, 'somebody': 4062, 'measure': 2786, 'pseudo': 3454, 'nomination': 3026, 'cook': 988, 'ralph': 3510, 'assistant': 326, 'dalton': 1098, 'nicholson': 3011, 'images': 2235, 'flash': 1745, 'johnny': 2410, 'blah': 496, 'techniques': 4384, 'anime': 243, 'noted': 3045, 'marry': 2745, 'fictional': 1703, 'bettie': 473, 'bumbling': 622, 'projects': 3428, 'ideas': 2215, 'according': 88, 'husband': 2204, 'hints': 2113, 'rape': 3521, 'handed': 2016, 'photo': 3257, 'saving': 3797, 'accurate': 90, 'vivid': 4760, 'vote': 4766, 'minor': 2857, 'flaws': 1752, 'references': 3583, 'lying': 2690, 'maria': 2736, 'wanna': 4786, 'leg': 2562, 'wrapped': 4964, 'spy': 4135, 'centered': 733, 'shakespeare': 3915, 'blockbuster': 509, 'grab': 1949, 'relatively': 3600, 'sheer': 3925, 'foreign': 1790, 'choices': 798, 'wed': 4835, 'cynical': 1093, 'blank': 501, 'pulls': 3464, 'mann': 2728, 'mountains': 2918, 'border': 539, 'mistaken': 2872, 'madness': 2698, 'worlds': 4947, 'daniel': 1111, 'threw': 4470, 'scared': 3805, 'anne': 246, 'kings': 2481, 'favorites': 1672, 'revelation': 3674, 'thoughtful': 4463, 'mindless': 2851, 'painting': 3175, 'neighbor': 2992, 'corruption': 1002, 'mainstream': 2709, 'respected': 3653, 'explicit': 1591, 'week': 4837, 'shouldnt': 3952, 'allowed': 190, 'uninspired': 4657, 'damon': 1101, 'inspired': 2301, 'overrated': 3156, 'stellar': 4174, 'indian': 2274, 'stretched': 4222, 'endings': 1472, 'fourth': 1813, 'holly': 2136, 'slick': 4026, 'worthwhile': 4955, 'cgi': 740, 'technology': 4385, 'signed': 3971, 'countryside': 1015, 'seeks': 3860, 'players': 3299, 'witty': 4917, 'disagree': 1269, 'dogs': 1311, 'protect': 3443, 'ups': 4686, 'cliff': 847, 'smoke': 4039, 'hed': 2072, 'claims': 830, 'talks': 4361, 'letting': 2583, 'flawed': 1750, 'roots': 3738, 'dude': 1381, 'bite': 489, 'winter': 4900, 'enjoyment': 1488, 'wore': 4939, 'feminist': 1695, 'lasted': 2522, 'itll': 2369, 'nearby': 2980, 'false': 1641, 'parties': 3196, 'attempting': 342, 'guest': 1992, 'insulting': 2310, 'satire': 3788, 'contact': 961, 'miserable': 2863, 'unpleasant': 4674, 'dolph': 1317, 'focusing': 1769, 'depicts': 1186, 'rats': 3531, 'primary': 3394, 'gerard': 1895, 'symbolism': 4341, 'excitement': 1562, 'visible': 4753, 'whereas': 4865, 'splatter': 4118, 'clip': 851, 'explore': 1594, 'nonetheless': 3029, 'necessarily': 2983, 'alfred': 181, 'individuals': 2278, 'serve': 3893, 'ford': 1789, 'kubrick': 2496, 'computer': 927, 'generated': 1882, 'francis': 1818, 'chapter': 757, 'buffs': 612, 'scope': 3821, 'restored': 3659, 'barry': 401, 'necessary': 2984, '40s': 49, 'achieved': 93, 'contain': 962, 'falk': 1636, 'courage': 1018, 'negative': 2991, 'eccentric': 1414, 'holmes': 2139, 'exact': 1550, 'brutal': 603, 'hopeless': 2158, 'spread': 4133, 'nights': 3016, 'dressed': 1358, 'planned': 3290, 'bet': 470, 'chasing': 772, 'solve': 4060, 'mtv': 2933, 'fetched': 1698, 'iron': 2354, 'travesty': 4570, 'appalling': 268, 'cruel': 1070, 'eerie': 1427, 'hideous': 2098, 'horrendous': 2162, 'horrid': 2165, 'obnoxious': 3067, 'terrifying': 4410, 'stiff': 4187, 'creatures': 1046, 'stopped': 4202, 'drink': 1361, 'jessica': 2398, 'hunter': 2199, 'silver': 3977, 'flies': 1756, 'multiple': 2936, 'blues': 519, 'pretending': 3382, 'pretend': 3381, 'subtlety': 4261, 'relief': 3605, 'identify': 2216, 'unbearable': 4633, 'furthermore': 1854, 'splendid': 4119, 'pie': 3271, 'dying': 1393, 'theyd': 4443, 'pack': 3165, 'repeatedly': 3632, 'ad': 110, 'funnier': 1850, 'behave': 445, 'urge': 4689, 'fond': 1776, 'pass': 3201, 'caring': 691, 'happening': 2028, 'began': 441, 'tracy': 4546, 'staged': 4140, 'machines': 2694, 'glorious': 1921, 'ron': 3734, 'aimed': 162, 'trek': 4578, 'panic': 3181, 'widmark': 4882, 'properly': 3437, 'chest': 784, 'exposed': 1598, 'disease': 1285, 'pointed': 3317, 'assigned': 325, 'starting': 4158, 'chased': 770, 'department': 1182, 'successfully': 4267, 'vs': 4767, 'championship': 745, 'wrestling': 4966, 'arm': 292, 'fights': 1710, 'bonus': 534, 'wilson': 4891, 'victoria': 4732, 'masters': 2761, 'kurt': 2499, 'challenge': 743, 'houses': 2180, 'fears': 1677, 'integrity': 2311, 'encounter': 1466, 'racism': 3502, 'property': 3438, 'leader': 2546, 'load': 2631, 'toys': 4543, 'designs': 1204, 'dave': 1123, 'ridden': 3691, 'fired': 1735, 'duty': 1390, 'smart': 4035, 'prisoners': 3403, 'deliver': 1169, 'vicious': 4728, 'snake': 4042, 'mouth': 2920, 'pile': 3275, 'losers': 2656, 'decisions': 1152, 'indie': 2276, 'handle': 2018, 'dear': 1140, 'trees': 4577, 'inevitable': 2282, 'jenny': 2393, 'frame': 1815, 'prequel': 3372, 'requires': 3642, 'explosions': 1597, 'liking': 2604, 'bringing': 586, '2003': 33, 'global': 1920, 'secondly': 3847, 'choreography': 802, 'dinner': 1254, 'bollywood': 530, 'generations': 1884, 'occur': 3076, 'hong': 2149, 'kong': 2494, 'bone': 533, 'escapes': 1519, 'crash': 1033, 'dawn': 1127, 'forbidden': 1785, 'dropped': 1370, 'importance': 2246, 'ya': 4976, 'highest': 2102, 'literature': 2623, 'numerous': 3062, 'sides': 3967, 'musicals': 2948, 'mario': 2738, 'sons': 4073, 'victor': 4731, 'album': 175, 'aint': 163, 'disc': 1278, 'tunes': 4603, 'unhappy': 4656, 'miller': 2846, 'widely': 4881, 'depressed': 1187, '2000': 30, 'tape': 4365, 'copies': 992, 'redemption': 3578, 'appearing': 277, 'dvds': 1392, 'frankly': 1823, 'wrap': 4963, 'clue': 864, 'hook': 2152, 'teenager': 4390, 'specifically': 4100, 'purple': 3473, 'wear': 4830, 'jonathan': 2417, 'drag': 1342, 'dean': 1139, 'opposed': 3122, 'explains': 1589, 'catherine': 719, 'ruby': 3749, 'slapstick': 4019, 'deaf': 1134, 'mrs': 2930, 'prisoner': 3402, 'overacting': 3149, 'technically': 4382, 'prime': 3395, 'hills': 2109, 'notorious': 3051, 'nightmares': 3015, 'returned': 3666, 'prevent': 3385, 'survive': 4321, 'cared': 685, 'defend': 1158, 'alice': 182, 'arguably': 289, 'mike': 2838, 'anger': 235, 'carries': 699, 'patient': 3211, 'psychiatrist': 3455, 'sutherland': 4333, 'laws': 2540, 'nyc': 3065, 'bruce': 602, 'magical': 2704, 'max': 2774, 'careers': 687, 'embarrassment': 1455, 'karloff': 2445, 'instant': 2305, 'felix': 1689, 'bela': 450, 'lugosi': 2686, 'develops': 1226, 'cooper': 990, 'notch': 3043, 'vast': 4716, 'fortunately': 1805, 'board': 522, 'stereotypes': 4179, 'stereotypical': 4180, 'created': 1037, 'tense': 4403, 'russell': 3761, 'suitable': 4285, 'capturing': 679, 'goal': 1925, 'weve': 4856, 'et': 1526, 'bo': 521, 'hill': 2108, 'adding': 117, 'directly': 1263, 'dropping': 1371, 'stomach': 4196, 'embarrassing': 1454, 'east': 1407, 'sixties': 4011, 'warned': 4798, 'worker': 4942, 'fathers': 1667, 'mafia': 2700, 'crime': 1055, 'punishment': 3467, 'illegal': 2229, 'assault': 324, 'unwatchable': 4682, 'showcase': 3954, 'print': 3399, 'harvey': 2042, 'kissing': 2484, 'resist': 3648, 'fitting': 1742, 'struggling': 4236, 'rolling': 3730, 'urban': 4688, 'hood': 2151, 'distinct': 1296, 'mill': 2845, 'village': 4743, 'stays': 4169, 'mayor': 2777, 'stevens': 4183, 'colonel': 876, 'amongst': 218, 'wacky': 4769, 'hbo': 2055, 'logical': 2639, 'recall': 3562, 'host': 2173, '20th': 38, 'demands': 1175, 'christians': 809, 'bbc': 417, 'ruins': 3752, 'capital': 673, 'letters': 2582, 'pulp': 3465, 'brand': 565, 'fabulous': 1615, 'topless': 4527, 'fred': 1825, 'nancy': 2964, 'betty': 474, 'anthony': 253, 'wolf': 4920, 'castle': 712, 'doll': 1313, 'newspaper': 3006, 'repeat': 3630, 'dinosaur': 1255, 'inner': 2292, 'service': 3896, 'composed': 926, 'holy': 2140, 'sincere': 3991, 'essentially': 1523, 'trade': 4547, 'villains': 4745, 'hatred': 2049, 'campbell': 663, 'critic': 1061, 'normally': 3034, 'bodies': 526, 'laura': 2536, 'murderous': 2942, 'connected': 945, 'juvenile': 2441, 'parent': 3187, 'carrying': 701, '17': 9, 'grant': 1956, 'imagined': 2239, 'buddy': 609, 'honor': 2150, 'harris': 2038, 'doubts': 1333, 'inferior': 2285, 'danes': 1108, 'richardson': 3688, 'glenn': 1918, 'treasure': 4571, 'repeated': 3631, 'hugh': 2186, 'endure': 1475, 'serving': 3897, 'struck': 4232, 'popcorn': 3331, 'affect': 136, 'raising': 3509, 'julie': 2428, 'jungle': 2434, 'museum': 2945, 'planning': 3291, 'thrill': 4471, 'battles': 415, 'martial': 2747, 'stinker': 4191, 'omen': 3104, 'gundam': 1997, 'trained': 4557, 'suits': 4287, 'heat': 2067, 'painted': 3174, 'loosely': 2651, 'wound': 4960, 'colorful': 878, 'pat': 3208, 'screams': 3828, 'ape': 266, 'jealous': 2388, 'breasts': 572, 'ear': 1397, 'talked': 4359, 'performed': 3230, 'closely': 855, 'ireland': 2352, 'horrific': 2166, 'fest': 1696, 'cake': 648, 'remind': 3618, 'closet': 858, 'unknown': 4668, 'rap': 3520, 'leonard': 2572, 'reviewer': 3677, 'brains': 563, 'everyones': 1543, '24': 39, 'push': 3477, 'neck': 2985, 'butler': 637, 'wet': 4855, 'bull': 619, 'scripted': 3835, 'toy': 4542, 'progress': 3425, 'risk': 3704, 'implausible': 2245, 'frustrated': 1842, 'ideal': 2214, 'plant': 3293, 'nowadays': 3055, 'concern': 931, 'loser': 2655, 'demand': 1174, 'possibilities': 3348, 'jet': 2400, 'warrior': 4802, 'albeit': 173, 'stunt': 4245, 'explosion': 1596, 'waited': 4771, 'rocket': 3721, 'unintentional': 4658, 'bette': 471, 'mildred': 2841, 'struggles': 4235, 'warner': 4799, 'sacrifice': 3766, 'huh': 2187, 'mouse': 2919, 'frankenstein': 1822, 'rachel': 3500, 'elephant': 1444, 'macy': 2695, 'moore': 2901, 'foul': 1810, 'extended': 1604, 'destruction': 1216, 'mickey': 2831, 'hearing': 2063, 'babe': 375, 'bigger': 479, 'lifetime': 2594, 'forms': 1801, 'minded': 2850, 'indians': 2275, 'meaningful': 2781, 'delight': 1167, 'hung': 2197, 'burns': 628, 'akshay': 169, 'kapoor': 2443, 'khan': 2459, 'bullet': 620, 'bathroom': 412, 'target': 4366, 'voices': 4763, 'tedious': 4387, 'shining': 3933, 'facts': 1624, 'graphics': 1959, 'complaint': 920, 'faithful': 1634, 'philosophical': 3253, 'bleak': 503, 'relations': 3596, 'examples': 1554, 'depiction': 1185, 'destroying': 1215, 'remarks': 3615, 'identity': 2217, 'savage': 3793, 'abusive': 75, 'nine': 3017, 'duo': 1386, 'derek': 1192, 'tarzan': 4367, 'thru': 4483, 'displayed': 1292, 'anywhere': 263, 'burn': 625, 'guessing': 1991, 'poverty': 3357, 'purchased': 3470, 'suited': 4286, 'sitcom': 4004, 'regard': 3588, 'walls': 4783, 'jaw': 2384, 'spooky': 4128, 'disturbed': 1299, 'guarantee': 1987, 'sexuality': 3909, 'photos': 3261, 'blake': 498, 'nelson': 2997, 'surrounding': 4319, '1933': 12, 'kim': 2475, 'dickens': 1240, 'caine': 647, 'basis': 408, '45': 50, 'developing': 1224, 'racist': 3503, 'cliche': 843, 'mask': 2752, 'commit': 904, 'finger': 1731, 'occurs': 3078, 'murderer': 2941, 'hammer': 2014, 'library': 2589, 'passes': 3203, 'dick': 1239, 'directs': 1267, 'sits': 4006, 'ranks': 3519, 'alongside': 196, 'roberts': 3714, 'tons': 4520, 'andrew': 228, 'murphy': 2944, 'pearl': 3220, 'unit': 4663, 'hospital': 2172, 'overcome': 3151, 'troops': 4591, 'wounded': 4961, 'demons': 1178, 'defeat': 1157, 'pacino': 3164, 'neil': 2995, 'simon': 3982, '1999': 27, 'jay': 2386, 'fame': 1642, 'closed': 854, 'safety': 3772, 'thrills': 4475, 'turkey': 4604, 'bargain': 400, '2007': 37, 'reflection': 3585, 'notion': 3050, 'web': 4833, 'ironically': 2356, 'lucky': 2683, 'lone': 2642, 'unpredictable': 4675, 'required': 3641, 'aired': 165, 'elaborate': 1439, 'areas': 287, 'burned': 626, 'grey': 1973, 'warriors': 4803, 'demon': 1177, 'occasionally': 3075, 'eastern': 1408, 'earned': 1401, 'divorce': 1301, 'clown': 862, 'civil': 826, 'descent': 1193, 'warmth': 4796, 'cried': 1054, 'sean': 3840, 'saga': 3773, 'waitress': 4773, 'sword': 4340, 'greedy': 1969, 'creep': 1051, 'sidney': 3968, 'workers': 4943, 'rights': 3697, 'precious': 3366, 'stood': 4199, 'emphasis': 1463, 'report': 3635, 'providing': 3451, 'realizes': 3554, 'pan': 3180, 'writes': 4970, 'ingredients': 2289, 'confidence': 938, 'cd': 728, 'sidekick': 3966, 'rose': 3739, 'wells': 4845, 'catching': 716, 'effectively': 1430, 'increasingly': 2268, 'grow': 1982, '2nd': 41, 'females': 1694, 'degree': 1164, 'chaos': 755, 'expressions': 1603, 'fx': 1858, 'lay': 2542, 'awake': 365, 'intrigue': 2333, 'complexity': 924, 'smoking': 4040, 'dare': 1113, 'population': 3335, 'burning': 627, 'opinions': 3119, 'andrews': 229, 'reached': 3537, 'considerable': 950, 'roman': 3731, 'goldberg': 1933, 'strangers': 4214, 'lees': 2560, 'monk': 2889, 'twelve': 4611, 'sarah': 3785, 'agreed': 156, 'attitudes': 347, 'bud': 607, 'per': 3223, '1990s': 25, 'benefit': 465, 'blair': 497, 'molly': 2884, 'demented': 1176, 'selfish': 3870, 'alcohol': 176, 'devils': 1229, 'bat': 410, 'fancy': 1649, 'watches': 4814, 'ensemble': 1492, 'downright': 1337, 'hitler': 2124, 'ah': 158, 'existed': 1570, 'atlantis': 332, 'creator': 1043, 'wished': 4905, 'disappeared': 1271, 'cg': 739, 'rage': 3505, 'mysteries': 2954, 'robbery': 3711, 'da': 1094, 'upset': 4687, 'eighties': 1437, 'eg': 1434, 'hilariously': 2107, 'equivalent': 1512, 'rubber': 3747, 'iii': 2227, 'promises': 3432, 'poem': 3312, 'rambo': 3511, 'jaws': 2385, 'spike': 4111, 'mundane': 2938, '1960s': 15, 'masses': 2755, 'stupidity': 4248, 'simplicity': 3984, 'del': 1165, 'attend': 344, 'subplot': 4255, 'photographed': 3258, 'abysmal': 76, 'sullivan': 4288, 'skills': 4014, 'steven': 4182, 'seagal': 3839, 'lawrence': 2539, 'flawless': 1751, 'crisis': 1060, 'earl': 1398, 'blacks': 494, 'restaurant': 3658, 'circumstances': 822, 'aids': 161, 'terry': 4415, 'brazil': 568, 'entry': 1504, 'burt': 629, 'sir': 4000, 'swedish': 4335, 'easier': 1405, 'connect': 944, 'richards': 3687, 'peters': 3248, 'le': 2544, 'robbins': 3712, 'shines': 3932, 'speech': 4102, 'poetry': 3314, 'kudos': 2497, 'alternate': 200, 'june': 2433, 'cagney': 646, 'presumably': 3380, 'communist': 907, '1990': 24, 'hat': 2045, 'qualities': 3483, 'flow': 1762, 'agents': 151, 'enthusiasm': 1501, 'visits': 4756, 'involvement': 2347, 'blowing': 515, 'cheated': 775, 'hyde': 2206, 'adequate': 120, 'philosophy': 3254, 'picking': 3267, 'carried': 698, 'chances': 748, 'mummy': 2937, 'throws': 4482, 'petty': 3249, 'construction': 960, 'conservative': 948, 'britain': 588, 'australia': 356, 'neo': 2998, 'miserably': 2864, 'breathtaking': 574, 'videos': 4734, 'kay': 2447, 'agrees': 157, 'causing': 726, 'mentioning': 2812, '13th': 5, 'surfing': 4311, 'crocodile': 1065, 'introduce': 2336, 'luckily': 2682, 'crafted': 1029, 'wives': 4918, 'doc': 1303, 'glimpse': 1919, 'whale': 4857, 'shadows': 3913, 'counter': 1011, 'bush': 632, 'poetic': 3313, 'resulting': 3661, 'stress': 4220, 'greatly': 1967, 'historically': 2120, 'grandmother': 1955, 'berlin': 467, 'soviet': 4089, 'proceeds': 3411, 'batman': 413, 'westerns': 4854, 'clothing': 861, 'wishing': 4907, 'dust': 1388, 'fulci': 1845, 'curse': 1086, 'brooklyn': 595, 'interaction': 2322, 'absence': 70, 'glover': 1923, 'daring': 1114, 'shape': 3919, 'ties': 4490, 'subtitles': 4259, 'dub': 1378, 'creativity': 1042, 'worthless': 4954, 'spirits': 4115, 'fashioned': 1660, 'retired': 3664, 'mitchell': 2875, 'apes': 267, 'spielberg': 4110, 'elderly': 1440, 'exceptionally': 1559, 'creation': 1040, '35': 45, 'removed': 3624, 'union': 4661, 'link': 2613, 'germans': 1897, 'cube': 1076, 'inventive': 2341, 'jeremy': 2394, 'damage': 1099, 'brooks': 596, 'fisher': 1739, 'cure': 1081, 'authority': 360, 'johnson': 2411, 'desired': 1206, 'sticks': 4186, 'superhero': 4299, 'superman': 4301, 'wandering': 4785, 'guts': 1999, 'raymond': 3534, 'testament': 4417, 'larry': 2520, 'wealthy': 4827, 'ashamed': 312, 'arrogant': 303, 'buddies': 608, 'empathy': 1462, 'illness': 2230, 'lena': 2568, 'depression': 1189, 'format': 1799, 'moronic': 2907, 'duke': 1383, 'wishes': 4906, 'craig': 1030, 'folk': 1770, 'threat': 4467, 'franco': 1820, 'split': 4120, 'balls': 390, 'waves': 4819, 'linda': 2609, 'caliber': 649, 'paranoia': 3186, 'instinct': 2308, 'evident': 1547, 'cameron': 661, 'recognized': 3570, 'captain': 674, 'screens': 3832, 'tear': 4379, 'purposes': 3475, 'carrie': 697, 'corporate': 998, 'differences': 1247, 'backdrop': 379, 'basketball': 409, 'reflect': 3584, 'bakshi': 386, 'scooby': 3820, 'doo': 1325, 'messed': 2821, 'montana': 2895, 'awe': 370, 'stilted': 4190, 'ham': 2011, 'imaginative': 2237, 'emotionally': 1460, 'vaguely': 4706, 'mechanical': 2788, 'formulaic': 1803, 'strip': 4228, 'ha': 2002, 'flop': 1760, 'sequels': 3886, 'maggie': 2702, 'marks': 2742, 'abraham': 69, 'headed': 2058, 'prize': 3405, 'attorney': 348, 'rising': 3703, 'brady': 561, 'guessed': 1990, 'niro': 3019, 'ellen': 1446, 'honesty': 2148, 'someones': 4065, 'april': 284, 'unsettling': 4679, 'gritty': 1977, 'showdown': 3955, 'bin': 483, 'dollar': 1314, 'familys': 1646, 'reasonably': 3559, 'gray': 1963, 'wasting': 4810, 'equipment': 1511, 'astaire': 330, 'ginger': 1908, 'rick': 3689, 'compelled': 915, 'enterprise': 1495, 'defined': 1160, 'succeed': 4262, 'ho': 2127, 'horrors': 2169, 'kung': 2498, 'fu': 1844, 'distance': 1294, 'command': 897, 'chuck': 812, 'jackie': 2374, 'chan': 746, 'manhattan': 2726, '1968': 16, 'scores': 3823, 'boom': 537, 'repetitive': 3633, 'carl': 692, 'li': 2587, 'sadness': 3770, 'landing': 2512, 'facing': 1620, 'tad': 4347, 'strictly': 4223, 'classical': 836, 'acid': 95, 'inappropriate': 2259, 'businessman': 634, 'hart': 2041, 'jake': 2377, 'marty': 2749, 'slaughter': 4021, 'flynn': 1765, 'portion': 3338, 'trademark': 4548, 'amitabh': 216, 'bay': 416, 'tomatoes': 4515, 'taught': 4370, 'progresses': 3426, 'valuable': 4708, 'ruthless': 3764, 'tooth': 4524, 'proceedings': 3410, 'perry': 3237, 'cole': 873, 'species': 4098, 'notes': 3046, 'von': 4765, 'edition': 1422, 'cinematographer': 819, 'closest': 857, 'chess': 783, 'willis': 4890, 'arnold': 296, 'annie': 247, 'ethan': 1528, 'contest': 967, 'stereotype': 4178, 'bands': 392, 'failure': 1629, 'pot': 3354, 'versus': 4722, 'lumet': 2688, 'hanks': 2025, 'sid': 3964, 'unoriginal': 4673, 'india': 2273, 'mile': 2842, 'titanic': 4503, 'household': 2179, 'jeffrey': 2391, 'downhill': 1336, 'lively': 2627, 'september': 3884, 'pamela': 3179, 'diana': 1237, 'underlying': 4641, 'yesterday': 4983, 'belongs': 460, 'destiny': 1212, 'transformation': 4560, 'mars': 2746, 'devoted': 1231, 'iran': 2350, 'myers': 2952, 'reduced': 3579, 'ships': 3935, 'royal': 3746, 'scottish': 3825, 'garbo': 1871, 'inducing': 2279, 'seed': 3856, 'stooges': 4200, 'tender': 4401, 'pushing': 3479, 'voiced': 4762, 'solo': 4058, 'sinatra': 3989, 'kirk': 2482, 'robots': 3718, 'accompanied': 86, 'dubbing': 1380, 'cusack': 1088, 'nostalgia': 3038, 'kicked': 2461, 'similarly': 3980, 'resources': 3651, 'margaret': 2735, 'sunshine': 4294, 'gadget': 1860, 'miike': 2837, 'basement': 405, 'thrillers': 4473, 'bourne': 554, 'cities': 823, 'dire': 1257, 'purchase': 3469, 'sellers': 3872, 'rex': 3683, 'dinosaurs': 1256, 'ignorant': 2223, 'alexander': 180, 'cinemas': 817, 'possessed': 3347, '1972': 18, 'laughably': 2531, 'guilt': 1994, 'classes': 834, 'hamlet': 2013, 'carpenter': 694, 'angela': 232, 'square': 4136, 'killings': 2473, 'dentist': 1180, 'incompetent': 2266, 'gender': 1878, 'morality': 2903, 'manipulative': 2727, 'trail': 4553, 'scarecrow': 3804, 'terrorists': 4414, 'stated': 4161, 'nuts': 3064, 'iraq': 2351, 'ocean': 3079, 'stan': 4142, 'alert': 178, 'stones': 4198, 'gandhi': 1866, 'sandra': 3782, 'grinch': 1975, 'deceased': 1146, 'polanski': 3321, '1973': 19, 'stargate': 4151, 'mall': 2720, 'namely': 2962, 'domino': 1319, 'madonna': 2699, 'der': 1191, 'scrooge': 3837, 'pokemon': 3320, 'chorus': 803, 'priceless': 3390, 'boxing': 556, 'elvis': 1451}\n"
     ]
    }
   ],
   "source": [
    "print(str(vocabulary))"
   ]
  },
  {
   "cell_type": "markdown",
   "metadata": {},
   "source": [
    "Once you have added the endpoint name to the Lambda function, click on **Save**. Your Lambda function is now up and running. Next we need to create a way for our web app to execute the Lambda function."
   ]
  },
  {
   "cell_type": "markdown",
   "metadata": {},
   "source": [
    "### Setting up API Gateway\n",
    "\n",
    "Now that our Lambda function is set up, it is time to create a new API using API Gateway that will trigger the Lambda function we have just created.\n",
    "\n",
    "Using AWS Console, navigate to **Amazon API Gateway** and then click on **Get started**.\n",
    "\n",
    "On the next page, make sure that **New API** is selected and give the new api a name, for example, `sentiment_analysis_web_app`. Then, click on **Create API**.\n",
    "\n",
    "Now we have created an API, however it doesn't currently do anything. What we want it to do is to trigger the Lambda function that we created earlier.\n",
    "\n",
    "Select the **Actions** dropdown menu and click **Create Method**. A new blank method will be created, select its dropdown menu and select **POST**, then click on the check mark beside it.\n",
    "\n",
    "For the integration point, make sure that **Lambda Function** is selected and click on the **Use Lambda Proxy integration**. This option makes sure that the data that is sent to the API is then sent directly to the Lambda function with no processing. It also means that the return value must be a proper response object as it will also not be processed by API Gateway.\n",
    "\n",
    "Type the name of the Lambda function you created earlier into the **Lambda Function** text entry box and then click on **Save**. Click on **OK** in the pop-up box that then appears, giving permission to API Gateway to invoke the Lambda function you created.\n",
    "\n",
    "The last step in creating the API Gateway is to select the **Actions** dropdown and click on **Deploy API**. You will need to create a new Deployment stage and name it anything you like, for example `prod`.\n",
    "\n",
    "You have now successfully set up a public API to access your SageMaker model. Make sure to copy or write down the URL provided to invoke your newly created public API as this will be needed in the next step. This URL can be found at the top of the page, highlighted in blue next to the text **Invoke URL**."
   ]
  },
  {
   "cell_type": "markdown",
   "metadata": {},
   "source": [
    "## Step 7: Deploying our web app\n",
    "\n",
    "Now that we have a publicly available API, we can start using it in a web app. For our purposes, we have provided a simple static html file which can make use of the public api you created earlier.\n",
    "\n",
    "In the `website` folder there should be a file called `index.html`. Download the file to your computer and open that file up in a text editor of your choice. There should be a line which contains **\\*\\*REPLACE WITH PUBLIC API URL\\*\\***. Replace this string with the url that you wrote down in the last step and then save the file.\n",
    "\n",
    "Now, if you open `index.html` on your local computer, your browser will behave as a local web server and you can use the provided site to interact with your SageMaker model.\n",
    "\n",
    "If you'd like to go further, you can host this html file anywhere you'd like, for example using github or hosting a static site on Amazon's S3. Once you have done this you can share the link with anyone you'd like and have them play with it too!\n",
    "\n",
    "> **Important Note** In order for the web app to communicate with the SageMaker endpoint, the endpoint has to actually be deployed and running. This means that you are paying for it. Make sure that the endpoint is running when you want to use the web app but that you shut it down when you don't need it, otherwise you will end up with a surprisingly large AWS bill."
   ]
  },
  {
   "cell_type": "markdown",
   "metadata": {},
   "source": [
    "### Delete the endpoint\n",
    "\n",
    "Remember to always shut down your endpoint if you are no longer using it. You are charged for the length of time that the endpoint is running so if you forget and leave it on you could end up with an unexpectedly large bill."
   ]
  },
  {
   "cell_type": "code",
   "execution_count": 33,
   "metadata": {},
   "outputs": [],
   "source": [
    "xgb_predictor.delete_endpoint()"
   ]
  },
  {
   "cell_type": "markdown",
   "metadata": {},
   "source": [
    "## Optional: Clean up\n",
    "\n",
    "The default notebook instance on SageMaker doesn't have a lot of excess disk space available. As you continue to complete and execute notebooks you will eventually fill up this disk space, leading to errors which can be difficult to diagnose. Once you are completely finished using a notebook it is a good idea to remove the files that you created along the way. Of course, you can do this from the terminal or from the notebook hub if you would like. The cell below contains some commands to clean up the created files from within the notebook."
   ]
  },
  {
   "cell_type": "code",
   "execution_count": null,
   "metadata": {},
   "outputs": [],
   "source": [
    "# First we will remove all of the files contained in the data_dir directory\n",
    "!rm $data_dir/*\n",
    "\n",
    "# And then we delete the directory itself\n",
    "!rmdir $data_dir\n",
    "\n",
    "# Similarly we remove the files in the cache_dir directory and the directory itself\n",
    "!rm $cache_dir/*\n",
    "!rmdir $cache_dir"
   ]
  },
  {
   "cell_type": "code",
   "execution_count": null,
   "metadata": {},
   "outputs": [],
   "source": []
  }
 ],
 "metadata": {
  "kernelspec": {
   "display_name": "conda_python3",
   "language": "python",
   "name": "conda_python3"
  },
  "language_info": {
   "codemirror_mode": {
    "name": "ipython",
    "version": 3
   },
   "file_extension": ".py",
   "mimetype": "text/x-python",
   "name": "python",
   "nbconvert_exporter": "python",
   "pygments_lexer": "ipython3",
   "version": "3.6.5"
  }
 },
 "nbformat": 4,
 "nbformat_minor": 2
}
